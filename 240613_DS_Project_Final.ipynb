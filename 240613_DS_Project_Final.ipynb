{
  "nbformat": 4,
  "nbformat_minor": 0,
  "metadata": {
    "colab": {
      "provenance": [],
      "include_colab_link": true
    },
    "kernelspec": {
      "name": "python3",
      "display_name": "Python 3"
    },
    "language_info": {
      "name": "python"
    }
  },
  "cells": [
    {
      "cell_type": "markdown",
      "metadata": {
        "id": "view-in-github",
        "colab_type": "text"
      },
      "source": [
        "<a href=\"https://colab.research.google.com/github/oprostep/2024-Spring-DS/blob/main/240613_DS_Project_Final.ipynb\" target=\"_parent\"><img src=\"https://colab.research.google.com/assets/colab-badge.svg\" alt=\"Open In Colab\"/></a>"
      ]
    },
    {
      "cell_type": "markdown",
      "source": [
        "# 0. Importing & Setting"
      ],
      "metadata": {
        "id": "H-tXn0UxEgGJ"
      }
    },
    {
      "cell_type": "code",
      "execution_count": 1,
      "metadata": {
        "id": "UsXHIs1MeXuG"
      },
      "outputs": [],
      "source": [
        "import numpy as np\n",
        "import pandas as pd\n",
        "import seaborn as sns\n",
        "import matplotlib.pyplot as plt\n",
        "\n",
        "pd.set_option(\"display.max_columns\" ,None)"
      ]
    },
    {
      "cell_type": "code",
      "source": [
        "targetUrl = \"https://raw.githubusercontent.com/oprostep/2024-Spring-DS/main/smartphone_cleaned_v5.csv\"\n",
        "\n",
        "# Parsing\n",
        "df = pd.read_csv(targetUrl, sep=',', dtype={'fast_charging_available': bool, 'extended_memory_available':bool})\n",
        "df.head()"
      ],
      "metadata": {
        "colab": {
          "base_uri": "https://localhost:8080/",
          "height": 382
        },
        "id": "XBgP7hp0ek3Q",
        "outputId": "0a8da7d4-d480-4470-de61-dd15cfc18139"
      },
      "execution_count": 2,
      "outputs": [
        {
          "output_type": "execute_result",
          "data": {
            "text/plain": [
              "  brand_name                      model  price  rating  has_5g  has_nfc  \\\n",
              "0    oneplus              OnePlus 11 5G  54999    89.0    True     True   \n",
              "1    oneplus  OnePlus Nord CE 2 Lite 5G  19989    81.0    True    False   \n",
              "2    samsung      Samsung Galaxy A14 5G  16499    75.0    True    False   \n",
              "3   motorola       Motorola Moto G62 5G  14999    81.0    True    False   \n",
              "4     realme         Realme 10 Pro Plus  24999    82.0    True    False   \n",
              "\n",
              "   has_ir_blaster processor_brand  num_cores  processor_speed  \\\n",
              "0           False      snapdragon        8.0              3.2   \n",
              "1           False      snapdragon        8.0              2.2   \n",
              "2           False          exynos        8.0              2.4   \n",
              "3           False      snapdragon        8.0              2.2   \n",
              "4           False       dimensity        8.0              2.6   \n",
              "\n",
              "   battery_capacity  fast_charging_available  fast_charging  ram_capacity  \\\n",
              "0            5000.0                     True          100.0          12.0   \n",
              "1            5000.0                     True           33.0           6.0   \n",
              "2            5000.0                     True           15.0           4.0   \n",
              "3            5000.0                     True            NaN           6.0   \n",
              "4            5000.0                     True           67.0           6.0   \n",
              "\n",
              "   internal_memory  screen_size  refresh_rate    resolution  num_rear_cameras  \\\n",
              "0            256.0         6.70           120  1440 x 3216                  3   \n",
              "1            128.0         6.59           120  1080 x 2412                  3   \n",
              "2             64.0         6.60            90  1080 x 2408                  3   \n",
              "3            128.0         6.55           120  1080 x 2400                  3   \n",
              "4            128.0         6.70           120  1080 x 2412                  3   \n",
              "\n",
              "   num_front_cameras       os  primary_camera_rear  primary_camera_front  \\\n",
              "0                1.0  android                 50.0                  16.0   \n",
              "1                1.0  android                 64.0                  16.0   \n",
              "2                1.0  android                 50.0                  13.0   \n",
              "3                1.0  android                 50.0                  16.0   \n",
              "4                1.0  android                108.0                  16.0   \n",
              "\n",
              "   extended_memory_available  extended_upto  \n",
              "0                      False            NaN  \n",
              "1                       True         1024.0  \n",
              "2                       True         1024.0  \n",
              "3                       True         1024.0  \n",
              "4                      False            NaN  "
            ],
            "text/html": [
              "\n",
              "  <div id=\"df-c1dd1de1-3999-4909-a8b6-4f09dbdbe7fb\" class=\"colab-df-container\">\n",
              "    <div>\n",
              "<style scoped>\n",
              "    .dataframe tbody tr th:only-of-type {\n",
              "        vertical-align: middle;\n",
              "    }\n",
              "\n",
              "    .dataframe tbody tr th {\n",
              "        vertical-align: top;\n",
              "    }\n",
              "\n",
              "    .dataframe thead th {\n",
              "        text-align: right;\n",
              "    }\n",
              "</style>\n",
              "<table border=\"1\" class=\"dataframe\">\n",
              "  <thead>\n",
              "    <tr style=\"text-align: right;\">\n",
              "      <th></th>\n",
              "      <th>brand_name</th>\n",
              "      <th>model</th>\n",
              "      <th>price</th>\n",
              "      <th>rating</th>\n",
              "      <th>has_5g</th>\n",
              "      <th>has_nfc</th>\n",
              "      <th>has_ir_blaster</th>\n",
              "      <th>processor_brand</th>\n",
              "      <th>num_cores</th>\n",
              "      <th>processor_speed</th>\n",
              "      <th>battery_capacity</th>\n",
              "      <th>fast_charging_available</th>\n",
              "      <th>fast_charging</th>\n",
              "      <th>ram_capacity</th>\n",
              "      <th>internal_memory</th>\n",
              "      <th>screen_size</th>\n",
              "      <th>refresh_rate</th>\n",
              "      <th>resolution</th>\n",
              "      <th>num_rear_cameras</th>\n",
              "      <th>num_front_cameras</th>\n",
              "      <th>os</th>\n",
              "      <th>primary_camera_rear</th>\n",
              "      <th>primary_camera_front</th>\n",
              "      <th>extended_memory_available</th>\n",
              "      <th>extended_upto</th>\n",
              "    </tr>\n",
              "  </thead>\n",
              "  <tbody>\n",
              "    <tr>\n",
              "      <th>0</th>\n",
              "      <td>oneplus</td>\n",
              "      <td>OnePlus 11 5G</td>\n",
              "      <td>54999</td>\n",
              "      <td>89.0</td>\n",
              "      <td>True</td>\n",
              "      <td>True</td>\n",
              "      <td>False</td>\n",
              "      <td>snapdragon</td>\n",
              "      <td>8.0</td>\n",
              "      <td>3.2</td>\n",
              "      <td>5000.0</td>\n",
              "      <td>True</td>\n",
              "      <td>100.0</td>\n",
              "      <td>12.0</td>\n",
              "      <td>256.0</td>\n",
              "      <td>6.70</td>\n",
              "      <td>120</td>\n",
              "      <td>1440 x 3216</td>\n",
              "      <td>3</td>\n",
              "      <td>1.0</td>\n",
              "      <td>android</td>\n",
              "      <td>50.0</td>\n",
              "      <td>16.0</td>\n",
              "      <td>False</td>\n",
              "      <td>NaN</td>\n",
              "    </tr>\n",
              "    <tr>\n",
              "      <th>1</th>\n",
              "      <td>oneplus</td>\n",
              "      <td>OnePlus Nord CE 2 Lite 5G</td>\n",
              "      <td>19989</td>\n",
              "      <td>81.0</td>\n",
              "      <td>True</td>\n",
              "      <td>False</td>\n",
              "      <td>False</td>\n",
              "      <td>snapdragon</td>\n",
              "      <td>8.0</td>\n",
              "      <td>2.2</td>\n",
              "      <td>5000.0</td>\n",
              "      <td>True</td>\n",
              "      <td>33.0</td>\n",
              "      <td>6.0</td>\n",
              "      <td>128.0</td>\n",
              "      <td>6.59</td>\n",
              "      <td>120</td>\n",
              "      <td>1080 x 2412</td>\n",
              "      <td>3</td>\n",
              "      <td>1.0</td>\n",
              "      <td>android</td>\n",
              "      <td>64.0</td>\n",
              "      <td>16.0</td>\n",
              "      <td>True</td>\n",
              "      <td>1024.0</td>\n",
              "    </tr>\n",
              "    <tr>\n",
              "      <th>2</th>\n",
              "      <td>samsung</td>\n",
              "      <td>Samsung Galaxy A14 5G</td>\n",
              "      <td>16499</td>\n",
              "      <td>75.0</td>\n",
              "      <td>True</td>\n",
              "      <td>False</td>\n",
              "      <td>False</td>\n",
              "      <td>exynos</td>\n",
              "      <td>8.0</td>\n",
              "      <td>2.4</td>\n",
              "      <td>5000.0</td>\n",
              "      <td>True</td>\n",
              "      <td>15.0</td>\n",
              "      <td>4.0</td>\n",
              "      <td>64.0</td>\n",
              "      <td>6.60</td>\n",
              "      <td>90</td>\n",
              "      <td>1080 x 2408</td>\n",
              "      <td>3</td>\n",
              "      <td>1.0</td>\n",
              "      <td>android</td>\n",
              "      <td>50.0</td>\n",
              "      <td>13.0</td>\n",
              "      <td>True</td>\n",
              "      <td>1024.0</td>\n",
              "    </tr>\n",
              "    <tr>\n",
              "      <th>3</th>\n",
              "      <td>motorola</td>\n",
              "      <td>Motorola Moto G62 5G</td>\n",
              "      <td>14999</td>\n",
              "      <td>81.0</td>\n",
              "      <td>True</td>\n",
              "      <td>False</td>\n",
              "      <td>False</td>\n",
              "      <td>snapdragon</td>\n",
              "      <td>8.0</td>\n",
              "      <td>2.2</td>\n",
              "      <td>5000.0</td>\n",
              "      <td>True</td>\n",
              "      <td>NaN</td>\n",
              "      <td>6.0</td>\n",
              "      <td>128.0</td>\n",
              "      <td>6.55</td>\n",
              "      <td>120</td>\n",
              "      <td>1080 x 2400</td>\n",
              "      <td>3</td>\n",
              "      <td>1.0</td>\n",
              "      <td>android</td>\n",
              "      <td>50.0</td>\n",
              "      <td>16.0</td>\n",
              "      <td>True</td>\n",
              "      <td>1024.0</td>\n",
              "    </tr>\n",
              "    <tr>\n",
              "      <th>4</th>\n",
              "      <td>realme</td>\n",
              "      <td>Realme 10 Pro Plus</td>\n",
              "      <td>24999</td>\n",
              "      <td>82.0</td>\n",
              "      <td>True</td>\n",
              "      <td>False</td>\n",
              "      <td>False</td>\n",
              "      <td>dimensity</td>\n",
              "      <td>8.0</td>\n",
              "      <td>2.6</td>\n",
              "      <td>5000.0</td>\n",
              "      <td>True</td>\n",
              "      <td>67.0</td>\n",
              "      <td>6.0</td>\n",
              "      <td>128.0</td>\n",
              "      <td>6.70</td>\n",
              "      <td>120</td>\n",
              "      <td>1080 x 2412</td>\n",
              "      <td>3</td>\n",
              "      <td>1.0</td>\n",
              "      <td>android</td>\n",
              "      <td>108.0</td>\n",
              "      <td>16.0</td>\n",
              "      <td>False</td>\n",
              "      <td>NaN</td>\n",
              "    </tr>\n",
              "  </tbody>\n",
              "</table>\n",
              "</div>\n",
              "    <div class=\"colab-df-buttons\">\n",
              "\n",
              "  <div class=\"colab-df-container\">\n",
              "    <button class=\"colab-df-convert\" onclick=\"convertToInteractive('df-c1dd1de1-3999-4909-a8b6-4f09dbdbe7fb')\"\n",
              "            title=\"Convert this dataframe to an interactive table.\"\n",
              "            style=\"display:none;\">\n",
              "\n",
              "  <svg xmlns=\"http://www.w3.org/2000/svg\" height=\"24px\" viewBox=\"0 -960 960 960\">\n",
              "    <path d=\"M120-120v-720h720v720H120Zm60-500h600v-160H180v160Zm220 220h160v-160H400v160Zm0 220h160v-160H400v160ZM180-400h160v-160H180v160Zm440 0h160v-160H620v160ZM180-180h160v-160H180v160Zm440 0h160v-160H620v160Z\"/>\n",
              "  </svg>\n",
              "    </button>\n",
              "\n",
              "  <style>\n",
              "    .colab-df-container {\n",
              "      display:flex;\n",
              "      gap: 12px;\n",
              "    }\n",
              "\n",
              "    .colab-df-convert {\n",
              "      background-color: #E8F0FE;\n",
              "      border: none;\n",
              "      border-radius: 50%;\n",
              "      cursor: pointer;\n",
              "      display: none;\n",
              "      fill: #1967D2;\n",
              "      height: 32px;\n",
              "      padding: 0 0 0 0;\n",
              "      width: 32px;\n",
              "    }\n",
              "\n",
              "    .colab-df-convert:hover {\n",
              "      background-color: #E2EBFA;\n",
              "      box-shadow: 0px 1px 2px rgba(60, 64, 67, 0.3), 0px 1px 3px 1px rgba(60, 64, 67, 0.15);\n",
              "      fill: #174EA6;\n",
              "    }\n",
              "\n",
              "    .colab-df-buttons div {\n",
              "      margin-bottom: 4px;\n",
              "    }\n",
              "\n",
              "    [theme=dark] .colab-df-convert {\n",
              "      background-color: #3B4455;\n",
              "      fill: #D2E3FC;\n",
              "    }\n",
              "\n",
              "    [theme=dark] .colab-df-convert:hover {\n",
              "      background-color: #434B5C;\n",
              "      box-shadow: 0px 1px 3px 1px rgba(0, 0, 0, 0.15);\n",
              "      filter: drop-shadow(0px 1px 2px rgba(0, 0, 0, 0.3));\n",
              "      fill: #FFFFFF;\n",
              "    }\n",
              "  </style>\n",
              "\n",
              "    <script>\n",
              "      const buttonEl =\n",
              "        document.querySelector('#df-c1dd1de1-3999-4909-a8b6-4f09dbdbe7fb button.colab-df-convert');\n",
              "      buttonEl.style.display =\n",
              "        google.colab.kernel.accessAllowed ? 'block' : 'none';\n",
              "\n",
              "      async function convertToInteractive(key) {\n",
              "        const element = document.querySelector('#df-c1dd1de1-3999-4909-a8b6-4f09dbdbe7fb');\n",
              "        const dataTable =\n",
              "          await google.colab.kernel.invokeFunction('convertToInteractive',\n",
              "                                                    [key], {});\n",
              "        if (!dataTable) return;\n",
              "\n",
              "        const docLinkHtml = 'Like what you see? Visit the ' +\n",
              "          '<a target=\"_blank\" href=https://colab.research.google.com/notebooks/data_table.ipynb>data table notebook</a>'\n",
              "          + ' to learn more about interactive tables.';\n",
              "        element.innerHTML = '';\n",
              "        dataTable['output_type'] = 'display_data';\n",
              "        await google.colab.output.renderOutput(dataTable, element);\n",
              "        const docLink = document.createElement('div');\n",
              "        docLink.innerHTML = docLinkHtml;\n",
              "        element.appendChild(docLink);\n",
              "      }\n",
              "    </script>\n",
              "  </div>\n",
              "\n",
              "\n",
              "<div id=\"df-69ec8120-2125-423a-a395-cbea32cb3923\">\n",
              "  <button class=\"colab-df-quickchart\" onclick=\"quickchart('df-69ec8120-2125-423a-a395-cbea32cb3923')\"\n",
              "            title=\"Suggest charts\"\n",
              "            style=\"display:none;\">\n",
              "\n",
              "<svg xmlns=\"http://www.w3.org/2000/svg\" height=\"24px\"viewBox=\"0 0 24 24\"\n",
              "     width=\"24px\">\n",
              "    <g>\n",
              "        <path d=\"M19 3H5c-1.1 0-2 .9-2 2v14c0 1.1.9 2 2 2h14c1.1 0 2-.9 2-2V5c0-1.1-.9-2-2-2zM9 17H7v-7h2v7zm4 0h-2V7h2v10zm4 0h-2v-4h2v4z\"/>\n",
              "    </g>\n",
              "</svg>\n",
              "  </button>\n",
              "\n",
              "<style>\n",
              "  .colab-df-quickchart {\n",
              "      --bg-color: #E8F0FE;\n",
              "      --fill-color: #1967D2;\n",
              "      --hover-bg-color: #E2EBFA;\n",
              "      --hover-fill-color: #174EA6;\n",
              "      --disabled-fill-color: #AAA;\n",
              "      --disabled-bg-color: #DDD;\n",
              "  }\n",
              "\n",
              "  [theme=dark] .colab-df-quickchart {\n",
              "      --bg-color: #3B4455;\n",
              "      --fill-color: #D2E3FC;\n",
              "      --hover-bg-color: #434B5C;\n",
              "      --hover-fill-color: #FFFFFF;\n",
              "      --disabled-bg-color: #3B4455;\n",
              "      --disabled-fill-color: #666;\n",
              "  }\n",
              "\n",
              "  .colab-df-quickchart {\n",
              "    background-color: var(--bg-color);\n",
              "    border: none;\n",
              "    border-radius: 50%;\n",
              "    cursor: pointer;\n",
              "    display: none;\n",
              "    fill: var(--fill-color);\n",
              "    height: 32px;\n",
              "    padding: 0;\n",
              "    width: 32px;\n",
              "  }\n",
              "\n",
              "  .colab-df-quickchart:hover {\n",
              "    background-color: var(--hover-bg-color);\n",
              "    box-shadow: 0 1px 2px rgba(60, 64, 67, 0.3), 0 1px 3px 1px rgba(60, 64, 67, 0.15);\n",
              "    fill: var(--button-hover-fill-color);\n",
              "  }\n",
              "\n",
              "  .colab-df-quickchart-complete:disabled,\n",
              "  .colab-df-quickchart-complete:disabled:hover {\n",
              "    background-color: var(--disabled-bg-color);\n",
              "    fill: var(--disabled-fill-color);\n",
              "    box-shadow: none;\n",
              "  }\n",
              "\n",
              "  .colab-df-spinner {\n",
              "    border: 2px solid var(--fill-color);\n",
              "    border-color: transparent;\n",
              "    border-bottom-color: var(--fill-color);\n",
              "    animation:\n",
              "      spin 1s steps(1) infinite;\n",
              "  }\n",
              "\n",
              "  @keyframes spin {\n",
              "    0% {\n",
              "      border-color: transparent;\n",
              "      border-bottom-color: var(--fill-color);\n",
              "      border-left-color: var(--fill-color);\n",
              "    }\n",
              "    20% {\n",
              "      border-color: transparent;\n",
              "      border-left-color: var(--fill-color);\n",
              "      border-top-color: var(--fill-color);\n",
              "    }\n",
              "    30% {\n",
              "      border-color: transparent;\n",
              "      border-left-color: var(--fill-color);\n",
              "      border-top-color: var(--fill-color);\n",
              "      border-right-color: var(--fill-color);\n",
              "    }\n",
              "    40% {\n",
              "      border-color: transparent;\n",
              "      border-right-color: var(--fill-color);\n",
              "      border-top-color: var(--fill-color);\n",
              "    }\n",
              "    60% {\n",
              "      border-color: transparent;\n",
              "      border-right-color: var(--fill-color);\n",
              "    }\n",
              "    80% {\n",
              "      border-color: transparent;\n",
              "      border-right-color: var(--fill-color);\n",
              "      border-bottom-color: var(--fill-color);\n",
              "    }\n",
              "    90% {\n",
              "      border-color: transparent;\n",
              "      border-bottom-color: var(--fill-color);\n",
              "    }\n",
              "  }\n",
              "</style>\n",
              "\n",
              "  <script>\n",
              "    async function quickchart(key) {\n",
              "      const quickchartButtonEl =\n",
              "        document.querySelector('#' + key + ' button');\n",
              "      quickchartButtonEl.disabled = true;  // To prevent multiple clicks.\n",
              "      quickchartButtonEl.classList.add('colab-df-spinner');\n",
              "      try {\n",
              "        const charts = await google.colab.kernel.invokeFunction(\n",
              "            'suggestCharts', [key], {});\n",
              "      } catch (error) {\n",
              "        console.error('Error during call to suggestCharts:', error);\n",
              "      }\n",
              "      quickchartButtonEl.classList.remove('colab-df-spinner');\n",
              "      quickchartButtonEl.classList.add('colab-df-quickchart-complete');\n",
              "    }\n",
              "    (() => {\n",
              "      let quickchartButtonEl =\n",
              "        document.querySelector('#df-69ec8120-2125-423a-a395-cbea32cb3923 button');\n",
              "      quickchartButtonEl.style.display =\n",
              "        google.colab.kernel.accessAllowed ? 'block' : 'none';\n",
              "    })();\n",
              "  </script>\n",
              "</div>\n",
              "\n",
              "    </div>\n",
              "  </div>\n"
            ],
            "application/vnd.google.colaboratory.intrinsic+json": {
              "type": "dataframe",
              "variable_name": "df"
            }
          },
          "metadata": {},
          "execution_count": 2
        }
      ]
    },
    {
      "cell_type": "code",
      "source": [
        "df.info()"
      ],
      "metadata": {
        "colab": {
          "base_uri": "https://localhost:8080/"
        },
        "id": "Bbrxx8YVe28P",
        "outputId": "8d1ca9ca-69fe-402d-afbf-0f00e24533f2"
      },
      "execution_count": 3,
      "outputs": [
        {
          "output_type": "stream",
          "name": "stdout",
          "text": [
            "<class 'pandas.core.frame.DataFrame'>\n",
            "RangeIndex: 980 entries, 0 to 979\n",
            "Data columns (total 25 columns):\n",
            " #   Column                     Non-Null Count  Dtype  \n",
            "---  ------                     --------------  -----  \n",
            " 0   brand_name                 980 non-null    object \n",
            " 1   model                      980 non-null    object \n",
            " 2   price                      980 non-null    int64  \n",
            " 3   rating                     879 non-null    float64\n",
            " 4   has_5g                     980 non-null    bool   \n",
            " 5   has_nfc                    980 non-null    bool   \n",
            " 6   has_ir_blaster             980 non-null    bool   \n",
            " 7   processor_brand            960 non-null    object \n",
            " 8   num_cores                  974 non-null    float64\n",
            " 9   processor_speed            938 non-null    float64\n",
            " 10  battery_capacity           969 non-null    float64\n",
            " 11  fast_charging_available    980 non-null    bool   \n",
            " 12  fast_charging              769 non-null    float64\n",
            " 13  ram_capacity               980 non-null    float64\n",
            " 14  internal_memory            980 non-null    float64\n",
            " 15  screen_size                980 non-null    float64\n",
            " 16  refresh_rate               980 non-null    int64  \n",
            " 17  resolution                 980 non-null    object \n",
            " 18  num_rear_cameras           980 non-null    int64  \n",
            " 19  num_front_cameras          976 non-null    float64\n",
            " 20  os                         966 non-null    object \n",
            " 21  primary_camera_rear        980 non-null    float64\n",
            " 22  primary_camera_front       975 non-null    float64\n",
            " 23  extended_memory_available  980 non-null    bool   \n",
            " 24  extended_upto              500 non-null    float64\n",
            "dtypes: bool(5), float64(12), int64(3), object(5)\n",
            "memory usage: 158.0+ KB\n"
          ]
        }
      ]
    },
    {
      "cell_type": "markdown",
      "source": [
        "object와 bool 항목은 범주형 자료이므로 회귀분석을 위해선 변환해줄 필요가 있다."
      ],
      "metadata": {
        "id": "mzeMa1IGFaIX"
      }
    },
    {
      "cell_type": "code",
      "source": [
        "import missingno as msno\n",
        "\n",
        "msno.matrix(df)"
      ],
      "metadata": {
        "id": "e9x2yWCyE9zC",
        "outputId": "6963c042-efd3-42bc-ae57-2e8ee56950c2",
        "colab": {
          "base_uri": "https://localhost:8080/",
          "height": 693
        }
      },
      "execution_count": 4,
      "outputs": [
        {
          "output_type": "execute_result",
          "data": {
            "text/plain": [
              "<Axes: >"
            ]
          },
          "metadata": {},
          "execution_count": 4
        },
        {
          "output_type": "display_data",
          "data": {
            "text/plain": [
              "<Figure size 2500x1000 with 2 Axes>"
            ],
            "image/png": "[encoded data removed]"
          },
          "metadata": {}
        }
      ]
    },
    {
      "cell_type": "markdown",
      "source": [
        "결측치가 존재하는 항목 다수 확인 가능"
      ],
      "metadata": {
        "id": "k1Gbiq4miEgX"
      }
    },
    {
      "cell_type": "markdown",
      "source": [
        "# 1. EDA"
      ],
      "metadata": {
        "id": "RMN9sAHbFle1"
      }
    },
    {
      "cell_type": "code",
      "source": [
        "df.drop(columns='rating', inplace=True)"
      ],
      "metadata": {
        "id": "ya8BD3Rhb-BX"
      },
      "execution_count": 5,
      "outputs": []
    },
    {
      "cell_type": "markdown",
      "source": [
        "Target : 'price'\n",
        "\n",
        "Features : other attributes\n",
        "\n",
        "Drop : 'rating'\n",
        "\n",
        "이렇게 설정한다.\n",
        "\n",
        "rating의 경우 Target으로 사용이 가능하지만, 회귀분석에선 price에 집중하기위해 배제하기로 한다."
      ],
      "metadata": {
        "id": "1kN2cKnGfCbA"
      }
    },
    {
      "cell_type": "code",
      "source": [
        "df['price'] = round(df['price']*0.012, 2) #INR to USD\n",
        "df['price'].plot(kind='hist', title='Price Distribution');"
      ],
      "metadata": {
        "colab": {
          "base_uri": "https://localhost:8080/",
          "height": 452
        },
        "id": "4iVAYN3EfKj_",
        "outputId": "421fdc9c-bc1d-41ab-8fa8-145c69f886cc"
      },
      "execution_count": 6,
      "outputs": [
        {
          "output_type": "display_data",
          "data": {
            "text/plain": [
              "<Figure size 640x480 with 1 Axes>"
            ],
            "image/png": "[encoded data removed]"
          },
          "metadata": {}
        }
      ]
    },
    {
      "cell_type": "code",
      "source": [
        "high_cost_devices = df[df['price']>2500]  # 2500 USD (스마트폰 치고는 너무 비싼 가격) 이상의 제품들을 걸러낸다\n",
        "high_cost_devices"
      ],
      "metadata": {
        "colab": {
          "base_uri": "https://localhost:8080/",
          "height": 437
        },
        "id": "rM7izaSpjkNO",
        "outputId": "8303afc8-a00f-4ba6-fe75-632154a12fb7"
      },
      "execution_count": 7,
      "outputs": [
        {
          "output_type": "execute_result",
          "data": {
            "text/plain": [
              "    brand_name                                   model    price  has_5g  \\\n",
              "427      vertu                   Vertu Signature Touch  7800.00   False   \n",
              "478     huawei        Huawei Mate 50 RS Porsche Design  2879.99   False   \n",
              "887     xiaomi  Xiaomi Redmi K20 Pro Signature Edition  5760.00   False   \n",
              "951     huawei        Huawei Mate 30 RS Porsche Design  2579.88    True   \n",
              "\n",
              "     has_nfc  has_ir_blaster processor_brand  num_cores  processor_speed  \\\n",
              "427     True           False      snapdragon        8.0             1.50   \n",
              "478     True            True      snapdragon        8.0             3.20   \n",
              "887     True           False      snapdragon        8.0             2.80   \n",
              "951     True            True           kirin        8.0             2.86   \n",
              "\n",
              "     battery_capacity  fast_charging_available  fast_charging  ram_capacity  \\\n",
              "427            2275.0                    False            NaN           2.0   \n",
              "478            4700.0                     True           66.0          12.0   \n",
              "887            4000.0                     True           27.0           8.0   \n",
              "951            4500.0                     True            NaN          12.0   \n",
              "\n",
              "     internal_memory  screen_size  refresh_rate    resolution  \\\n",
              "427             64.0         4.70            60  1080 x 1920    \n",
              "478            512.0         6.74           120  1212 x 2616    \n",
              "887            256.0         6.39            60  1080 x 2340    \n",
              "951            512.0         6.53            60  1176 x 2400    \n",
              "\n",
              "     num_rear_cameras  num_front_cameras       os  primary_camera_rear  \\\n",
              "427                 1                1.0  android                 13.0   \n",
              "478                 3                1.0    other                 50.0   \n",
              "887                 3                1.0  android                 48.0   \n",
              "951                 4                2.0  android                 40.0   \n",
              "\n",
              "     primary_camera_front  extended_memory_available  extended_upto  \n",
              "427                   2.1                      False            NaN  \n",
              "478                  13.0                       True          256.0  \n",
              "887                  20.0                      False            NaN  \n",
              "951                  32.0                       True          256.0  "
            ],
            "text/html": [
              "\n",
              "  <div id=\"df-465a83a4-e44a-4f83-ad6b-416481cafd5a\" class=\"colab-df-container\">\n",
              "    <div>\n",
              "<style scoped>\n",
              "    .dataframe tbody tr th:only-of-type {\n",
              "        vertical-align: middle;\n",
              "    }\n",
              "\n",
              "    .dataframe tbody tr th {\n",
              "        vertical-align: top;\n",
              "    }\n",
              "\n",
              "    .dataframe thead th {\n",
              "        text-align: right;\n",
              "    }\n",
              "</style>\n",
              "<table border=\"1\" class=\"dataframe\">\n",
              "  <thead>\n",
              "    <tr style=\"text-align: right;\">\n",
              "      <th></th>\n",
              "      <th>brand_name</th>\n",
              "      <th>model</th>\n",
              "      <th>price</th>\n",
              "      <th>has_5g</th>\n",
              "      <th>has_nfc</th>\n",
              "      <th>has_ir_blaster</th>\n",
              "      <th>processor_brand</th>\n",
              "      <th>num_cores</th>\n",
              "      <th>processor_speed</th>\n",
              "      <th>battery_capacity</th>\n",
              "      <th>fast_charging_available</th>\n",
              "      <th>fast_charging</th>\n",
              "      <th>ram_capacity</th>\n",
              "      <th>internal_memory</th>\n",
              "      <th>screen_size</th>\n",
              "      <th>refresh_rate</th>\n",
              "      <th>resolution</th>\n",
              "      <th>num_rear_cameras</th>\n",
              "      <th>num_front_cameras</th>\n",
              "      <th>os</th>\n",
              "      <th>primary_camera_rear</th>\n",
              "      <th>primary_camera_front</th>\n",
              "      <th>extended_memory_available</th>\n",
              "      <th>extended_upto</th>\n",
              "    </tr>\n",
              "  </thead>\n",
              "  <tbody>\n",
              "    <tr>\n",
              "      <th>427</th>\n",
              "      <td>vertu</td>\n",
              "      <td>Vertu Signature Touch</td>\n",
              "      <td>7800.00</td>\n",
              "      <td>False</td>\n",
              "      <td>True</td>\n",
              "      <td>False</td>\n",
              "      <td>snapdragon</td>\n",
              "      <td>8.0</td>\n",
              "      <td>1.50</td>\n",
              "      <td>2275.0</td>\n",
              "      <td>False</td>\n",
              "      <td>NaN</td>\n",
              "      <td>2.0</td>\n",
              "      <td>64.0</td>\n",
              "      <td>4.70</td>\n",
              "      <td>60</td>\n",
              "      <td>1080 x 1920</td>\n",
              "      <td>1</td>\n",
              "      <td>1.0</td>\n",
              "      <td>android</td>\n",
              "      <td>13.0</td>\n",
              "      <td>2.1</td>\n",
              "      <td>False</td>\n",
              "      <td>NaN</td>\n",
              "    </tr>\n",
              "    <tr>\n",
              "      <th>478</th>\n",
              "      <td>huawei</td>\n",
              "      <td>Huawei Mate 50 RS Porsche Design</td>\n",
              "      <td>2879.99</td>\n",
              "      <td>False</td>\n",
              "      <td>True</td>\n",
              "      <td>True</td>\n",
              "      <td>snapdragon</td>\n",
              "      <td>8.0</td>\n",
              "      <td>3.20</td>\n",
              "      <td>4700.0</td>\n",
              "      <td>True</td>\n",
              "      <td>66.0</td>\n",
              "      <td>12.0</td>\n",
              "      <td>512.0</td>\n",
              "      <td>6.74</td>\n",
              "      <td>120</td>\n",
              "      <td>1212 x 2616</td>\n",
              "      <td>3</td>\n",
              "      <td>1.0</td>\n",
              "      <td>other</td>\n",
              "      <td>50.0</td>\n",
              "      <td>13.0</td>\n",
              "      <td>True</td>\n",
              "      <td>256.0</td>\n",
              "    </tr>\n",
              "    <tr>\n",
              "      <th>887</th>\n",
              "      <td>xiaomi</td>\n",
              "      <td>Xiaomi Redmi K20 Pro Signature Edition</td>\n",
              "      <td>5760.00</td>\n",
              "      <td>False</td>\n",
              "      <td>True</td>\n",
              "      <td>False</td>\n",
              "      <td>snapdragon</td>\n",
              "      <td>8.0</td>\n",
              "      <td>2.80</td>\n",
              "      <td>4000.0</td>\n",
              "      <td>True</td>\n",
              "      <td>27.0</td>\n",
              "      <td>8.0</td>\n",
              "      <td>256.0</td>\n",
              "      <td>6.39</td>\n",
              "      <td>60</td>\n",
              "      <td>1080 x 2340</td>\n",
              "      <td>3</td>\n",
              "      <td>1.0</td>\n",
              "      <td>android</td>\n",
              "      <td>48.0</td>\n",
              "      <td>20.0</td>\n",
              "      <td>False</td>\n",
              "      <td>NaN</td>\n",
              "    </tr>\n",
              "    <tr>\n",
              "      <th>951</th>\n",
              "      <td>huawei</td>\n",
              "      <td>Huawei Mate 30 RS Porsche Design</td>\n",
              "      <td>2579.88</td>\n",
              "      <td>True</td>\n",
              "      <td>True</td>\n",
              "      <td>True</td>\n",
              "      <td>kirin</td>\n",
              "      <td>8.0</td>\n",
              "      <td>2.86</td>\n",
              "      <td>4500.0</td>\n",
              "      <td>True</td>\n",
              "      <td>NaN</td>\n",
              "      <td>12.0</td>\n",
              "      <td>512.0</td>\n",
              "      <td>6.53</td>\n",
              "      <td>60</td>\n",
              "      <td>1176 x 2400</td>\n",
              "      <td>4</td>\n",
              "      <td>2.0</td>\n",
              "      <td>android</td>\n",
              "      <td>40.0</td>\n",
              "      <td>32.0</td>\n",
              "      <td>True</td>\n",
              "      <td>256.0</td>\n",
              "    </tr>\n",
              "  </tbody>\n",
              "</table>\n",
              "</div>\n",
              "    <div class=\"colab-df-buttons\">\n",
              "\n",
              "  <div class=\"colab-df-container\">\n",
              "    <button class=\"colab-df-convert\" onclick=\"convertToInteractive('df-465a83a4-e44a-4f83-ad6b-416481cafd5a')\"\n",
              "            title=\"Convert this dataframe to an interactive table.\"\n",
              "            style=\"display:none;\">\n",
              "\n",
              "  <svg xmlns=\"http://www.w3.org/2000/svg\" height=\"24px\" viewBox=\"0 -960 960 960\">\n",
              "    <path d=\"M120-120v-720h720v720H120Zm60-500h600v-160H180v160Zm220 220h160v-160H400v160Zm0 220h160v-160H400v160ZM180-400h160v-160H180v160Zm440 0h160v-160H620v160ZM180-180h160v-160H180v160Zm440 0h160v-160H620v160Z\"/>\n",
              "  </svg>\n",
              "    </button>\n",
              "\n",
              "  <style>\n",
              "    .colab-df-container {\n",
              "      display:flex;\n",
              "      gap: 12px;\n",
              "    }\n",
              "\n",
              "    .colab-df-convert {\n",
              "      background-color: #E8F0FE;\n",
              "      border: none;\n",
              "      border-radius: 50%;\n",
              "      cursor: pointer;\n",
              "      display: none;\n",
              "      fill: #1967D2;\n",
              "      height: 32px;\n",
              "      padding: 0 0 0 0;\n",
              "      width: 32px;\n",
              "    }\n",
              "\n",
              "    .colab-df-convert:hover {\n",
              "      background-color: #E2EBFA;\n",
              "      box-shadow: 0px 1px 2px rgba(60, 64, 67, 0.3), 0px 1px 3px 1px rgba(60, 64, 67, 0.15);\n",
              "      fill: #174EA6;\n",
              "    }\n",
              "\n",
              "    .colab-df-buttons div {\n",
              "      margin-bottom: 4px;\n",
              "    }\n",
              "\n",
              "    [theme=dark] .colab-df-convert {\n",
              "      background-color: #3B4455;\n",
              "      fill: #D2E3FC;\n",
              "    }\n",
              "\n",
              "    [theme=dark] .colab-df-convert:hover {\n",
              "      background-color: #434B5C;\n",
              "      box-shadow: 0px 1px 3px 1px rgba(0, 0, 0, 0.15);\n",
              "      filter: drop-shadow(0px 1px 2px rgba(0, 0, 0, 0.3));\n",
              "      fill: #FFFFFF;\n",
              "    }\n",
              "  </style>\n",
              "\n",
              "    <script>\n",
              "      const buttonEl =\n",
              "        document.querySelector('#df-465a83a4-e44a-4f83-ad6b-416481cafd5a button.colab-df-convert');\n",
              "      buttonEl.style.display =\n",
              "        google.colab.kernel.accessAllowed ? 'block' : 'none';\n",
              "\n",
              "      async function convertToInteractive(key) {\n",
              "        const element = document.querySelector('#df-465a83a4-e44a-4f83-ad6b-416481cafd5a');\n",
              "        const dataTable =\n",
              "          await google.colab.kernel.invokeFunction('convertToInteractive',\n",
              "                                                    [key], {});\n",
              "        if (!dataTable) return;\n",
              "\n",
              "        const docLinkHtml = 'Like what you see? Visit the ' +\n",
              "          '<a target=\"_blank\" href=https://colab.research.google.com/notebooks/data_table.ipynb>data table notebook</a>'\n",
              "          + ' to learn more about interactive tables.';\n",
              "        element.innerHTML = '';\n",
              "        dataTable['output_type'] = 'display_data';\n",
              "        await google.colab.output.renderOutput(dataTable, element);\n",
              "        const docLink = document.createElement('div');\n",
              "        docLink.innerHTML = docLinkHtml;\n",
              "        element.appendChild(docLink);\n",
              "      }\n",
              "    </script>\n",
              "  </div>\n",
              "\n",
              "\n",
              "<div id=\"df-d0b0218c-889d-4929-b81b-6721f5530a9b\">\n",
              "  <button class=\"colab-df-quickchart\" onclick=\"quickchart('df-d0b0218c-889d-4929-b81b-6721f5530a9b')\"\n",
              "            title=\"Suggest charts\"\n",
              "            style=\"display:none;\">\n",
              "\n",
              "<svg xmlns=\"http://www.w3.org/2000/svg\" height=\"24px\"viewBox=\"0 0 24 24\"\n",
              "     width=\"24px\">\n",
              "    <g>\n",
              "        <path d=\"M19 3H5c-1.1 0-2 .9-2 2v14c0 1.1.9 2 2 2h14c1.1 0 2-.9 2-2V5c0-1.1-.9-2-2-2zM9 17H7v-7h2v7zm4 0h-2V7h2v10zm4 0h-2v-4h2v4z\"/>\n",
              "    </g>\n",
              "</svg>\n",
              "  </button>\n",
              "\n",
              "<style>\n",
              "  .colab-df-quickchart {\n",
              "      --bg-color: #E8F0FE;\n",
              "      --fill-color: #1967D2;\n",
              "      --hover-bg-color: #E2EBFA;\n",
              "      --hover-fill-color: #174EA6;\n",
              "      --disabled-fill-color: #AAA;\n",
              "      --disabled-bg-color: #DDD;\n",
              "  }\n",
              "\n",
              "  [theme=dark] .colab-df-quickchart {\n",
              "      --bg-color: #3B4455;\n",
              "      --fill-color: #D2E3FC;\n",
              "      --hover-bg-color: #434B5C;\n",
              "      --hover-fill-color: #FFFFFF;\n",
              "      --disabled-bg-color: #3B4455;\n",
              "      --disabled-fill-color: #666;\n",
              "  }\n",
              "\n",
              "  .colab-df-quickchart {\n",
              "    background-color: var(--bg-color);\n",
              "    border: none;\n",
              "    border-radius: 50%;\n",
              "    cursor: pointer;\n",
              "    display: none;\n",
              "    fill: var(--fill-color);\n",
              "    height: 32px;\n",
              "    padding: 0;\n",
              "    width: 32px;\n",
              "  }\n",
              "\n",
              "  .colab-df-quickchart:hover {\n",
              "    background-color: var(--hover-bg-color);\n",
              "    box-shadow: 0 1px 2px rgba(60, 64, 67, 0.3), 0 1px 3px 1px rgba(60, 64, 67, 0.15);\n",
              "    fill: var(--button-hover-fill-color);\n",
              "  }\n",
              "\n",
              "  .colab-df-quickchart-complete:disabled,\n",
              "  .colab-df-quickchart-complete:disabled:hover {\n",
              "    background-color: var(--disabled-bg-color);\n",
              "    fill: var(--disabled-fill-color);\n",
              "    box-shadow: none;\n",
              "  }\n",
              "\n",
              "  .colab-df-spinner {\n",
              "    border: 2px solid var(--fill-color);\n",
              "    border-color: transparent;\n",
              "    border-bottom-color: var(--fill-color);\n",
              "    animation:\n",
              "      spin 1s steps(1) infinite;\n",
              "  }\n",
              "\n",
              "  @keyframes spin {\n",
              "    0% {\n",
              "      border-color: transparent;\n",
              "      border-bottom-color: var(--fill-color);\n",
              "      border-left-color: var(--fill-color);\n",
              "    }\n",
              "    20% {\n",
              "      border-color: transparent;\n",
              "      border-left-color: var(--fill-color);\n",
              "      border-top-color: var(--fill-color);\n",
              "    }\n",
              "    30% {\n",
              "      border-color: transparent;\n",
              "      border-left-color: var(--fill-color);\n",
              "      border-top-color: var(--fill-color);\n",
              "      border-right-color: var(--fill-color);\n",
              "    }\n",
              "    40% {\n",
              "      border-color: transparent;\n",
              "      border-right-color: var(--fill-color);\n",
              "      border-top-color: var(--fill-color);\n",
              "    }\n",
              "    60% {\n",
              "      border-color: transparent;\n",
              "      border-right-color: var(--fill-color);\n",
              "    }\n",
              "    80% {\n",
              "      border-color: transparent;\n",
              "      border-right-color: var(--fill-color);\n",
              "      border-bottom-color: var(--fill-color);\n",
              "    }\n",
              "    90% {\n",
              "      border-color: transparent;\n",
              "      border-bottom-color: var(--fill-color);\n",
              "    }\n",
              "  }\n",
              "</style>\n",
              "\n",
              "  <script>\n",
              "    async function quickchart(key) {\n",
              "      const quickchartButtonEl =\n",
              "        document.querySelector('#' + key + ' button');\n",
              "      quickchartButtonEl.disabled = true;  // To prevent multiple clicks.\n",
              "      quickchartButtonEl.classList.add('colab-df-spinner');\n",
              "      try {\n",
              "        const charts = await google.colab.kernel.invokeFunction(\n",
              "            'suggestCharts', [key], {});\n",
              "      } catch (error) {\n",
              "        console.error('Error during call to suggestCharts:', error);\n",
              "      }\n",
              "      quickchartButtonEl.classList.remove('colab-df-spinner');\n",
              "      quickchartButtonEl.classList.add('colab-df-quickchart-complete');\n",
              "    }\n",
              "    (() => {\n",
              "      let quickchartButtonEl =\n",
              "        document.querySelector('#df-d0b0218c-889d-4929-b81b-6721f5530a9b button');\n",
              "      quickchartButtonEl.style.display =\n",
              "        google.colab.kernel.accessAllowed ? 'block' : 'none';\n",
              "    })();\n",
              "  </script>\n",
              "</div>\n",
              "\n",
              "  <div id=\"id_063fa216-1fc9-4423-a2d7-710a851401fc\">\n",
              "    <style>\n",
              "      .colab-df-generate {\n",
              "        background-color: #E8F0FE;\n",
              "        border: none;\n",
              "        border-radius: 50%;\n",
              "        cursor: pointer;\n",
              "        display: none;\n",
              "        fill: #1967D2;\n",
              "        height: 32px;\n",
              "        padding: 0 0 0 0;\n",
              "        width: 32px;\n",
              "      }\n",
              "\n",
              "      .colab-df-generate:hover {\n",
              "        background-color: #E2EBFA;\n",
              "        box-shadow: 0px 1px 2px rgba(60, 64, 67, 0.3), 0px 1px 3px 1px rgba(60, 64, 67, 0.15);\n",
              "        fill: #174EA6;\n",
              "      }\n",
              "\n",
              "      [theme=dark] .colab-df-generate {\n",
              "        background-color: #3B4455;\n",
              "        fill: #D2E3FC;\n",
              "      }\n",
              "\n",
              "      [theme=dark] .colab-df-generate:hover {\n",
              "        background-color: #434B5C;\n",
              "        box-shadow: 0px 1px 3px 1px rgba(0, 0, 0, 0.15);\n",
              "        filter: drop-shadow(0px 1px 2px rgba(0, 0, 0, 0.3));\n",
              "        fill: #FFFFFF;\n",
              "      }\n",
              "    </style>\n",
              "    <button class=\"colab-df-generate\" onclick=\"generateWithVariable('high_cost_devices')\"\n",
              "            title=\"Generate code using this dataframe.\"\n",
              "            style=\"display:none;\">\n",
              "\n",
              "  <svg xmlns=\"http://www.w3.org/2000/svg\" height=\"24px\"viewBox=\"0 0 24 24\"\n",
              "       width=\"24px\">\n",
              "    <path d=\"M7,19H8.4L18.45,9,17,7.55,7,17.6ZM5,21V16.75L18.45,3.32a2,2,0,0,1,2.83,0l1.4,1.43a1.91,1.91,0,0,1,.58,1.4,1.91,1.91,0,0,1-.58,1.4L9.25,21ZM18.45,9,17,7.55Zm-12,3A5.31,5.31,0,0,0,4.9,8.1,5.31,5.31,0,0,0,1,6.5,5.31,5.31,0,0,0,4.9,4.9,5.31,5.31,0,0,0,6.5,1,5.31,5.31,0,0,0,8.1,4.9,5.31,5.31,0,0,0,12,6.5,5.46,5.46,0,0,0,6.5,12Z\"/>\n",
              "  </svg>\n",
              "    </button>\n",
              "    <script>\n",
              "      (() => {\n",
              "      const buttonEl =\n",
              "        document.querySelector('#id_063fa216-1fc9-4423-a2d7-710a851401fc button.colab-df-generate');\n",
              "      buttonEl.style.display =\n",
              "        google.colab.kernel.accessAllowed ? 'block' : 'none';\n",
              "\n",
              "      buttonEl.onclick = () => {\n",
              "        google.colab.notebook.generateWithVariable('high_cost_devices');\n",
              "      }\n",
              "      })();\n",
              "    </script>\n",
              "  </div>\n",
              "\n",
              "    </div>\n",
              "  </div>\n"
            ],
            "application/vnd.google.colaboratory.intrinsic+json": {
              "type": "dataframe",
              "variable_name": "high_cost_devices"
            }
          },
          "metadata": {},
          "execution_count": 7
        }
      ]
    },
    {
      "cell_type": "code",
      "source": [
        "df.drop(high_cost_devices.index, axis=0, inplace=True)"
      ],
      "metadata": {
        "id": "5ijO3DdO-RoW"
      },
      "execution_count": 8,
      "outputs": []
    },
    {
      "cell_type": "markdown",
      "source": [
        "확인 결과 Signature Edition, Porsche Design 등 시그니처 에디션이거나 한정판인 제품들이다.\n",
        "\n",
        "\n",
        "이런 제품들은 프리미엄이 붙어서 비싸지만 실제 성능은 비슷한 시기의 제품들과 큰 차이가 없기에, 모델의 적합도를 올리기 위해 제거해준다."
      ],
      "metadata": {
        "id": "dqLsjtiC_bY-"
      }
    },
    {
      "cell_type": "code",
      "source": [
        "def remove_outliers_based_on_IQR(df, column_name, plot_hist=False):\n",
        "    if plot_hist:\n",
        "        fig, axs = plt.subplots(1, 2, sharey=True, figsize=(15,3))\n",
        "        _, bins,_ = axs[0].hist(df[column_name])\n",
        "        axs[0].title.set_text('With outliers')\n",
        "    Q1 = df[column_name].quantile(0.25)\n",
        "    Q3 = df[column_name].quantile(0.75)\n",
        "    IQR = Q3 - Q1\n",
        "    lower_limit = Q1 - 1.5*IQR\n",
        "    higher_limit = Q3 + 1.5*IQR\n",
        "    print(f'For column: {column_name}\\nQ1 = {Q1}, Q3 = {Q3}, IQR = {IQR} \\nlower_limit = {lower_limit}, higher_limit = {higher_limit}')\n",
        "    previous_rows_number = df.shape[0]\n",
        "    df.drop( df[(df[column_name]<lower_limit) | (df[column_name]>higher_limit)].index, axis=0, inplace=True)\n",
        "    print(f\"{previous_rows_number - df.shape[0]} rows have been deleted.\")\n",
        "    if plot_hist:\n",
        "        axs[1].hist(df[column_name], bins=bins)\n",
        "        axs[1].title.set_text('Without outliers')"
      ],
      "metadata": {
        "id": "bZBi4-pKegGW"
      },
      "execution_count": 9,
      "outputs": []
    },
    {
      "cell_type": "code",
      "source": [
        "remove_outliers_based_on_IQR(df, 'price', plot_hist=True)"
      ],
      "metadata": {
        "colab": {
          "base_uri": "https://localhost:8080/",
          "height": 383
        },
        "id": "iE_eRZlQekjZ",
        "outputId": "7863b53a-cea7-4504-9442-8f9032f87f5c"
      },
      "execution_count": 10,
      "outputs": [
        {
          "output_type": "stream",
          "name": "stdout",
          "text": [
            "For column: price\n",
            "Q1 = 155.99, Q3 = 419.99, IQR = 264.0 \n",
            "lower_limit = -240.01, higher_limit = 815.99\n",
            "103 rows have been deleted.\n"
          ]
        },
        {
          "output_type": "display_data",
          "data": {
            "text/plain": [
              "<Figure size 1500x300 with 2 Axes>"
            ],
            "image/png": "[encoded data removed]"
          },
          "metadata": {}
        }
      ]
    },
    {
      "cell_type": "code",
      "source": [
        "remove_outliers_based_on_IQR(df, 'battery_capacity', plot_hist=True)"
      ],
      "metadata": {
        "colab": {
          "base_uri": "https://localhost:8080/",
          "height": 383
        },
        "id": "Bkv8uJvpeoZs",
        "outputId": "e1e369ce-49cd-48f5-8f84-6fabb41be3b3"
      },
      "execution_count": 11,
      "outputs": [
        {
          "output_type": "stream",
          "name": "stdout",
          "text": [
            "For column: battery_capacity\n",
            "Q1 = 4500.0, Q3 = 5000.0, IQR = 500.0 \n",
            "lower_limit = 3750.0, higher_limit = 5750.0\n",
            "106 rows have been deleted.\n"
          ]
        },
        {
          "output_type": "display_data",
          "data": {
            "text/plain": [
              "<Figure size 1500x300 with 2 Axes>"
            ],
            "image/png": "[encoded data removed]"
          },
          "metadata": {}
        }
      ]
    },
    {
      "cell_type": "code",
      "source": [
        "df_imputed = df.copy()"
      ],
      "metadata": {
        "id": "7t1aY-olH9DD"
      },
      "execution_count": 12,
      "outputs": []
    },
    {
      "cell_type": "markdown",
      "source": [
        "현재 DataFrame은 그대로 보존한채,\n",
        "\n",
        "회귀분석용으로 사용할 전처리된 데이터인 df_imputed DataFrame을 df를 기반으로 생성한다."
      ],
      "metadata": {
        "id": "oAPnK9ScIVL9"
      }
    },
    {
      "cell_type": "code",
      "source": [
        "price = ['price']\n",
        "brand_features = ['brand_name', 'model', 'os']\n",
        "processor_features = ['processor_brand', 'num_cores', 'processor_speed']\n",
        "battery_features = ['battery_capacity','fast_charging_available','fast_charging']\n",
        "memory_features = ['ram_capacity','internal_memory','extended_memory_available','extended_upto']\n",
        "screen_features = ['screen_size','refresh_rate','resolution']\n",
        "cameras_features = ['num_rear_cameras', 'primary_camera_rear','num_front_cameras', 'primary_camera_front']\n",
        "extra_features = ['has_5g', 'has_nfc', 'has_ir_blaster']"
      ],
      "metadata": {
        "id": "xRTu0tBDCAh9"
      },
      "execution_count": 13,
      "outputs": []
    },
    {
      "cell_type": "markdown",
      "source": [
        "Feature들이 워낙 많기때문에, 이를 총 7가지 범주 + price 와 rating으로 묶는다.\n",
        "\n",
        "이후 범주단위로 price와의 관계를 분석하고, 범주 내 feature들을 전처리한다."
      ],
      "metadata": {
        "id": "2_WMVB_eC1eM"
      }
    },
    {
      "cell_type": "code",
      "source": [
        "from sklearn.preprocessing import LabelEncoder\n",
        "le = LabelEncoder()"
      ],
      "metadata": {
        "id": "dN4h0UkZLmL3"
      },
      "execution_count": 14,
      "outputs": []
    },
    {
      "cell_type": "code",
      "source": [
        "def distribution_imputer(feature):\n",
        "  distribution = df_imputed[feature].value_counts(normalize=True)\n",
        "  impu_val = np.random.choice(distribution.index, size = df_imputed[feature].isna().sum(), p = distribution.values)\n",
        "  df_imputed.loc[df_imputed[df_imputed[feature].isna()].index, feature] = impu_val"
      ],
      "metadata": {
        "id": "eh_pJO-_jx6y"
      },
      "execution_count": 15,
      "outputs": []
    },
    {
      "cell_type": "markdown",
      "source": [
        "## brand_features"
      ],
      "metadata": {
        "id": "HUTMkuEVG676"
      }
    },
    {
      "cell_type": "markdown",
      "source": [
        "### brand_name"
      ],
      "metadata": {
        "id": "li6R6l52G-7S"
      }
    },
    {
      "cell_type": "code",
      "source": [
        "result = le.fit_transform(df_imputed['brand_name'])\n",
        "df_imputed['brand_name'] = result"
      ],
      "metadata": {
        "id": "1W0c2zaHHqvq"
      },
      "execution_count": 16,
      "outputs": []
    },
    {
      "cell_type": "code",
      "source": [
        "#brand_features.remove('brand_name')\n",
        "#df_imputed.drop(columns='brand_name', inplace=True)"
      ],
      "metadata": {
        "id": "fOoP2NefGOWu"
      },
      "execution_count": 17,
      "outputs": []
    },
    {
      "cell_type": "markdown",
      "source": [
        "### model"
      ],
      "metadata": {
        "id": "2E29_GwdHB-d"
      }
    },
    {
      "cell_type": "code",
      "source": [
        "# 모델명은 고유값이므로 제거해줌\n",
        "brand_features.remove('model')\n",
        "df_imputed.drop(columns='model', inplace=True)"
      ],
      "metadata": {
        "id": "wYoElM6kQlvt"
      },
      "execution_count": 18,
      "outputs": []
    },
    {
      "cell_type": "markdown",
      "source": [
        "### os"
      ],
      "metadata": {
        "id": "IRp5RWb8HD3t"
      }
    },
    {
      "cell_type": "code",
      "source": [
        "# 확인해본 결과 os가 기록되지 않은 데이터들은 전부 안드로이드 기반 운영체제를 사용함\n",
        "df_imputed['os'] = df_imputed['os'].fillna('android')"
      ],
      "metadata": {
        "id": "NvN1hJTxXW45"
      },
      "execution_count": 19,
      "outputs": []
    },
    {
      "cell_type": "code",
      "source": [
        "result = le.fit_transform(df_imputed['os'])\n",
        "df_imputed['os'] = result"
      ],
      "metadata": {
        "id": "VP5EyxCcRpII"
      },
      "execution_count": 20,
      "outputs": []
    },
    {
      "cell_type": "code",
      "source": [
        "#brand_features.remove('os')\n",
        "#df_imputed.drop(columns='os', inplace=True)"
      ],
      "metadata": {
        "id": "46Vx2a_xGTeO"
      },
      "execution_count": 21,
      "outputs": []
    },
    {
      "cell_type": "markdown",
      "source": [
        "## processor_features"
      ],
      "metadata": {
        "id": "1DFebKP_Ru4P"
      }
    },
    {
      "cell_type": "markdown",
      "source": [
        "### processor_brand"
      ],
      "metadata": {
        "id": "xkZ-5UnFbFjC"
      }
    },
    {
      "cell_type": "code",
      "source": [
        "df_imputed['processor_brand'] = df_imputed['processor_brand'].fillna('snapdragon')"
      ],
      "metadata": {
        "id": "hvOZ7N57bJ5B"
      },
      "execution_count": 22,
      "outputs": []
    },
    {
      "cell_type": "code",
      "source": [
        "result = le.fit_transform(df_imputed['processor_brand'])\n",
        "df_imputed['processor_brand'] = result"
      ],
      "metadata": {
        "id": "4tPiLCHybWJL"
      },
      "execution_count": 23,
      "outputs": []
    },
    {
      "cell_type": "code",
      "source": [
        "#processor_features.remove('processor_brand')\n",
        "#df_imputed.drop(columns='processor_brand', inplace=True)"
      ],
      "metadata": {
        "id": "CPEQJNmfGW19"
      },
      "execution_count": 24,
      "outputs": []
    },
    {
      "cell_type": "markdown",
      "source": [
        "### num_cores"
      ],
      "metadata": {
        "id": "SlLepfSrclWP"
      }
    },
    {
      "cell_type": "code",
      "source": [
        "distribution_imputer('num_cores')"
      ],
      "metadata": {
        "id": "NHhp7Fd_cmaz"
      },
      "execution_count": 25,
      "outputs": []
    },
    {
      "cell_type": "markdown",
      "source": [
        "### processor_speed"
      ],
      "metadata": {
        "id": "t4cHMpokdO2i"
      }
    },
    {
      "cell_type": "code",
      "source": [
        "distribution_imputer('processor_speed')"
      ],
      "metadata": {
        "id": "7kV9tevIdSpA"
      },
      "execution_count": 26,
      "outputs": []
    },
    {
      "cell_type": "markdown",
      "source": [
        "## battery_features"
      ],
      "metadata": {
        "id": "mlvzd8NNRwpP"
      }
    },
    {
      "cell_type": "markdown",
      "source": [
        "### battery_capacity"
      ],
      "metadata": {
        "id": "sE9k7qXvdnPf"
      }
    },
    {
      "cell_type": "code",
      "source": [
        "distribution_imputer('battery_capacity')"
      ],
      "metadata": {
        "id": "LLDtstLZdty2"
      },
      "execution_count": 27,
      "outputs": []
    },
    {
      "cell_type": "markdown",
      "source": [
        "### fast_charging_available"
      ],
      "metadata": {
        "id": "2mMJoscfb0UZ"
      }
    },
    {
      "cell_type": "code",
      "source": [
        "result = le.fit_transform(df_imputed['fast_charging_available'])\n",
        "df_imputed['fast_charging_available'] = result"
      ],
      "metadata": {
        "id": "VLIbSG3Wb1qu"
      },
      "execution_count": 28,
      "outputs": []
    },
    {
      "cell_type": "code",
      "source": [
        "#battery_features.remove('fast_charging_available')\n",
        "#df_imputed.drop(columns='fast_charging_available', inplace=True)"
      ],
      "metadata": {
        "id": "LUMjkDWdGgc4"
      },
      "execution_count": 29,
      "outputs": []
    },
    {
      "cell_type": "markdown",
      "source": [
        "### fast_charging"
      ],
      "metadata": {
        "id": "me9h3BS1b5Sn"
      }
    },
    {
      "cell_type": "code",
      "source": [
        "result = le.fit_transform(df_imputed['fast_charging'])\n",
        "df_imputed['fast_charging'] = result"
      ],
      "metadata": {
        "id": "_jRplpJXb96t"
      },
      "execution_count": 30,
      "outputs": []
    },
    {
      "cell_type": "markdown",
      "source": [
        "## memory_features"
      ],
      "metadata": {
        "id": "Y57UVPGOR9QP"
      }
    },
    {
      "cell_type": "markdown",
      "source": [
        "### ram_capacity\n"
      ],
      "metadata": {
        "id": "WmidZXkreapw"
      }
    },
    {
      "cell_type": "markdown",
      "source": [
        "### internal_memory"
      ],
      "metadata": {
        "id": "DGSUJKpLevpq"
      }
    },
    {
      "cell_type": "markdown",
      "source": [
        "### extended_memory_available"
      ],
      "metadata": {
        "id": "7NfKEUmwexcq"
      }
    },
    {
      "cell_type": "code",
      "source": [
        "result = le.fit_transform(df_imputed['extended_memory_available'])\n",
        "df_imputed['extended_memory_available'] = result"
      ],
      "metadata": {
        "id": "drStG-mHfdcy"
      },
      "execution_count": 31,
      "outputs": []
    },
    {
      "cell_type": "markdown",
      "source": [
        "### extended_upto"
      ],
      "metadata": {
        "id": "qGsIsGmRezzL"
      }
    },
    {
      "cell_type": "code",
      "source": [
        "df_imputed['extended_upto'] = df_imputed['extended_upto'].fillna(0)"
      ],
      "metadata": {
        "id": "bkCM23y9fybx"
      },
      "execution_count": 32,
      "outputs": []
    },
    {
      "cell_type": "markdown",
      "source": [
        "## screen_features"
      ],
      "metadata": {
        "id": "NNwFKAqFSDet"
      }
    },
    {
      "cell_type": "markdown",
      "source": [
        "### screen_size"
      ],
      "metadata": {
        "id": "m7D5jyy3f_C2"
      }
    },
    {
      "cell_type": "markdown",
      "source": [
        "### refresh_rate"
      ],
      "metadata": {
        "id": "CGFUPrZTgABV"
      }
    },
    {
      "cell_type": "markdown",
      "source": [
        "### resolution"
      ],
      "metadata": {
        "id": "VKlLsFVvgDM7"
      }
    },
    {
      "cell_type": "code",
      "source": [
        "# object(너비x높이) 로 구현된 resolution을 width 와 height feature로 분리\n",
        "screen_features = screen_features + ['width', 'height']\n",
        "screen_features.remove('resolution')\n",
        "df_imputed[['width','height']] = df_imputed[['resolution']].apply(func=(lambda x: x['resolution'].split(\"x\")), axis=1, result_type='expand')\n",
        "df_imputed['width'] = df_imputed['width'].astype(str).astype(int)\n",
        "df_imputed['height'] = df_imputed['height'].astype(str).astype(int)"
      ],
      "metadata": {
        "id": "M0zAXYZPgSel"
      },
      "execution_count": 33,
      "outputs": []
    },
    {
      "cell_type": "code",
      "source": [
        "# df에도 똑같은 액션 적용\n",
        "df[['width','height']] = df[['resolution']].apply(func=(lambda x: x['resolution'].split(\"x\")), axis=1, result_type='expand')\n",
        "df['width'] = df['width'].astype(str).astype(int)\n",
        "df['height'] = df['height'].astype(str).astype(int)"
      ],
      "metadata": {
        "id": "Qkcbjrvfivf-"
      },
      "execution_count": 34,
      "outputs": []
    },
    {
      "cell_type": "markdown",
      "source": [
        "## cameras_features"
      ],
      "metadata": {
        "id": "bEGfgQsPSFPT"
      }
    },
    {
      "cell_type": "markdown",
      "source": [
        "### num_rear_cameras"
      ],
      "metadata": {
        "id": "0a4OYktYijgb"
      }
    },
    {
      "cell_type": "markdown",
      "source": [
        "### primary_camera_rear"
      ],
      "metadata": {
        "id": "vHVGw4i6imHG"
      }
    },
    {
      "cell_type": "markdown",
      "source": [
        "### num_front_cameras"
      ],
      "metadata": {
        "id": "j8aG7VSxin8J"
      }
    },
    {
      "cell_type": "code",
      "source": [
        "distribution_imputer('num_front_cameras')"
      ],
      "metadata": {
        "id": "eVJ6eWWTj9Ga"
      },
      "execution_count": 35,
      "outputs": []
    },
    {
      "cell_type": "markdown",
      "source": [
        "### primary_camera_front"
      ],
      "metadata": {
        "id": "Mf9xwcLliqM0"
      }
    },
    {
      "cell_type": "code",
      "source": [
        "distribution_imputer('primary_camera_front')"
      ],
      "metadata": {
        "id": "Cr3fqF-alSbK"
      },
      "execution_count": 36,
      "outputs": []
    },
    {
      "cell_type": "markdown",
      "source": [
        "## extra_features"
      ],
      "metadata": {
        "id": "UN8dbh4vSG4Q"
      }
    },
    {
      "cell_type": "markdown",
      "source": [
        "### has_5g"
      ],
      "metadata": {
        "id": "vMedG1YOlbVj"
      }
    },
    {
      "cell_type": "code",
      "source": [
        "result = le.fit_transform(df_imputed['has_5g'])\n",
        "df_imputed['has_5g'] = result"
      ],
      "metadata": {
        "id": "twO3KJyalrS0"
      },
      "execution_count": 37,
      "outputs": []
    },
    {
      "cell_type": "code",
      "source": [
        "#extra_features.remove('has_5g')\n",
        "#df_imputed.drop(columns='has_5g', inplace=True)"
      ],
      "metadata": {
        "id": "W98d9lcnHGBZ"
      },
      "execution_count": 38,
      "outputs": []
    },
    {
      "cell_type": "markdown",
      "source": [
        "### has_nfc"
      ],
      "metadata": {
        "id": "R0iz2-kIlfdd"
      }
    },
    {
      "cell_type": "code",
      "source": [
        "result = le.fit_transform(df_imputed['has_nfc'])\n",
        "df_imputed['has_nfc'] = result"
      ],
      "metadata": {
        "id": "Y7ckayPnluSC"
      },
      "execution_count": 39,
      "outputs": []
    },
    {
      "cell_type": "code",
      "source": [
        "#extra_features.remove('has_nfc')\n",
        "#df_imputed.drop(columns='has_nfc', inplace=True)"
      ],
      "metadata": {
        "id": "nZGLlzAsHIx_"
      },
      "execution_count": 40,
      "outputs": []
    },
    {
      "cell_type": "markdown",
      "source": [
        "### has_ir_blaster"
      ],
      "metadata": {
        "id": "fzHfi69Elhkd"
      }
    },
    {
      "cell_type": "code",
      "source": [
        "result = le.fit_transform(df_imputed['has_ir_blaster'])\n",
        "df_imputed['has_ir_blaster'] = result"
      ],
      "metadata": {
        "id": "vwJWlP2ulxIM"
      },
      "execution_count": 41,
      "outputs": []
    },
    {
      "cell_type": "code",
      "source": [
        "#extra_features.remove('has_ir_blaster')\n",
        "#df_imputed.drop(columns='has_ir_blaster', inplace=True)"
      ],
      "metadata": {
        "id": "8UyXshzcHLU9"
      },
      "execution_count": 42,
      "outputs": []
    },
    {
      "cell_type": "markdown",
      "source": [
        "## Summary"
      ],
      "metadata": {
        "id": "plmeVfZtmEGW"
      }
    },
    {
      "cell_type": "code",
      "source": [
        "X = df_imputed[brand_features+processor_features+battery_features+memory_features+screen_features+cameras_features+extra_features]\n",
        "print(X.info())\n",
        "y = df_imputed[price]\n",
        "print(y.info())"
      ],
      "metadata": {
        "colab": {
          "base_uri": "https://localhost:8080/"
        },
        "id": "YcWr7jCfmG12",
        "outputId": "98971d53-bfa4-406c-da94-98c6c2423d54"
      },
      "execution_count": 43,
      "outputs": [
        {
          "output_type": "stream",
          "name": "stdout",
          "text": [
            "<class 'pandas.core.frame.DataFrame'>\n",
            "Index: 767 entries, 0 to 979\n",
            "Data columns (total 23 columns):\n",
            " #   Column                     Non-Null Count  Dtype  \n",
            "---  ------                     --------------  -----  \n",
            " 0   brand_name                 767 non-null    int64  \n",
            " 1   os                         767 non-null    int64  \n",
            " 2   processor_brand            767 non-null    int64  \n",
            " 3   num_cores                  767 non-null    float64\n",
            " 4   processor_speed            767 non-null    float64\n",
            " 5   battery_capacity           767 non-null    float64\n",
            " 6   fast_charging_available    767 non-null    int64  \n",
            " 7   fast_charging              767 non-null    int64  \n",
            " 8   ram_capacity               767 non-null    float64\n",
            " 9   internal_memory            767 non-null    float64\n",
            " 10  extended_memory_available  767 non-null    int64  \n",
            " 11  extended_upto              767 non-null    float64\n",
            " 12  screen_size                767 non-null    float64\n",
            " 13  refresh_rate               767 non-null    int64  \n",
            " 14  width                      767 non-null    int64  \n",
            " 15  height                     767 non-null    int64  \n",
            " 16  num_rear_cameras           767 non-null    int64  \n",
            " 17  primary_camera_rear        767 non-null    float64\n",
            " 18  num_front_cameras          767 non-null    float64\n",
            " 19  primary_camera_front       767 non-null    float64\n",
            " 20  has_5g                     767 non-null    int64  \n",
            " 21  has_nfc                    767 non-null    int64  \n",
            " 22  has_ir_blaster             767 non-null    int64  \n",
            "dtypes: float64(10), int64(13)\n",
            "memory usage: 160.0 KB\n",
            "None\n",
            "<class 'pandas.core.frame.DataFrame'>\n",
            "Index: 767 entries, 0 to 979\n",
            "Data columns (total 1 columns):\n",
            " #   Column  Non-Null Count  Dtype  \n",
            "---  ------  --------------  -----  \n",
            " 0   price   767 non-null    float64\n",
            "dtypes: float64(1)\n",
            "memory usage: 28.1 KB\n",
            "None\n"
          ]
        }
      ]
    },
    {
      "cell_type": "markdown",
      "source": [
        "결측치, object, bool이 존재하지 않는 데이터가 완성되었다."
      ],
      "metadata": {
        "id": "gecIOZMsn8gK"
      }
    },
    {
      "cell_type": "markdown",
      "source": [
        "# 2. Regularization"
      ],
      "metadata": {
        "id": "0Qkul5JhoRYc"
      }
    },
    {
      "cell_type": "code",
      "source": [
        "from sklearn.preprocessing import MinMaxScaler\n",
        "sc = MinMaxScaler()\n",
        "X = sc.fit_transform(X)"
      ],
      "metadata": {
        "id": "agnaw0tA_knd"
      },
      "execution_count": 44,
      "outputs": []
    },
    {
      "cell_type": "code",
      "source": [
        "from sklearn.model_selection import train_test_split\n",
        "from sklearn.metrics import mean_squared_error\n",
        "from sklearn.metrics import mean_absolute_error\n",
        "from sklearn.metrics import r2_score\n",
        "\n",
        "X_train, X_test, y_train, y_test = train_test_split(X, y, test_size=0.3, random_state=42)"
      ],
      "metadata": {
        "id": "7-l2lhDWoLU9"
      },
      "execution_count": 45,
      "outputs": []
    },
    {
      "cell_type": "markdown",
      "source": [
        "# 3. Regression & RMSE, MAE, R2 value comparison"
      ],
      "metadata": {
        "id": "owHxwWlSKFFH"
      }
    },
    {
      "cell_type": "code",
      "source": [
        "from sklearn.linear_model import LinearRegression\n",
        "from sklearn.linear_model import Ridge\n",
        "from sklearn.linear_model import Lasso\n",
        "from sklearn.tree import DecisionTreeRegressor\n",
        "from sklearn.ensemble import RandomForestRegressor\n",
        "\n",
        "def evaluate_regr(y, pred):\n",
        "    mse = mean_squared_error(y, pred)\n",
        "    rmse_val = np.sqrt(mse)\n",
        "    mae_val = mean_absolute_error(y, pred)\n",
        "    r2 = r2_score(y, pred)\n",
        "    print('RMSE : {} | MAE : {} | r2 : {} '.format(round(rmse_val,5),round(mae_val,5),round(r2,5)))\n",
        "\n",
        "lr_reg = LinearRegression()\n",
        "ridge_reg = Ridge(alpha=0.1)\n",
        "lasso_reg = Lasso(alpha=0.1)\n",
        "tree_reg = DecisionTreeRegressor(random_state=1)\n",
        "forest_reg = RandomForestRegressor(n_estimators=100,random_state=1)"
      ],
      "metadata": {
        "id": "Ir6L--2OH0SF"
      },
      "execution_count": 46,
      "outputs": []
    },
    {
      "cell_type": "code",
      "source": [
        "lr_reg.fit(X_train ,y_train)\n",
        "y_pred = lr_reg.predict(X_test)\n",
        "evaluate_regr(y_test, y_pred)"
      ],
      "metadata": {
        "colab": {
          "base_uri": "https://localhost:8080/"
        },
        "id": "ETUFd79MHv-Q",
        "outputId": "2613095f-74aa-4b9a-c15f-75d2e8761cf8"
      },
      "execution_count": 47,
      "outputs": [
        {
          "output_type": "stream",
          "name": "stdout",
          "text": [
            "RMSE : 79.95251 | MAE : 58.70535 | r2 : 0.76768 \n"
          ]
        }
      ]
    },
    {
      "cell_type": "code",
      "source": [
        "ridge_reg.fit(X_train ,y_train)\n",
        "y_pred = ridge_reg.predict(X_test)\n",
        "evaluate_regr(y_test, y_pred)"
      ],
      "metadata": {
        "colab": {
          "base_uri": "https://localhost:8080/"
        },
        "id": "rygG24hMIv_m",
        "outputId": "1e6c43c2-173e-4a8b-ccd1-c540cfb45e3f"
      },
      "execution_count": 48,
      "outputs": [
        {
          "output_type": "stream",
          "name": "stdout",
          "text": [
            "RMSE : 79.925 | MAE : 58.68995 | r2 : 0.76784 \n"
          ]
        }
      ]
    },
    {
      "cell_type": "code",
      "source": [
        "lasso_reg.fit(X_train ,y_train)\n",
        "y_pred = lasso_reg.predict(X_test)\n",
        "evaluate_regr(y_test, y_pred)"
      ],
      "metadata": {
        "colab": {
          "base_uri": "https://localhost:8080/"
        },
        "id": "NhKLR2AoI8UU",
        "outputId": "6cd06016-ca49-4e48-8150-46d4be7ac2ce"
      },
      "execution_count": 49,
      "outputs": [
        {
          "output_type": "stream",
          "name": "stdout",
          "text": [
            "RMSE : 80.20982 | MAE : 58.94209 | r2 : 0.76618 \n"
          ]
        }
      ]
    },
    {
      "cell_type": "code",
      "source": [
        "tree_reg.fit(X_train ,y_train)\n",
        "y_pred = tree_reg.predict(X_test)\n",
        "evaluate_regr(y_test, y_pred)"
      ],
      "metadata": {
        "colab": {
          "base_uri": "https://localhost:8080/"
        },
        "id": "GYDvJLeyI_qo",
        "outputId": "91363a0a-9664-4592-b26a-283422f76ec8"
      },
      "execution_count": 50,
      "outputs": [
        {
          "output_type": "stream",
          "name": "stdout",
          "text": [
            "RMSE : 89.88473 | MAE : 56.43413 | r2 : 0.70638 \n"
          ]
        }
      ]
    },
    {
      "cell_type": "code",
      "source": [
        "forest_reg.fit(X_train ,y_train.values.ravel())\n",
        "y_pred = forest_reg.predict(X_test)\n",
        "evaluate_regr(y_test, y_pred)"
      ],
      "metadata": {
        "colab": {
          "base_uri": "https://localhost:8080/"
        },
        "id": "yDkgVYQwJDP6",
        "outputId": "8879fdb8-bc93-4bbb-ebec-3652c30eb08f"
      },
      "execution_count": 51,
      "outputs": [
        {
          "output_type": "stream",
          "name": "stdout",
          "text": [
            "RMSE : 69.35515 | MAE : 45.72118 | r2 : 0.82519 \n"
          ]
        }
      ]
    },
    {
      "cell_type": "markdown",
      "source": [
        "# 4. Hyperparameter tuning on Ridge, Lasso, Randomforest"
      ],
      "metadata": {
        "id": "ltmGeHPQK7gY"
      }
    },
    {
      "cell_type": "code",
      "source": [
        "from sklearn.model_selection import GridSearchCV"
      ],
      "metadata": {
        "id": "_iOE3fN6K63M"
      },
      "execution_count": 52,
      "outputs": []
    },
    {
      "cell_type": "code",
      "source": [
        "param_grid = [\n",
        "    {'alpha': [0, 0.05, 0.1, 0.5, 1, 5]},\n",
        "]\n",
        "\n",
        "grid_search = GridSearchCV(ridge_reg, param_grid, cv=5,\n",
        "                           scoring='r2',\n",
        "                           return_train_score=True)\n",
        "grid_search.fit(X_train, y_train)\n",
        "\n",
        "print('best_params_: ', grid_search.best_params_)\n",
        "cvres = grid_search.cv_results_\n",
        "for mean_test_score, params in zip(cvres[\"mean_test_score\"], cvres[\"params\"]):\n",
        "    print(mean_test_score, params)"
      ],
      "metadata": {
        "colab": {
          "base_uri": "https://localhost:8080/"
        },
        "id": "vhfL0TfcLEi2",
        "outputId": "27dbfea1-0597-4c94-f3a1-b908d4980ab7"
      },
      "execution_count": 53,
      "outputs": [
        {
          "output_type": "stream",
          "name": "stdout",
          "text": [
            "best_params_:  {'alpha': 1}\n",
            "0.7556218423892992 {'alpha': 0}\n",
            "0.7561853244443204 {'alpha': 0.05}\n",
            "0.7567010978884509 {'alpha': 0.1}\n",
            "0.759547130403445 {'alpha': 0.5}\n",
            "0.7611265280099208 {'alpha': 1}\n",
            "0.7549193590050122 {'alpha': 5}\n"
          ]
        }
      ]
    },
    {
      "cell_type": "code",
      "source": [
        "import warnings\n",
        "warnings.filterwarnings(action='ignore')\n",
        "\n",
        "param_grid = [\n",
        "    {'alpha': [0, 0.05, 0.1, 0.5, 1]},\n",
        "    ]\n",
        "\n",
        "grid_search = GridSearchCV(lasso_reg, param_grid, cv=5,\n",
        "                          scoring='r2',\n",
        "                          return_train_score=True)\n",
        "grid_search.fit(X_train, y_train)\n",
        "print ('best_params_: ', grid_search.best_params_)\n",
        "cvres = grid_search.cv_results_\n",
        "for mean_test_score, params in zip(cvres[\"mean_test_score\"], cvres[\"params\"]):\n",
        "    print(mean_test_score, params)"
      ],
      "metadata": {
        "colab": {
          "base_uri": "https://localhost:8080/"
        },
        "id": "nDlW9oOJMQJF",
        "outputId": "723bd6eb-06d3-4d9e-acd8-4e32d0ebce8a"
      },
      "execution_count": 54,
      "outputs": [
        {
          "output_type": "stream",
          "name": "stdout",
          "text": [
            "best_params_:  {'alpha': 0.5}\n",
            "0.7556218423892991 {'alpha': 0}\n",
            "0.7570742419681358 {'alpha': 0.05}\n",
            "0.7580156110387263 {'alpha': 0.1}\n",
            "0.7580315854557719 {'alpha': 0.5}\n",
            "0.7490876194169772 {'alpha': 1}\n"
          ]
        }
      ]
    },
    {
      "cell_type": "code",
      "source": [
        "param_grid = [\n",
        "    {'n_estimators': [30, 50, 70, 100], 'max_features':[2,4,6,8]},\n",
        "    {'bootstrap':[False], 'n_estimators': [3, 10], 'max_features':[2,3,4] }\n",
        "    ]\n",
        "grid_search = GridSearchCV(forest_reg, param_grid, cv=5,\n",
        "                          scoring='neg_mean_squared_error',\n",
        "                          return_train_score=True)\n",
        "grid_search.fit(X_train, y_train)\n",
        "print ('best_params_: ', grid_search.best_params_)\n",
        "cvres = grid_search.cv_results_\n",
        "for mean_test_score, params in zip(cvres[\"mean_test_score\"], cvres[\"params\"]):\n",
        "    print(mean_test_score, params)"
      ],
      "metadata": {
        "colab": {
          "base_uri": "https://localhost:8080/"
        },
        "id": "B9l-_UqdMS3I",
        "outputId": "84a387f3-b2db-4978-c4e9-9d59e392133a"
      },
      "execution_count": 55,
      "outputs": [
        {
          "output_type": "stream",
          "name": "stdout",
          "text": [
            "best_params_:  {'max_features': 4, 'n_estimators': 50}\n",
            "-4650.911073210786 {'max_features': 2, 'n_estimators': 30}\n",
            "-4566.625747685565 {'max_features': 2, 'n_estimators': 50}\n",
            "-4518.09303570607 {'max_features': 2, 'n_estimators': 70}\n",
            "-4445.819325835893 {'max_features': 2, 'n_estimators': 100}\n",
            "-4382.506573317575 {'max_features': 4, 'n_estimators': 30}\n",
            "-4260.873108153642 {'max_features': 4, 'n_estimators': 50}\n",
            "-4310.322198228233 {'max_features': 4, 'n_estimators': 70}\n",
            "-4309.187576543407 {'max_features': 4, 'n_estimators': 100}\n",
            "-4491.481023752072 {'max_features': 6, 'n_estimators': 30}\n",
            "-4410.4286263066615 {'max_features': 6, 'n_estimators': 50}\n",
            "-4412.447015070059 {'max_features': 6, 'n_estimators': 70}\n",
            "-4359.841324769188 {'max_features': 6, 'n_estimators': 100}\n",
            "-4509.631169808768 {'max_features': 8, 'n_estimators': 30}\n",
            "-4401.3502670920225 {'max_features': 8, 'n_estimators': 50}\n",
            "-4420.016988556842 {'max_features': 8, 'n_estimators': 70}\n",
            "-4476.101135502075 {'max_features': 8, 'n_estimators': 100}\n",
            "-6530.21183893658 {'bootstrap': False, 'max_features': 2, 'n_estimators': 3}\n",
            "-4732.5855656797985 {'bootstrap': False, 'max_features': 2, 'n_estimators': 10}\n",
            "-5918.269313997492 {'bootstrap': False, 'max_features': 3, 'n_estimators': 3}\n",
            "-4903.447254574152 {'bootstrap': False, 'max_features': 3, 'n_estimators': 10}\n",
            "-6128.233673131128 {'bootstrap': False, 'max_features': 4, 'n_estimators': 3}\n",
            "-4944.18959352741 {'bootstrap': False, 'max_features': 4, 'n_estimators': 10}\n"
          ]
        }
      ]
    },
    {
      "cell_type": "code",
      "source": [
        "from sklearn.model_selection import cross_val_score\n",
        "\n",
        "def display_scores(model):\n",
        "    scores = cross_val_score(model, X_test, y_test,\n",
        "                             scoring=\"neg_mean_squared_error\", cv=5)\n",
        "    model_rmse_scores = np.sqrt(-scores)\n",
        "    print('###', model.__class__.__name__, '###')\n",
        "    print(\"점수:\", model_rmse_scores)\n",
        "    print(\"평균:\", model_rmse_scores.mean())\n",
        "    print(\"표준편차:\", model_rmse_scores.std())\n",
        "    print()\n",
        "\n",
        "for model in [lr_reg, ridge_reg, lasso_reg, tree_reg, forest_reg]:\n",
        "    display_scores(model)"
      ],
      "metadata": {
        "colab": {
          "base_uri": "https://localhost:8080/"
        },
        "id": "4keG2U88PF2j",
        "outputId": "4d6a7513-b174-4481-ce2d-09a4c60ce96a"
      },
      "execution_count": 56,
      "outputs": [
        {
          "output_type": "stream",
          "name": "stdout",
          "text": [
            "### LinearRegression ###\n",
            "점수: [ 97.6262227   67.44449274 102.5894644   86.13233289  89.00628196]\n",
            "평균: 88.5597589373788\n",
            "표준편차: 12.091150870011598\n",
            "\n",
            "### Ridge ###\n",
            "점수: [ 97.25430144  67.17078933 101.58479711  83.5583263   89.00933089]\n",
            "평균: 87.71550901412013\n",
            "표준편차: 12.036505832489759\n",
            "\n",
            "### Lasso ###\n",
            "점수: [ 96.2631395   66.99693701 102.08790883  85.06194996  89.0945262 ]\n",
            "평균: 87.90089230091921\n",
            "표준편차: 11.980470096478669\n",
            "\n",
            "### DecisionTreeRegressor ###\n",
            "점수: [ 98.57155159  59.23219477  99.22211299 109.64215428 100.1817617 ]\n",
            "평균: 93.3699550687742\n",
            "표준편차: 17.537823203094696\n",
            "\n",
            "### RandomForestRegressor ###\n",
            "점수: [86.89049494 57.28213278 95.24174437 60.77659042 84.1261051 ]\n",
            "평균: 76.86341352165839\n",
            "표준편차: 15.054996035567045\n",
            "\n"
          ]
        }
      ]
    },
    {
      "cell_type": "markdown",
      "source": [
        "# 5. XGBoost"
      ],
      "metadata": {
        "id": "bSy9H7dcPnEc"
      }
    },
    {
      "cell_type": "code",
      "source": [
        "import xgboost as xgb\n",
        "from sklearn.model_selection import cross_validate"
      ],
      "metadata": {
        "id": "mEW900NCPmUo"
      },
      "execution_count": 57,
      "outputs": []
    },
    {
      "cell_type": "code",
      "source": [
        "features = list(df.columns)\n",
        "features.remove('model')\n",
        "features.remove('resolution')\n",
        "features"
      ],
      "metadata": {
        "colab": {
          "base_uri": "https://localhost:8080/"
        },
        "id": "K9Yh4D12Pxi3",
        "outputId": "321bcc2c-973a-4ba2-9c30-19b927e80528"
      },
      "execution_count": 58,
      "outputs": [
        {
          "output_type": "execute_result",
          "data": {
            "text/plain": [
              "['brand_name',\n",
              " 'price',\n",
              " 'has_5g',\n",
              " 'has_nfc',\n",
              " 'has_ir_blaster',\n",
              " 'processor_brand',\n",
              " 'num_cores',\n",
              " 'processor_speed',\n",
              " 'battery_capacity',\n",
              " 'fast_charging_available',\n",
              " 'fast_charging',\n",
              " 'ram_capacity',\n",
              " 'internal_memory',\n",
              " 'screen_size',\n",
              " 'refresh_rate',\n",
              " 'num_rear_cameras',\n",
              " 'num_front_cameras',\n",
              " 'os',\n",
              " 'primary_camera_rear',\n",
              " 'primary_camera_front',\n",
              " 'extended_memory_available',\n",
              " 'extended_upto',\n",
              " 'width',\n",
              " 'height']"
            ]
          },
          "metadata": {},
          "execution_count": 58
        }
      ]
    },
    {
      "cell_type": "code",
      "source": [
        "categorical_features = ['brand_name', 'processor_brand', 'os']\n",
        "df[categorical_features] = df[categorical_features].astype('category')"
      ],
      "metadata": {
        "id": "OqBYFpTPPzVo"
      },
      "execution_count": 59,
      "outputs": []
    },
    {
      "cell_type": "code",
      "source": [
        "X = df[features].drop('price', axis=1)\n",
        "y = df['price']\n",
        "\n",
        "X.info()"
      ],
      "metadata": {
        "colab": {
          "base_uri": "https://localhost:8080/"
        },
        "id": "jAtNcN9-P1d5",
        "outputId": "f6b2f827-d1c4-479c-bfe4-04b88607041a"
      },
      "execution_count": 60,
      "outputs": [
        {
          "output_type": "stream",
          "name": "stdout",
          "text": [
            "<class 'pandas.core.frame.DataFrame'>\n",
            "Index: 767 entries, 0 to 979\n",
            "Data columns (total 23 columns):\n",
            " #   Column                     Non-Null Count  Dtype   \n",
            "---  ------                     --------------  -----   \n",
            " 0   brand_name                 767 non-null    category\n",
            " 1   has_5g                     767 non-null    bool    \n",
            " 2   has_nfc                    767 non-null    bool    \n",
            " 3   has_ir_blaster             767 non-null    bool    \n",
            " 4   processor_brand            751 non-null    category\n",
            " 5   num_cores                  767 non-null    float64 \n",
            " 6   processor_speed            746 non-null    float64 \n",
            " 7   battery_capacity           759 non-null    float64 \n",
            " 8   fast_charging_available    767 non-null    bool    \n",
            " 9   fast_charging              634 non-null    float64 \n",
            " 10  ram_capacity               767 non-null    float64 \n",
            " 11  internal_memory            767 non-null    float64 \n",
            " 12  screen_size                767 non-null    float64 \n",
            " 13  refresh_rate               767 non-null    int64   \n",
            " 14  num_rear_cameras           767 non-null    int64   \n",
            " 15  num_front_cameras          767 non-null    float64 \n",
            " 16  os                         766 non-null    category\n",
            " 17  primary_camera_rear        767 non-null    float64 \n",
            " 18  primary_camera_front       767 non-null    float64 \n",
            " 19  extended_memory_available  767 non-null    bool    \n",
            " 20  extended_upto              424 non-null    float64 \n",
            " 21  width                      767 non-null    int64   \n",
            " 22  height                     767 non-null    int64   \n",
            "dtypes: bool(5), category(3), float64(11), int64(4)\n",
            "memory usage: 119.9 KB\n"
          ]
        }
      ]
    },
    {
      "cell_type": "code",
      "source": [
        "X_train, X_test, y_train, y_test = train_test_split(X, y, test_size=0.2, random_state=42)"
      ],
      "metadata": {
        "id": "xmgLvl1cZOSn"
      },
      "execution_count": 61,
      "outputs": []
    },
    {
      "cell_type": "code",
      "source": [
        "xgb_reg = xgb.XGBRegressor(objective='reg:squarederror', enable_categorical=True, missing=np.nan, random_state=42)"
      ],
      "metadata": {
        "id": "EyTV_ruYP3Pb"
      },
      "execution_count": 62,
      "outputs": []
    },
    {
      "cell_type": "code",
      "source": [
        "xgb_reg.fit(X_train, y_train)\n",
        "y_pred = xgb_reg.predict(X_test)\n",
        "evaluate_regr(y_test, y_pred)"
      ],
      "metadata": {
        "colab": {
          "base_uri": "https://localhost:8080/"
        },
        "id": "TAa51Y0hP6XV",
        "outputId": "7a5b9533-484c-45d2-96b1-fe26a790e2f3"
      },
      "execution_count": 63,
      "outputs": [
        {
          "output_type": "stream",
          "name": "stdout",
          "text": [
            "RMSE : 61.25477 | MAE : 39.38293 | r2 : 0.86361 \n"
          ]
        }
      ]
    },
    {
      "cell_type": "code",
      "source": [
        "display_scores(xgb_reg)"
      ],
      "metadata": {
        "colab": {
          "base_uri": "https://localhost:8080/"
        },
        "id": "tkwWVLqZZ_QH",
        "outputId": "5afef9fe-43cb-49eb-be07-5421dc54f48b"
      },
      "execution_count": 64,
      "outputs": [
        {
          "output_type": "stream",
          "name": "stdout",
          "text": [
            "### XGBRegressor ###\n",
            "점수: [ 95.6536344   69.53735928  86.96195091 131.51885909  78.07916676]\n",
            "평균: 92.35019408695291\n",
            "표준편차: 21.439299678676946\n",
            "\n"
          ]
        }
      ]
    },
    {
      "cell_type": "markdown",
      "source": [
        "# 6. Hyperparameter tuning on XGBoost"
      ],
      "metadata": {
        "id": "r73llepVP_G4"
      }
    },
    {
      "cell_type": "code",
      "source": [
        "from sklearn.model_selection import GridSearchCV"
      ],
      "metadata": {
        "id": "3m39e-PyQENL"
      },
      "execution_count": 65,
      "outputs": []
    },
    {
      "cell_type": "code",
      "source": [
        "param_grid = {'max_depth' :[3,6,10,15], 'learning_rate':[ 0.05, 0.07, 0.1, 0.13, 0.15, 0.17], 'gamma':[0,5,10]}\n",
        "gs = GridSearchCV(xgb_reg, param_grid, cv=5, return_train_score=True)\n",
        "gs"
      ],
      "metadata": {
        "colab": {
          "base_uri": "https://localhost:8080/",
          "height": 116
        },
        "id": "JfqYqo4OQNX6",
        "outputId": "0f9d6efa-7cea-4d58-935b-c67ed9e8fdff"
      },
      "execution_count": 66,
      "outputs": [
        {
          "output_type": "execute_result",
          "data": {
            "text/plain": [
              "GridSearchCV(cv=5,\n",
              "             estimator=XGBRegressor(base_score=None, booster=None,\n",
              "                                    callbacks=None, colsample_bylevel=None,\n",
              "                                    colsample_bynode=None,\n",
              "                                    colsample_bytree=None, device=None,\n",
              "                                    early_stopping_rounds=None,\n",
              "                                    enable_categorical=True, eval_metric=None,\n",
              "                                    feature_types=None, gamma=None,\n",
              "                                    grow_policy=None, importance_type=None,\n",
              "                                    interaction_constraints=None,\n",
              "                                    learning_rate=None, ma...\n",
              "                                    max_cat_to_onehot=None, max_delta_step=None,\n",
              "                                    max_depth=None, max_leaves=None,\n",
              "                                    min_child_weight=None, missing=nan,\n",
              "                                    monotone_constraints=None,\n",
              "                                    multi_strategy=None, n_estimators=None,\n",
              "                                    n_jobs=None, num_parallel_tree=None,\n",
              "                                    random_state=42, ...),\n",
              "             param_grid={'gamma': [0, 5, 10],\n",
              "                         'learning_rate': [0.05, 0.07, 0.1, 0.13, 0.15, 0.17],\n",
              "                         'max_depth': [3, 6, 10, 15]},\n",
              "             return_train_score=True)"
            ],
            "text/html": [
              "<style>#sk-container-id-1 {color: black;background-color: white;}#sk-container-id-1 pre{padding: 0;}#sk-container-id-1 div.sk-toggleable {background-color: white;}#sk-container-id-1 label.sk-toggleable__label {cursor: pointer;display: block;width: 100%;margin-bottom: 0;padding: 0.3em;box-sizing: border-box;text-align: center;}#sk-container-id-1 label.sk-toggleable__label-arrow:before {content: \"▸\";float: left;margin-right: 0.25em;color: #696969;}#sk-container-id-1 label.sk-toggleable__label-arrow:hover:before {color: black;}#sk-container-id-1 div.sk-estimator:hover label.sk-toggleable__label-arrow:before {color: black;}#sk-container-id-1 div.sk-toggleable__content {max-height: 0;max-width: 0;overflow: hidden;text-align: left;background-color: #f0f8ff;}#sk-container-id-1 div.sk-toggleable__content pre {margin: 0.2em;color: black;border-radius: 0.25em;background-color: #f0f8ff;}#sk-container-id-1 input.sk-toggleable__control:checked~div.sk-toggleable__content {max-height: 200px;max-width: 100%;overflow: auto;}#sk-container-id-1 input.sk-toggleable__control:checked~label.sk-toggleable__label-arrow:before {content: \"▾\";}#sk-container-id-1 div.sk-estimator input.sk-toggleable__control:checked~label.sk-toggleable__label {background-color: #d4ebff;}#sk-container-id-1 div.sk-label input.sk-toggleable__control:checked~label.sk-toggleable__label {background-color: #d4ebff;}#sk-container-id-1 input.sk-hidden--visually {border: 0;clip: rect(1px 1px 1px 1px);clip: rect(1px, 1px, 1px, 1px);height: 1px;margin: -1px;overflow: hidden;padding: 0;position: absolute;width: 1px;}#sk-container-id-1 div.sk-estimator {font-family: monospace;background-color: #f0f8ff;border: 1px dotted black;border-radius: 0.25em;box-sizing: border-box;margin-bottom: 0.5em;}#sk-container-id-1 div.sk-estimator:hover {background-color: #d4ebff;}#sk-container-id-1 div.sk-parallel-item::after {content: \"\";width: 100%;border-bottom: 1px solid gray;flex-grow: 1;}#sk-container-id-1 div.sk-label:hover label.sk-toggleable__label {background-color: #d4ebff;}#sk-container-id-1 div.sk-serial::before {content: \"\";position: absolute;border-left: 1px solid gray;box-sizing: border-box;top: 0;bottom: 0;left: 50%;z-index: 0;}#sk-container-id-1 div.sk-serial {display: flex;flex-direction: column;align-items: center;background-color: white;padding-right: 0.2em;padding-left: 0.2em;position: relative;}#sk-container-id-1 div.sk-item {position: relative;z-index: 1;}#sk-container-id-1 div.sk-parallel {display: flex;align-items: stretch;justify-content: center;background-color: white;position: relative;}#sk-container-id-1 div.sk-item::before, #sk-container-id-1 div.sk-parallel-item::before {content: \"\";position: absolute;border-left: 1px solid gray;box-sizing: border-box;top: 0;bottom: 0;left: 50%;z-index: -1;}#sk-container-id-1 div.sk-parallel-item {display: flex;flex-direction: column;z-index: 1;position: relative;background-color: white;}#sk-container-id-1 div.sk-parallel-item:first-child::after {align-self: flex-end;width: 50%;}#sk-container-id-1 div.sk-parallel-item:last-child::after {align-self: flex-start;width: 50%;}#sk-container-id-1 div.sk-parallel-item:only-child::after {width: 0;}#sk-container-id-1 div.sk-dashed-wrapped {border: 1px dashed gray;margin: 0 0.4em 0.5em 0.4em;box-sizing: border-box;padding-bottom: 0.4em;background-color: white;}#sk-container-id-1 div.sk-label label {font-family: monospace;font-weight: bold;display: inline-block;line-height: 1.2em;}#sk-container-id-1 div.sk-label-container {text-align: center;}#sk-container-id-1 div.sk-container {/* jupyter's `normalize.less` sets `[hidden] { display: none; }` but bootstrap.min.css set `[hidden] { display: none !important; }` so we also need the `!important` here to be able to override the default hidden behavior on the sphinx rendered scikit-learn.org. See: https://github.com/scikit-learn/scikit-learn/issues/21755 */display: inline-block !important;position: relative;}#sk-container-id-1 div.sk-text-repr-fallback {display: none;}</style><div id=\"sk-container-id-1\" class=\"sk-top-container\"><div class=\"sk-text-repr-fallback\"><pre>GridSearchCV(cv=5,\n",
              "             estimator=XGBRegressor(base_score=None, booster=None,\n",
              "                                    callbacks=None, colsample_bylevel=None,\n",
              "                                    colsample_bynode=None,\n",
              "                                    colsample_bytree=None, device=None,\n",
              "                                    early_stopping_rounds=None,\n",
              "                                    enable_categorical=True, eval_metric=None,\n",
              "                                    feature_types=None, gamma=None,\n",
              "                                    grow_policy=None, importance_type=None,\n",
              "                                    interaction_constraints=None,\n",
              "                                    learning_rate=None, ma...\n",
              "                                    max_cat_to_onehot=None, max_delta_step=None,\n",
              "                                    max_depth=None, max_leaves=None,\n",
              "                                    min_child_weight=None, missing=nan,\n",
              "                                    monotone_constraints=None,\n",
              "                                    multi_strategy=None, n_estimators=None,\n",
              "                                    n_jobs=None, num_parallel_tree=None,\n",
              "                                    random_state=42, ...),\n",
              "             param_grid={&#x27;gamma&#x27;: [0, 5, 10],\n",
              "                         &#x27;learning_rate&#x27;: [0.05, 0.07, 0.1, 0.13, 0.15, 0.17],\n",
              "                         &#x27;max_depth&#x27;: [3, 6, 10, 15]},\n",
              "             return_train_score=True)</pre><b>In a Jupyter environment, please rerun this cell to show the HTML representation or trust the notebook. <br />On GitHub, the HTML representation is unable to render, please try loading this page with nbviewer.org.</b></div><div class=\"sk-container\" hidden><div class=\"sk-item sk-dashed-wrapped\"><div class=\"sk-label-container\"><div class=\"sk-label sk-toggleable\"><input class=\"sk-toggleable__control sk-hidden--visually\" id=\"sk-estimator-id-1\" type=\"checkbox\" ><label for=\"sk-estimator-id-1\" class=\"sk-toggleable__label sk-toggleable__label-arrow\">GridSearchCV</label><div class=\"sk-toggleable__content\"><pre>GridSearchCV(cv=5,\n",
              "             estimator=XGBRegressor(base_score=None, booster=None,\n",
              "                                    callbacks=None, colsample_bylevel=None,\n",
              "                                    colsample_bynode=None,\n",
              "                                    colsample_bytree=None, device=None,\n",
              "                                    early_stopping_rounds=None,\n",
              "                                    enable_categorical=True, eval_metric=None,\n",
              "                                    feature_types=None, gamma=None,\n",
              "                                    grow_policy=None, importance_type=None,\n",
              "                                    interaction_constraints=None,\n",
              "                                    learning_rate=None, ma...\n",
              "                                    max_cat_to_onehot=None, max_delta_step=None,\n",
              "                                    max_depth=None, max_leaves=None,\n",
              "                                    min_child_weight=None, missing=nan,\n",
              "                                    monotone_constraints=None,\n",
              "                                    multi_strategy=None, n_estimators=None,\n",
              "                                    n_jobs=None, num_parallel_tree=None,\n",
              "                                    random_state=42, ...),\n",
              "             param_grid={&#x27;gamma&#x27;: [0, 5, 10],\n",
              "                         &#x27;learning_rate&#x27;: [0.05, 0.07, 0.1, 0.13, 0.15, 0.17],\n",
              "                         &#x27;max_depth&#x27;: [3, 6, 10, 15]},\n",
              "             return_train_score=True)</pre></div></div></div><div class=\"sk-parallel\"><div class=\"sk-parallel-item\"><div class=\"sk-item\"><div class=\"sk-label-container\"><div class=\"sk-label sk-toggleable\"><input class=\"sk-toggleable__control sk-hidden--visually\" id=\"sk-estimator-id-2\" type=\"checkbox\" ><label for=\"sk-estimator-id-2\" class=\"sk-toggleable__label sk-toggleable__label-arrow\">estimator: XGBRegressor</label><div class=\"sk-toggleable__content\"><pre>XGBRegressor(base_score=None, booster=None, callbacks=None,\n",
              "             colsample_bylevel=None, colsample_bynode=None,\n",
              "             colsample_bytree=None, device=None, early_stopping_rounds=None,\n",
              "             enable_categorical=True, eval_metric=None, feature_types=None,\n",
              "             gamma=None, grow_policy=None, importance_type=None,\n",
              "             interaction_constraints=None, learning_rate=None, max_bin=None,\n",
              "             max_cat_threshold=None, max_cat_to_onehot=None,\n",
              "             max_delta_step=None, max_depth=None, max_leaves=None,\n",
              "             min_child_weight=None, missing=nan, monotone_constraints=None,\n",
              "             multi_strategy=None, n_estimators=None, n_jobs=None,\n",
              "             num_parallel_tree=None, random_state=42, ...)</pre></div></div></div><div class=\"sk-serial\"><div class=\"sk-item\"><div class=\"sk-estimator sk-toggleable\"><input class=\"sk-toggleable__control sk-hidden--visually\" id=\"sk-estimator-id-3\" type=\"checkbox\" ><label for=\"sk-estimator-id-3\" class=\"sk-toggleable__label sk-toggleable__label-arrow\">XGBRegressor</label><div class=\"sk-toggleable__content\"><pre>XGBRegressor(base_score=None, booster=None, callbacks=None,\n",
              "             colsample_bylevel=None, colsample_bynode=None,\n",
              "             colsample_bytree=None, device=None, early_stopping_rounds=None,\n",
              "             enable_categorical=True, eval_metric=None, feature_types=None,\n",
              "             gamma=None, grow_policy=None, importance_type=None,\n",
              "             interaction_constraints=None, learning_rate=None, max_bin=None,\n",
              "             max_cat_threshold=None, max_cat_to_onehot=None,\n",
              "             max_delta_step=None, max_depth=None, max_leaves=None,\n",
              "             min_child_weight=None, missing=nan, monotone_constraints=None,\n",
              "             multi_strategy=None, n_estimators=None, n_jobs=None,\n",
              "             num_parallel_tree=None, random_state=42, ...)</pre></div></div></div></div></div></div></div></div></div></div>"
            ]
          },
          "metadata": {},
          "execution_count": 66
        }
      ]
    },
    {
      "cell_type": "code",
      "source": [
        "%%time\n",
        "gs.fit(X, y)"
      ],
      "metadata": {
        "colab": {
          "base_uri": "https://localhost:8080/",
          "height": 151
        },
        "id": "b2FaT439QRGG",
        "outputId": "fb6cd99f-a095-4819-b517-86dea7480f94"
      },
      "execution_count": 67,
      "outputs": [
        {
          "output_type": "stream",
          "name": "stdout",
          "text": [
            "CPU times: user 2min 47s, sys: 1.56 s, total: 2min 49s\n",
            "Wall time: 1min 38s\n"
          ]
        },
        {
          "output_type": "execute_result",
          "data": {
            "text/plain": [
              "GridSearchCV(cv=5,\n",
              "             estimator=XGBRegressor(base_score=None, booster=None,\n",
              "                                    callbacks=None, colsample_bylevel=None,\n",
              "                                    colsample_bynode=None,\n",
              "                                    colsample_bytree=None, device=None,\n",
              "                                    early_stopping_rounds=None,\n",
              "                                    enable_categorical=True, eval_metric=None,\n",
              "                                    feature_types=None, gamma=None,\n",
              "                                    grow_policy=None, importance_type=None,\n",
              "                                    interaction_constraints=None,\n",
              "                                    learning_rate=None, ma...\n",
              "                                    max_cat_to_onehot=None, max_delta_step=None,\n",
              "                                    max_depth=None, max_leaves=None,\n",
              "                                    min_child_weight=None, missing=nan,\n",
              "                                    monotone_constraints=None,\n",
              "                                    multi_strategy=None, n_estimators=None,\n",
              "                                    n_jobs=None, num_parallel_tree=None,\n",
              "                                    random_state=42, ...),\n",
              "             param_grid={'gamma': [0, 5, 10],\n",
              "                         'learning_rate': [0.05, 0.07, 0.1, 0.13, 0.15, 0.17],\n",
              "                         'max_depth': [3, 6, 10, 15]},\n",
              "             return_train_score=True)"
            ],
            "text/html": [
              "<style>#sk-container-id-2 {color: black;background-color: white;}#sk-container-id-2 pre{padding: 0;}#sk-container-id-2 div.sk-toggleable {background-color: white;}#sk-container-id-2 label.sk-toggleable__label {cursor: pointer;display: block;width: 100%;margin-bottom: 0;padding: 0.3em;box-sizing: border-box;text-align: center;}#sk-container-id-2 label.sk-toggleable__label-arrow:before {content: \"▸\";float: left;margin-right: 0.25em;color: #696969;}#sk-container-id-2 label.sk-toggleable__label-arrow:hover:before {color: black;}#sk-container-id-2 div.sk-estimator:hover label.sk-toggleable__label-arrow:before {color: black;}#sk-container-id-2 div.sk-toggleable__content {max-height: 0;max-width: 0;overflow: hidden;text-align: left;background-color: #f0f8ff;}#sk-container-id-2 div.sk-toggleable__content pre {margin: 0.2em;color: black;border-radius: 0.25em;background-color: #f0f8ff;}#sk-container-id-2 input.sk-toggleable__control:checked~div.sk-toggleable__content {max-height: 200px;max-width: 100%;overflow: auto;}#sk-container-id-2 input.sk-toggleable__control:checked~label.sk-toggleable__label-arrow:before {content: \"▾\";}#sk-container-id-2 div.sk-estimator input.sk-toggleable__control:checked~label.sk-toggleable__label {background-color: #d4ebff;}#sk-container-id-2 div.sk-label input.sk-toggleable__control:checked~label.sk-toggleable__label {background-color: #d4ebff;}#sk-container-id-2 input.sk-hidden--visually {border: 0;clip: rect(1px 1px 1px 1px);clip: rect(1px, 1px, 1px, 1px);height: 1px;margin: -1px;overflow: hidden;padding: 0;position: absolute;width: 1px;}#sk-container-id-2 div.sk-estimator {font-family: monospace;background-color: #f0f8ff;border: 1px dotted black;border-radius: 0.25em;box-sizing: border-box;margin-bottom: 0.5em;}#sk-container-id-2 div.sk-estimator:hover {background-color: #d4ebff;}#sk-container-id-2 div.sk-parallel-item::after {content: \"\";width: 100%;border-bottom: 1px solid gray;flex-grow: 1;}#sk-container-id-2 div.sk-label:hover label.sk-toggleable__label {background-color: #d4ebff;}#sk-container-id-2 div.sk-serial::before {content: \"\";position: absolute;border-left: 1px solid gray;box-sizing: border-box;top: 0;bottom: 0;left: 50%;z-index: 0;}#sk-container-id-2 div.sk-serial {display: flex;flex-direction: column;align-items: center;background-color: white;padding-right: 0.2em;padding-left: 0.2em;position: relative;}#sk-container-id-2 div.sk-item {position: relative;z-index: 1;}#sk-container-id-2 div.sk-parallel {display: flex;align-items: stretch;justify-content: center;background-color: white;position: relative;}#sk-container-id-2 div.sk-item::before, #sk-container-id-2 div.sk-parallel-item::before {content: \"\";position: absolute;border-left: 1px solid gray;box-sizing: border-box;top: 0;bottom: 0;left: 50%;z-index: -1;}#sk-container-id-2 div.sk-parallel-item {display: flex;flex-direction: column;z-index: 1;position: relative;background-color: white;}#sk-container-id-2 div.sk-parallel-item:first-child::after {align-self: flex-end;width: 50%;}#sk-container-id-2 div.sk-parallel-item:last-child::after {align-self: flex-start;width: 50%;}#sk-container-id-2 div.sk-parallel-item:only-child::after {width: 0;}#sk-container-id-2 div.sk-dashed-wrapped {border: 1px dashed gray;margin: 0 0.4em 0.5em 0.4em;box-sizing: border-box;padding-bottom: 0.4em;background-color: white;}#sk-container-id-2 div.sk-label label {font-family: monospace;font-weight: bold;display: inline-block;line-height: 1.2em;}#sk-container-id-2 div.sk-label-container {text-align: center;}#sk-container-id-2 div.sk-container {/* jupyter's `normalize.less` sets `[hidden] { display: none; }` but bootstrap.min.css set `[hidden] { display: none !important; }` so we also need the `!important` here to be able to override the default hidden behavior on the sphinx rendered scikit-learn.org. See: https://github.com/scikit-learn/scikit-learn/issues/21755 */display: inline-block !important;position: relative;}#sk-container-id-2 div.sk-text-repr-fallback {display: none;}</style><div id=\"sk-container-id-2\" class=\"sk-top-container\"><div class=\"sk-text-repr-fallback\"><pre>GridSearchCV(cv=5,\n",
              "             estimator=XGBRegressor(base_score=None, booster=None,\n",
              "                                    callbacks=None, colsample_bylevel=None,\n",
              "                                    colsample_bynode=None,\n",
              "                                    colsample_bytree=None, device=None,\n",
              "                                    early_stopping_rounds=None,\n",
              "                                    enable_categorical=True, eval_metric=None,\n",
              "                                    feature_types=None, gamma=None,\n",
              "                                    grow_policy=None, importance_type=None,\n",
              "                                    interaction_constraints=None,\n",
              "                                    learning_rate=None, ma...\n",
              "                                    max_cat_to_onehot=None, max_delta_step=None,\n",
              "                                    max_depth=None, max_leaves=None,\n",
              "                                    min_child_weight=None, missing=nan,\n",
              "                                    monotone_constraints=None,\n",
              "                                    multi_strategy=None, n_estimators=None,\n",
              "                                    n_jobs=None, num_parallel_tree=None,\n",
              "                                    random_state=42, ...),\n",
              "             param_grid={&#x27;gamma&#x27;: [0, 5, 10],\n",
              "                         &#x27;learning_rate&#x27;: [0.05, 0.07, 0.1, 0.13, 0.15, 0.17],\n",
              "                         &#x27;max_depth&#x27;: [3, 6, 10, 15]},\n",
              "             return_train_score=True)</pre><b>In a Jupyter environment, please rerun this cell to show the HTML representation or trust the notebook. <br />On GitHub, the HTML representation is unable to render, please try loading this page with nbviewer.org.</b></div><div class=\"sk-container\" hidden><div class=\"sk-item sk-dashed-wrapped\"><div class=\"sk-label-container\"><div class=\"sk-label sk-toggleable\"><input class=\"sk-toggleable__control sk-hidden--visually\" id=\"sk-estimator-id-4\" type=\"checkbox\" ><label for=\"sk-estimator-id-4\" class=\"sk-toggleable__label sk-toggleable__label-arrow\">GridSearchCV</label><div class=\"sk-toggleable__content\"><pre>GridSearchCV(cv=5,\n",
              "             estimator=XGBRegressor(base_score=None, booster=None,\n",
              "                                    callbacks=None, colsample_bylevel=None,\n",
              "                                    colsample_bynode=None,\n",
              "                                    colsample_bytree=None, device=None,\n",
              "                                    early_stopping_rounds=None,\n",
              "                                    enable_categorical=True, eval_metric=None,\n",
              "                                    feature_types=None, gamma=None,\n",
              "                                    grow_policy=None, importance_type=None,\n",
              "                                    interaction_constraints=None,\n",
              "                                    learning_rate=None, ma...\n",
              "                                    max_cat_to_onehot=None, max_delta_step=None,\n",
              "                                    max_depth=None, max_leaves=None,\n",
              "                                    min_child_weight=None, missing=nan,\n",
              "                                    monotone_constraints=None,\n",
              "                                    multi_strategy=None, n_estimators=None,\n",
              "                                    n_jobs=None, num_parallel_tree=None,\n",
              "                                    random_state=42, ...),\n",
              "             param_grid={&#x27;gamma&#x27;: [0, 5, 10],\n",
              "                         &#x27;learning_rate&#x27;: [0.05, 0.07, 0.1, 0.13, 0.15, 0.17],\n",
              "                         &#x27;max_depth&#x27;: [3, 6, 10, 15]},\n",
              "             return_train_score=True)</pre></div></div></div><div class=\"sk-parallel\"><div class=\"sk-parallel-item\"><div class=\"sk-item\"><div class=\"sk-label-container\"><div class=\"sk-label sk-toggleable\"><input class=\"sk-toggleable__control sk-hidden--visually\" id=\"sk-estimator-id-5\" type=\"checkbox\" ><label for=\"sk-estimator-id-5\" class=\"sk-toggleable__label sk-toggleable__label-arrow\">estimator: XGBRegressor</label><div class=\"sk-toggleable__content\"><pre>XGBRegressor(base_score=None, booster=None, callbacks=None,\n",
              "             colsample_bylevel=None, colsample_bynode=None,\n",
              "             colsample_bytree=None, device=None, early_stopping_rounds=None,\n",
              "             enable_categorical=True, eval_metric=None, feature_types=None,\n",
              "             gamma=None, grow_policy=None, importance_type=None,\n",
              "             interaction_constraints=None, learning_rate=None, max_bin=None,\n",
              "             max_cat_threshold=None, max_cat_to_onehot=None,\n",
              "             max_delta_step=None, max_depth=None, max_leaves=None,\n",
              "             min_child_weight=None, missing=nan, monotone_constraints=None,\n",
              "             multi_strategy=None, n_estimators=None, n_jobs=None,\n",
              "             num_parallel_tree=None, random_state=42, ...)</pre></div></div></div><div class=\"sk-serial\"><div class=\"sk-item\"><div class=\"sk-estimator sk-toggleable\"><input class=\"sk-toggleable__control sk-hidden--visually\" id=\"sk-estimator-id-6\" type=\"checkbox\" ><label for=\"sk-estimator-id-6\" class=\"sk-toggleable__label sk-toggleable__label-arrow\">XGBRegressor</label><div class=\"sk-toggleable__content\"><pre>XGBRegressor(base_score=None, booster=None, callbacks=None,\n",
              "             colsample_bylevel=None, colsample_bynode=None,\n",
              "             colsample_bytree=None, device=None, early_stopping_rounds=None,\n",
              "             enable_categorical=True, eval_metric=None, feature_types=None,\n",
              "             gamma=None, grow_policy=None, importance_type=None,\n",
              "             interaction_constraints=None, learning_rate=None, max_bin=None,\n",
              "             max_cat_threshold=None, max_cat_to_onehot=None,\n",
              "             max_delta_step=None, max_depth=None, max_leaves=None,\n",
              "             min_child_weight=None, missing=nan, monotone_constraints=None,\n",
              "             multi_strategy=None, n_estimators=None, n_jobs=None,\n",
              "             num_parallel_tree=None, random_state=42, ...)</pre></div></div></div></div></div></div></div></div></div></div>"
            ]
          },
          "metadata": {},
          "execution_count": 67
        }
      ]
    },
    {
      "cell_type": "code",
      "source": [
        "res_df = pd.DataFrame(gs.cv_results_).set_index('rank_test_score')\n",
        "res_df = res_df[['param_gamma', 'param_learning_rate', 'param_max_depth','mean_test_score', 'std_test_score', 'mean_train_score', 'std_train_score']]\n",
        "res_df.sort_index()"
      ],
      "metadata": {
        "colab": {
          "base_uri": "https://localhost:8080/",
          "height": 455
        },
        "id": "KVzPGFIPQVpe",
        "outputId": "eee98d3e-abd0-431d-c7be-093c05269154"
      },
      "execution_count": 68,
      "outputs": [
        {
          "output_type": "execute_result",
          "data": {
            "text/plain": [
              "                param_gamma param_learning_rate param_max_depth  \\\n",
              "rank_test_score                                                   \n",
              "1                         0                 0.1               3   \n",
              "2                         5                 0.1               3   \n",
              "3                        10                 0.1               3   \n",
              "4                         5                0.15               3   \n",
              "5                        10                0.15               3   \n",
              "...                     ...                 ...             ...   \n",
              "68                       10                0.17              15   \n",
              "69                        5                0.05              10   \n",
              "70                        5                0.17              15   \n",
              "71                        0                0.17              15   \n",
              "72                        0                0.17              10   \n",
              "\n",
              "                 mean_test_score  std_test_score  mean_train_score  \\\n",
              "rank_test_score                                                      \n",
              "1                       0.850179        0.043077          0.956621   \n",
              "2                       0.850179        0.043076          0.956621   \n",
              "3                       0.850177        0.043074          0.956621   \n",
              "4                       0.848357        0.043294          0.966211   \n",
              "5                       0.848119        0.043112          0.966424   \n",
              "...                          ...             ...               ...   \n",
              "68                      0.813325        0.057005          0.999599   \n",
              "69                      0.812557        0.053289          0.998346   \n",
              "70                      0.812255        0.055926          0.999679   \n",
              "71                      0.811401        0.055960          0.999781   \n",
              "72                      0.807444        0.054640          0.999778   \n",
              "\n",
              "                 std_train_score  \n",
              "rank_test_score                   \n",
              "1                       0.001589  \n",
              "2                       0.001589  \n",
              "3                       0.001589  \n",
              "4                       0.002281  \n",
              "5                       0.002132  \n",
              "...                          ...  \n",
              "68                      0.000087  \n",
              "69                      0.000081  \n",
              "70                      0.000087  \n",
              "71                      0.000088  \n",
              "72                      0.000088  \n",
              "\n",
              "[72 rows x 7 columns]"
            ],
            "text/html": [
              "\n",
              "  <div id=\"df-2ae1ae7e-389f-481c-9dcd-bcea49a2488d\" class=\"colab-df-container\">\n",
              "    <div>\n",
              "<style scoped>\n",
              "    .dataframe tbody tr th:only-of-type {\n",
              "        vertical-align: middle;\n",
              "    }\n",
              "\n",
              "    .dataframe tbody tr th {\n",
              "        vertical-align: top;\n",
              "    }\n",
              "\n",
              "    .dataframe thead th {\n",
              "        text-align: right;\n",
              "    }\n",
              "</style>\n",
              "<table border=\"1\" class=\"dataframe\">\n",
              "  <thead>\n",
              "    <tr style=\"text-align: right;\">\n",
              "      <th></th>\n",
              "      <th>param_gamma</th>\n",
              "      <th>param_learning_rate</th>\n",
              "      <th>param_max_depth</th>\n",
              "      <th>mean_test_score</th>\n",
              "      <th>std_test_score</th>\n",
              "      <th>mean_train_score</th>\n",
              "      <th>std_train_score</th>\n",
              "    </tr>\n",
              "    <tr>\n",
              "      <th>rank_test_score</th>\n",
              "      <th></th>\n",
              "      <th></th>\n",
              "      <th></th>\n",
              "      <th></th>\n",
              "      <th></th>\n",
              "      <th></th>\n",
              "      <th></th>\n",
              "    </tr>\n",
              "  </thead>\n",
              "  <tbody>\n",
              "    <tr>\n",
              "      <th>1</th>\n",
              "      <td>0</td>\n",
              "      <td>0.1</td>\n",
              "      <td>3</td>\n",
              "      <td>0.850179</td>\n",
              "      <td>0.043077</td>\n",
              "      <td>0.956621</td>\n",
              "      <td>0.001589</td>\n",
              "    </tr>\n",
              "    <tr>\n",
              "      <th>2</th>\n",
              "      <td>5</td>\n",
              "      <td>0.1</td>\n",
              "      <td>3</td>\n",
              "      <td>0.850179</td>\n",
              "      <td>0.043076</td>\n",
              "      <td>0.956621</td>\n",
              "      <td>0.001589</td>\n",
              "    </tr>\n",
              "    <tr>\n",
              "      <th>3</th>\n",
              "      <td>10</td>\n",
              "      <td>0.1</td>\n",
              "      <td>3</td>\n",
              "      <td>0.850177</td>\n",
              "      <td>0.043074</td>\n",
              "      <td>0.956621</td>\n",
              "      <td>0.001589</td>\n",
              "    </tr>\n",
              "    <tr>\n",
              "      <th>4</th>\n",
              "      <td>5</td>\n",
              "      <td>0.15</td>\n",
              "      <td>3</td>\n",
              "      <td>0.848357</td>\n",
              "      <td>0.043294</td>\n",
              "      <td>0.966211</td>\n",
              "      <td>0.002281</td>\n",
              "    </tr>\n",
              "    <tr>\n",
              "      <th>5</th>\n",
              "      <td>10</td>\n",
              "      <td>0.15</td>\n",
              "      <td>3</td>\n",
              "      <td>0.848119</td>\n",
              "      <td>0.043112</td>\n",
              "      <td>0.966424</td>\n",
              "      <td>0.002132</td>\n",
              "    </tr>\n",
              "    <tr>\n",
              "      <th>...</th>\n",
              "      <td>...</td>\n",
              "      <td>...</td>\n",
              "      <td>...</td>\n",
              "      <td>...</td>\n",
              "      <td>...</td>\n",
              "      <td>...</td>\n",
              "      <td>...</td>\n",
              "    </tr>\n",
              "    <tr>\n",
              "      <th>68</th>\n",
              "      <td>10</td>\n",
              "      <td>0.17</td>\n",
              "      <td>15</td>\n",
              "      <td>0.813325</td>\n",
              "      <td>0.057005</td>\n",
              "      <td>0.999599</td>\n",
              "      <td>0.000087</td>\n",
              "    </tr>\n",
              "    <tr>\n",
              "      <th>69</th>\n",
              "      <td>5</td>\n",
              "      <td>0.05</td>\n",
              "      <td>10</td>\n",
              "      <td>0.812557</td>\n",
              "      <td>0.053289</td>\n",
              "      <td>0.998346</td>\n",
              "      <td>0.000081</td>\n",
              "    </tr>\n",
              "    <tr>\n",
              "      <th>70</th>\n",
              "      <td>5</td>\n",
              "      <td>0.17</td>\n",
              "      <td>15</td>\n",
              "      <td>0.812255</td>\n",
              "      <td>0.055926</td>\n",
              "      <td>0.999679</td>\n",
              "      <td>0.000087</td>\n",
              "    </tr>\n",
              "    <tr>\n",
              "      <th>71</th>\n",
              "      <td>0</td>\n",
              "      <td>0.17</td>\n",
              "      <td>15</td>\n",
              "      <td>0.811401</td>\n",
              "      <td>0.055960</td>\n",
              "      <td>0.999781</td>\n",
              "      <td>0.000088</td>\n",
              "    </tr>\n",
              "    <tr>\n",
              "      <th>72</th>\n",
              "      <td>0</td>\n",
              "      <td>0.17</td>\n",
              "      <td>10</td>\n",
              "      <td>0.807444</td>\n",
              "      <td>0.054640</td>\n",
              "      <td>0.999778</td>\n",
              "      <td>0.000088</td>\n",
              "    </tr>\n",
              "  </tbody>\n",
              "</table>\n",
              "<p>72 rows × 7 columns</p>\n",
              "</div>\n",
              "    <div class=\"colab-df-buttons\">\n",
              "\n",
              "  <div class=\"colab-df-container\">\n",
              "    <button class=\"colab-df-convert\" onclick=\"convertToInteractive('df-2ae1ae7e-389f-481c-9dcd-bcea49a2488d')\"\n",
              "            title=\"Convert this dataframe to an interactive table.\"\n",
              "            style=\"display:none;\">\n",
              "\n",
              "  <svg xmlns=\"http://www.w3.org/2000/svg\" height=\"24px\" viewBox=\"0 -960 960 960\">\n",
              "    <path d=\"M120-120v-720h720v720H120Zm60-500h600v-160H180v160Zm220 220h160v-160H400v160Zm0 220h160v-160H400v160ZM180-400h160v-160H180v160Zm440 0h160v-160H620v160ZM180-180h160v-160H180v160Zm440 0h160v-160H620v160Z\"/>\n",
              "  </svg>\n",
              "    </button>\n",
              "\n",
              "  <style>\n",
              "    .colab-df-container {\n",
              "      display:flex;\n",
              "      gap: 12px;\n",
              "    }\n",
              "\n",
              "    .colab-df-convert {\n",
              "      background-color: #E8F0FE;\n",
              "      border: none;\n",
              "      border-radius: 50%;\n",
              "      cursor: pointer;\n",
              "      display: none;\n",
              "      fill: #1967D2;\n",
              "      height: 32px;\n",
              "      padding: 0 0 0 0;\n",
              "      width: 32px;\n",
              "    }\n",
              "\n",
              "    .colab-df-convert:hover {\n",
              "      background-color: #E2EBFA;\n",
              "      box-shadow: 0px 1px 2px rgba(60, 64, 67, 0.3), 0px 1px 3px 1px rgba(60, 64, 67, 0.15);\n",
              "      fill: #174EA6;\n",
              "    }\n",
              "\n",
              "    .colab-df-buttons div {\n",
              "      margin-bottom: 4px;\n",
              "    }\n",
              "\n",
              "    [theme=dark] .colab-df-convert {\n",
              "      background-color: #3B4455;\n",
              "      fill: #D2E3FC;\n",
              "    }\n",
              "\n",
              "    [theme=dark] .colab-df-convert:hover {\n",
              "      background-color: #434B5C;\n",
              "      box-shadow: 0px 1px 3px 1px rgba(0, 0, 0, 0.15);\n",
              "      filter: drop-shadow(0px 1px 2px rgba(0, 0, 0, 0.3));\n",
              "      fill: #FFFFFF;\n",
              "    }\n",
              "  </style>\n",
              "\n",
              "    <script>\n",
              "      const buttonEl =\n",
              "        document.querySelector('#df-2ae1ae7e-389f-481c-9dcd-bcea49a2488d button.colab-df-convert');\n",
              "      buttonEl.style.display =\n",
              "        google.colab.kernel.accessAllowed ? 'block' : 'none';\n",
              "\n",
              "      async function convertToInteractive(key) {\n",
              "        const element = document.querySelector('#df-2ae1ae7e-389f-481c-9dcd-bcea49a2488d');\n",
              "        const dataTable =\n",
              "          await google.colab.kernel.invokeFunction('convertToInteractive',\n",
              "                                                    [key], {});\n",
              "        if (!dataTable) return;\n",
              "\n",
              "        const docLinkHtml = 'Like what you see? Visit the ' +\n",
              "          '<a target=\"_blank\" href=https://colab.research.google.com/notebooks/data_table.ipynb>data table notebook</a>'\n",
              "          + ' to learn more about interactive tables.';\n",
              "        element.innerHTML = '';\n",
              "        dataTable['output_type'] = 'display_data';\n",
              "        await google.colab.output.renderOutput(dataTable, element);\n",
              "        const docLink = document.createElement('div');\n",
              "        docLink.innerHTML = docLinkHtml;\n",
              "        element.appendChild(docLink);\n",
              "      }\n",
              "    </script>\n",
              "  </div>\n",
              "\n",
              "\n",
              "<div id=\"df-599f74f5-1c94-4de2-83b7-0e3fb5cdd4d4\">\n",
              "  <button class=\"colab-df-quickchart\" onclick=\"quickchart('df-599f74f5-1c94-4de2-83b7-0e3fb5cdd4d4')\"\n",
              "            title=\"Suggest charts\"\n",
              "            style=\"display:none;\">\n",
              "\n",
              "<svg xmlns=\"http://www.w3.org/2000/svg\" height=\"24px\"viewBox=\"0 0 24 24\"\n",
              "     width=\"24px\">\n",
              "    <g>\n",
              "        <path d=\"M19 3H5c-1.1 0-2 .9-2 2v14c0 1.1.9 2 2 2h14c1.1 0 2-.9 2-2V5c0-1.1-.9-2-2-2zM9 17H7v-7h2v7zm4 0h-2V7h2v10zm4 0h-2v-4h2v4z\"/>\n",
              "    </g>\n",
              "</svg>\n",
              "  </button>\n",
              "\n",
              "<style>\n",
              "  .colab-df-quickchart {\n",
              "      --bg-color: #E8F0FE;\n",
              "      --fill-color: #1967D2;\n",
              "      --hover-bg-color: #E2EBFA;\n",
              "      --hover-fill-color: #174EA6;\n",
              "      --disabled-fill-color: #AAA;\n",
              "      --disabled-bg-color: #DDD;\n",
              "  }\n",
              "\n",
              "  [theme=dark] .colab-df-quickchart {\n",
              "      --bg-color: #3B4455;\n",
              "      --fill-color: #D2E3FC;\n",
              "      --hover-bg-color: #434B5C;\n",
              "      --hover-fill-color: #FFFFFF;\n",
              "      --disabled-bg-color: #3B4455;\n",
              "      --disabled-fill-color: #666;\n",
              "  }\n",
              "\n",
              "  .colab-df-quickchart {\n",
              "    background-color: var(--bg-color);\n",
              "    border: none;\n",
              "    border-radius: 50%;\n",
              "    cursor: pointer;\n",
              "    display: none;\n",
              "    fill: var(--fill-color);\n",
              "    height: 32px;\n",
              "    padding: 0;\n",
              "    width: 32px;\n",
              "  }\n",
              "\n",
              "  .colab-df-quickchart:hover {\n",
              "    background-color: var(--hover-bg-color);\n",
              "    box-shadow: 0 1px 2px rgba(60, 64, 67, 0.3), 0 1px 3px 1px rgba(60, 64, 67, 0.15);\n",
              "    fill: var(--button-hover-fill-color);\n",
              "  }\n",
              "\n",
              "  .colab-df-quickchart-complete:disabled,\n",
              "  .colab-df-quickchart-complete:disabled:hover {\n",
              "    background-color: var(--disabled-bg-color);\n",
              "    fill: var(--disabled-fill-color);\n",
              "    box-shadow: none;\n",
              "  }\n",
              "\n",
              "  .colab-df-spinner {\n",
              "    border: 2px solid var(--fill-color);\n",
              "    border-color: transparent;\n",
              "    border-bottom-color: var(--fill-color);\n",
              "    animation:\n",
              "      spin 1s steps(1) infinite;\n",
              "  }\n",
              "\n",
              "  @keyframes spin {\n",
              "    0% {\n",
              "      border-color: transparent;\n",
              "      border-bottom-color: var(--fill-color);\n",
              "      border-left-color: var(--fill-color);\n",
              "    }\n",
              "    20% {\n",
              "      border-color: transparent;\n",
              "      border-left-color: var(--fill-color);\n",
              "      border-top-color: var(--fill-color);\n",
              "    }\n",
              "    30% {\n",
              "      border-color: transparent;\n",
              "      border-left-color: var(--fill-color);\n",
              "      border-top-color: var(--fill-color);\n",
              "      border-right-color: var(--fill-color);\n",
              "    }\n",
              "    40% {\n",
              "      border-color: transparent;\n",
              "      border-right-color: var(--fill-color);\n",
              "      border-top-color: var(--fill-color);\n",
              "    }\n",
              "    60% {\n",
              "      border-color: transparent;\n",
              "      border-right-color: var(--fill-color);\n",
              "    }\n",
              "    80% {\n",
              "      border-color: transparent;\n",
              "      border-right-color: var(--fill-color);\n",
              "      border-bottom-color: var(--fill-color);\n",
              "    }\n",
              "    90% {\n",
              "      border-color: transparent;\n",
              "      border-bottom-color: var(--fill-color);\n",
              "    }\n",
              "  }\n",
              "</style>\n",
              "\n",
              "  <script>\n",
              "    async function quickchart(key) {\n",
              "      const quickchartButtonEl =\n",
              "        document.querySelector('#' + key + ' button');\n",
              "      quickchartButtonEl.disabled = true;  // To prevent multiple clicks.\n",
              "      quickchartButtonEl.classList.add('colab-df-spinner');\n",
              "      try {\n",
              "        const charts = await google.colab.kernel.invokeFunction(\n",
              "            'suggestCharts', [key], {});\n",
              "      } catch (error) {\n",
              "        console.error('Error during call to suggestCharts:', error);\n",
              "      }\n",
              "      quickchartButtonEl.classList.remove('colab-df-spinner');\n",
              "      quickchartButtonEl.classList.add('colab-df-quickchart-complete');\n",
              "    }\n",
              "    (() => {\n",
              "      let quickchartButtonEl =\n",
              "        document.querySelector('#df-599f74f5-1c94-4de2-83b7-0e3fb5cdd4d4 button');\n",
              "      quickchartButtonEl.style.display =\n",
              "        google.colab.kernel.accessAllowed ? 'block' : 'none';\n",
              "    })();\n",
              "  </script>\n",
              "</div>\n",
              "\n",
              "    </div>\n",
              "  </div>\n"
            ],
            "application/vnd.google.colaboratory.intrinsic+json": {
              "type": "dataframe",
              "summary": "{\n  \"name\": \"res_df\",\n  \"rows\": 72,\n  \"fields\": [\n    {\n      \"column\": \"rank_test_score\",\n      \"properties\": {\n        \"dtype\": \"int32\",\n        \"num_unique_values\": 69,\n        \"samples\": [\n          26,\n          1,\n          51\n        ],\n        \"semantic_type\": \"\",\n        \"description\": \"\"\n      }\n    },\n    {\n      \"column\": \"param_gamma\",\n      \"properties\": {\n        \"dtype\": \"date\",\n        \"min\": 0,\n        \"max\": 10,\n        \"num_unique_values\": 3,\n        \"samples\": [\n          0,\n          5,\n          10\n        ],\n        \"semantic_type\": \"\",\n        \"description\": \"\"\n      }\n    },\n    {\n      \"column\": \"param_learning_rate\",\n      \"properties\": {\n        \"dtype\": \"date\",\n        \"min\": 0.05,\n        \"max\": 0.17,\n        \"num_unique_values\": 6,\n        \"samples\": [\n          0.1,\n          0.15,\n          0.05\n        ],\n        \"semantic_type\": \"\",\n        \"description\": \"\"\n      }\n    },\n    {\n      \"column\": \"param_max_depth\",\n      \"properties\": {\n        \"dtype\": \"date\",\n        \"min\": 3,\n        \"max\": 15,\n        \"num_unique_values\": 4,\n        \"samples\": [\n          6,\n          15,\n          3\n        ],\n        \"semantic_type\": \"\",\n        \"description\": \"\"\n      }\n    },\n    {\n      \"column\": \"mean_test_score\",\n      \"properties\": {\n        \"dtype\": \"number\",\n        \"std\": 0.012983804048323248,\n        \"min\": 0.8074438120439776,\n        \"max\": 0.8501789602515453,\n        \"num_unique_values\": 69,\n        \"samples\": [\n          0.8288520969758435,\n          0.8501789602515453,\n          0.8163024692680733\n        ],\n        \"semantic_type\": \"\",\n        \"description\": \"\"\n      }\n    },\n    {\n      \"column\": \"std_test_score\",\n      \"properties\": {\n        \"dtype\": \"number\",\n        \"std\": 0.005338032265747077,\n        \"min\": 0.03740657662372818,\n        \"max\": 0.05714670992444565,\n        \"num_unique_values\": 69,\n        \"samples\": [\n          0.04993458291169242,\n          0.043076557228397955,\n          0.052678722885160685\n        ],\n        \"semantic_type\": \"\",\n        \"description\": \"\"\n      }\n    },\n    {\n      \"column\": \"mean_train_score\",\n      \"properties\": {\n        \"dtype\": \"number\",\n        \"std\": 0.01910125489958401,\n        \"min\": 0.9367697161660862,\n        \"max\": 0.9997809301500805,\n        \"num_unique_values\": 69,\n        \"samples\": [\n          0.9884156505199201,\n          0.9566211728777642,\n          0.9996731674238083\n        ],\n        \"semantic_type\": \"\",\n        \"description\": \"\"\n      }\n    },\n    {\n      \"column\": \"std_train_score\",\n      \"properties\": {\n        \"dtype\": \"number\",\n        \"std\": 0.0008462049957023595,\n        \"min\": 5.661368850730128e-05,\n        \"max\": 0.0024956757307359996,\n        \"num_unique_values\": 69,\n        \"samples\": [\n          0.0012842885395885628,\n          0.0015888601297575156,\n          8.622908961250485e-05\n        ],\n        \"semantic_type\": \"\",\n        \"description\": \"\"\n      }\n    }\n  ]\n}"
            }
          },
          "metadata": {},
          "execution_count": 68
        }
      ]
    },
    {
      "cell_type": "code",
      "source": [
        "res_df.groupby(\"param_learning_rate\").max()"
      ],
      "metadata": {
        "colab": {
          "base_uri": "https://localhost:8080/",
          "height": 269
        },
        "id": "pahxfI_FQXEu",
        "outputId": "b475a665-3ba2-42ca-9cd3-6b9c6c7a85d9"
      },
      "execution_count": 69,
      "outputs": [
        {
          "output_type": "execute_result",
          "data": {
            "text/plain": [
              "                    param_gamma param_max_depth  mean_test_score  \\\n",
              "param_learning_rate                                                \n",
              "0.05                         10              15         0.841301   \n",
              "0.07                         10              15         0.845666   \n",
              "0.10                         10              15         0.850179   \n",
              "0.13                         10              15         0.846863   \n",
              "0.15                         10              15         0.848357   \n",
              "0.17                         10              15         0.847342   \n",
              "\n",
              "                     std_test_score  mean_train_score  std_train_score  \n",
              "param_learning_rate                                                     \n",
              "0.05                       0.053698          0.998940         0.002496  \n",
              "0.07                       0.056746          0.999690         0.002134  \n",
              "0.10                       0.055661          0.999777         0.001589  \n",
              "0.13                       0.056165          0.999781         0.002326  \n",
              "0.15                       0.054756          0.999781         0.002348  \n",
              "0.17                       0.057147          0.999781         0.001477  "
            ],
            "text/html": [
              "\n",
              "  <div id=\"df-7d59aa80-56ba-457f-a040-450f6a5b42c0\" class=\"colab-df-container\">\n",
              "    <div>\n",
              "<style scoped>\n",
              "    .dataframe tbody tr th:only-of-type {\n",
              "        vertical-align: middle;\n",
              "    }\n",
              "\n",
              "    .dataframe tbody tr th {\n",
              "        vertical-align: top;\n",
              "    }\n",
              "\n",
              "    .dataframe thead th {\n",
              "        text-align: right;\n",
              "    }\n",
              "</style>\n",
              "<table border=\"1\" class=\"dataframe\">\n",
              "  <thead>\n",
              "    <tr style=\"text-align: right;\">\n",
              "      <th></th>\n",
              "      <th>param_gamma</th>\n",
              "      <th>param_max_depth</th>\n",
              "      <th>mean_test_score</th>\n",
              "      <th>std_test_score</th>\n",
              "      <th>mean_train_score</th>\n",
              "      <th>std_train_score</th>\n",
              "    </tr>\n",
              "    <tr>\n",
              "      <th>param_learning_rate</th>\n",
              "      <th></th>\n",
              "      <th></th>\n",
              "      <th></th>\n",
              "      <th></th>\n",
              "      <th></th>\n",
              "      <th></th>\n",
              "    </tr>\n",
              "  </thead>\n",
              "  <tbody>\n",
              "    <tr>\n",
              "      <th>0.05</th>\n",
              "      <td>10</td>\n",
              "      <td>15</td>\n",
              "      <td>0.841301</td>\n",
              "      <td>0.053698</td>\n",
              "      <td>0.998940</td>\n",
              "      <td>0.002496</td>\n",
              "    </tr>\n",
              "    <tr>\n",
              "      <th>0.07</th>\n",
              "      <td>10</td>\n",
              "      <td>15</td>\n",
              "      <td>0.845666</td>\n",
              "      <td>0.056746</td>\n",
              "      <td>0.999690</td>\n",
              "      <td>0.002134</td>\n",
              "    </tr>\n",
              "    <tr>\n",
              "      <th>0.10</th>\n",
              "      <td>10</td>\n",
              "      <td>15</td>\n",
              "      <td>0.850179</td>\n",
              "      <td>0.055661</td>\n",
              "      <td>0.999777</td>\n",
              "      <td>0.001589</td>\n",
              "    </tr>\n",
              "    <tr>\n",
              "      <th>0.13</th>\n",
              "      <td>10</td>\n",
              "      <td>15</td>\n",
              "      <td>0.846863</td>\n",
              "      <td>0.056165</td>\n",
              "      <td>0.999781</td>\n",
              "      <td>0.002326</td>\n",
              "    </tr>\n",
              "    <tr>\n",
              "      <th>0.15</th>\n",
              "      <td>10</td>\n",
              "      <td>15</td>\n",
              "      <td>0.848357</td>\n",
              "      <td>0.054756</td>\n",
              "      <td>0.999781</td>\n",
              "      <td>0.002348</td>\n",
              "    </tr>\n",
              "    <tr>\n",
              "      <th>0.17</th>\n",
              "      <td>10</td>\n",
              "      <td>15</td>\n",
              "      <td>0.847342</td>\n",
              "      <td>0.057147</td>\n",
              "      <td>0.999781</td>\n",
              "      <td>0.001477</td>\n",
              "    </tr>\n",
              "  </tbody>\n",
              "</table>\n",
              "</div>\n",
              "    <div class=\"colab-df-buttons\">\n",
              "\n",
              "  <div class=\"colab-df-container\">\n",
              "    <button class=\"colab-df-convert\" onclick=\"convertToInteractive('df-7d59aa80-56ba-457f-a040-450f6a5b42c0')\"\n",
              "            title=\"Convert this dataframe to an interactive table.\"\n",
              "            style=\"display:none;\">\n",
              "\n",
              "  <svg xmlns=\"http://www.w3.org/2000/svg\" height=\"24px\" viewBox=\"0 -960 960 960\">\n",
              "    <path d=\"M120-120v-720h720v720H120Zm60-500h600v-160H180v160Zm220 220h160v-160H400v160Zm0 220h160v-160H400v160ZM180-400h160v-160H180v160Zm440 0h160v-160H620v160ZM180-180h160v-160H180v160Zm440 0h160v-160H620v160Z\"/>\n",
              "  </svg>\n",
              "    </button>\n",
              "\n",
              "  <style>\n",
              "    .colab-df-container {\n",
              "      display:flex;\n",
              "      gap: 12px;\n",
              "    }\n",
              "\n",
              "    .colab-df-convert {\n",
              "      background-color: #E8F0FE;\n",
              "      border: none;\n",
              "      border-radius: 50%;\n",
              "      cursor: pointer;\n",
              "      display: none;\n",
              "      fill: #1967D2;\n",
              "      height: 32px;\n",
              "      padding: 0 0 0 0;\n",
              "      width: 32px;\n",
              "    }\n",
              "\n",
              "    .colab-df-convert:hover {\n",
              "      background-color: #E2EBFA;\n",
              "      box-shadow: 0px 1px 2px rgba(60, 64, 67, 0.3), 0px 1px 3px 1px rgba(60, 64, 67, 0.15);\n",
              "      fill: #174EA6;\n",
              "    }\n",
              "\n",
              "    .colab-df-buttons div {\n",
              "      margin-bottom: 4px;\n",
              "    }\n",
              "\n",
              "    [theme=dark] .colab-df-convert {\n",
              "      background-color: #3B4455;\n",
              "      fill: #D2E3FC;\n",
              "    }\n",
              "\n",
              "    [theme=dark] .colab-df-convert:hover {\n",
              "      background-color: #434B5C;\n",
              "      box-shadow: 0px 1px 3px 1px rgba(0, 0, 0, 0.15);\n",
              "      filter: drop-shadow(0px 1px 2px rgba(0, 0, 0, 0.3));\n",
              "      fill: #FFFFFF;\n",
              "    }\n",
              "  </style>\n",
              "\n",
              "    <script>\n",
              "      const buttonEl =\n",
              "        document.querySelector('#df-7d59aa80-56ba-457f-a040-450f6a5b42c0 button.colab-df-convert');\n",
              "      buttonEl.style.display =\n",
              "        google.colab.kernel.accessAllowed ? 'block' : 'none';\n",
              "\n",
              "      async function convertToInteractive(key) {\n",
              "        const element = document.querySelector('#df-7d59aa80-56ba-457f-a040-450f6a5b42c0');\n",
              "        const dataTable =\n",
              "          await google.colab.kernel.invokeFunction('convertToInteractive',\n",
              "                                                    [key], {});\n",
              "        if (!dataTable) return;\n",
              "\n",
              "        const docLinkHtml = 'Like what you see? Visit the ' +\n",
              "          '<a target=\"_blank\" href=https://colab.research.google.com/notebooks/data_table.ipynb>data table notebook</a>'\n",
              "          + ' to learn more about interactive tables.';\n",
              "        element.innerHTML = '';\n",
              "        dataTable['output_type'] = 'display_data';\n",
              "        await google.colab.output.renderOutput(dataTable, element);\n",
              "        const docLink = document.createElement('div');\n",
              "        docLink.innerHTML = docLinkHtml;\n",
              "        element.appendChild(docLink);\n",
              "      }\n",
              "    </script>\n",
              "  </div>\n",
              "\n",
              "\n",
              "<div id=\"df-c06a4ec8-893b-4345-a98b-0dbcef75a8ab\">\n",
              "  <button class=\"colab-df-quickchart\" onclick=\"quickchart('df-c06a4ec8-893b-4345-a98b-0dbcef75a8ab')\"\n",
              "            title=\"Suggest charts\"\n",
              "            style=\"display:none;\">\n",
              "\n",
              "<svg xmlns=\"http://www.w3.org/2000/svg\" height=\"24px\"viewBox=\"0 0 24 24\"\n",
              "     width=\"24px\">\n",
              "    <g>\n",
              "        <path d=\"M19 3H5c-1.1 0-2 .9-2 2v14c0 1.1.9 2 2 2h14c1.1 0 2-.9 2-2V5c0-1.1-.9-2-2-2zM9 17H7v-7h2v7zm4 0h-2V7h2v10zm4 0h-2v-4h2v4z\"/>\n",
              "    </g>\n",
              "</svg>\n",
              "  </button>\n",
              "\n",
              "<style>\n",
              "  .colab-df-quickchart {\n",
              "      --bg-color: #E8F0FE;\n",
              "      --fill-color: #1967D2;\n",
              "      --hover-bg-color: #E2EBFA;\n",
              "      --hover-fill-color: #174EA6;\n",
              "      --disabled-fill-color: #AAA;\n",
              "      --disabled-bg-color: #DDD;\n",
              "  }\n",
              "\n",
              "  [theme=dark] .colab-df-quickchart {\n",
              "      --bg-color: #3B4455;\n",
              "      --fill-color: #D2E3FC;\n",
              "      --hover-bg-color: #434B5C;\n",
              "      --hover-fill-color: #FFFFFF;\n",
              "      --disabled-bg-color: #3B4455;\n",
              "      --disabled-fill-color: #666;\n",
              "  }\n",
              "\n",
              "  .colab-df-quickchart {\n",
              "    background-color: var(--bg-color);\n",
              "    border: none;\n",
              "    border-radius: 50%;\n",
              "    cursor: pointer;\n",
              "    display: none;\n",
              "    fill: var(--fill-color);\n",
              "    height: 32px;\n",
              "    padding: 0;\n",
              "    width: 32px;\n",
              "  }\n",
              "\n",
              "  .colab-df-quickchart:hover {\n",
              "    background-color: var(--hover-bg-color);\n",
              "    box-shadow: 0 1px 2px rgba(60, 64, 67, 0.3), 0 1px 3px 1px rgba(60, 64, 67, 0.15);\n",
              "    fill: var(--button-hover-fill-color);\n",
              "  }\n",
              "\n",
              "  .colab-df-quickchart-complete:disabled,\n",
              "  .colab-df-quickchart-complete:disabled:hover {\n",
              "    background-color: var(--disabled-bg-color);\n",
              "    fill: var(--disabled-fill-color);\n",
              "    box-shadow: none;\n",
              "  }\n",
              "\n",
              "  .colab-df-spinner {\n",
              "    border: 2px solid var(--fill-color);\n",
              "    border-color: transparent;\n",
              "    border-bottom-color: var(--fill-color);\n",
              "    animation:\n",
              "      spin 1s steps(1) infinite;\n",
              "  }\n",
              "\n",
              "  @keyframes spin {\n",
              "    0% {\n",
              "      border-color: transparent;\n",
              "      border-bottom-color: var(--fill-color);\n",
              "      border-left-color: var(--fill-color);\n",
              "    }\n",
              "    20% {\n",
              "      border-color: transparent;\n",
              "      border-left-color: var(--fill-color);\n",
              "      border-top-color: var(--fill-color);\n",
              "    }\n",
              "    30% {\n",
              "      border-color: transparent;\n",
              "      border-left-color: var(--fill-color);\n",
              "      border-top-color: var(--fill-color);\n",
              "      border-right-color: var(--fill-color);\n",
              "    }\n",
              "    40% {\n",
              "      border-color: transparent;\n",
              "      border-right-color: var(--fill-color);\n",
              "      border-top-color: var(--fill-color);\n",
              "    }\n",
              "    60% {\n",
              "      border-color: transparent;\n",
              "      border-right-color: var(--fill-color);\n",
              "    }\n",
              "    80% {\n",
              "      border-color: transparent;\n",
              "      border-right-color: var(--fill-color);\n",
              "      border-bottom-color: var(--fill-color);\n",
              "    }\n",
              "    90% {\n",
              "      border-color: transparent;\n",
              "      border-bottom-color: var(--fill-color);\n",
              "    }\n",
              "  }\n",
              "</style>\n",
              "\n",
              "  <script>\n",
              "    async function quickchart(key) {\n",
              "      const quickchartButtonEl =\n",
              "        document.querySelector('#' + key + ' button');\n",
              "      quickchartButtonEl.disabled = true;  // To prevent multiple clicks.\n",
              "      quickchartButtonEl.classList.add('colab-df-spinner');\n",
              "      try {\n",
              "        const charts = await google.colab.kernel.invokeFunction(\n",
              "            'suggestCharts', [key], {});\n",
              "      } catch (error) {\n",
              "        console.error('Error during call to suggestCharts:', error);\n",
              "      }\n",
              "      quickchartButtonEl.classList.remove('colab-df-spinner');\n",
              "      quickchartButtonEl.classList.add('colab-df-quickchart-complete');\n",
              "    }\n",
              "    (() => {\n",
              "      let quickchartButtonEl =\n",
              "        document.querySelector('#df-c06a4ec8-893b-4345-a98b-0dbcef75a8ab button');\n",
              "      quickchartButtonEl.style.display =\n",
              "        google.colab.kernel.accessAllowed ? 'block' : 'none';\n",
              "    })();\n",
              "  </script>\n",
              "</div>\n",
              "\n",
              "    </div>\n",
              "  </div>\n"
            ],
            "application/vnd.google.colaboratory.intrinsic+json": {
              "type": "dataframe",
              "summary": "{\n  \"name\": \"res_df\",\n  \"rows\": 6,\n  \"fields\": [\n    {\n      \"column\": \"param_learning_rate\",\n      \"properties\": {\n        \"dtype\": \"number\",\n        \"std\": 0.04665476038590989,\n        \"min\": 0.05,\n        \"max\": 0.17,\n        \"num_unique_values\": 6,\n        \"samples\": [\n          0.05,\n          0.07,\n          0.17\n        ],\n        \"semantic_type\": \"\",\n        \"description\": \"\"\n      }\n    },\n    {\n      \"column\": \"param_gamma\",\n      \"properties\": {\n        \"dtype\": \"date\",\n        \"min\": 10,\n        \"max\": 10,\n        \"num_unique_values\": 1,\n        \"samples\": [\n          10\n        ],\n        \"semantic_type\": \"\",\n        \"description\": \"\"\n      }\n    },\n    {\n      \"column\": \"param_max_depth\",\n      \"properties\": {\n        \"dtype\": \"date\",\n        \"min\": 15,\n        \"max\": 15,\n        \"num_unique_values\": 1,\n        \"samples\": [\n          15\n        ],\n        \"semantic_type\": \"\",\n        \"description\": \"\"\n      }\n    },\n    {\n      \"column\": \"mean_test_score\",\n      \"properties\": {\n        \"dtype\": \"number\",\n        \"std\": 0.0030153832979303544,\n        \"min\": 0.8413013210395219,\n        \"max\": 0.8501789602515453,\n        \"num_unique_values\": 6,\n        \"samples\": [\n          0.8413013210395219\n        ],\n        \"semantic_type\": \"\",\n        \"description\": \"\"\n      }\n    },\n    {\n      \"column\": \"std_test_score\",\n      \"properties\": {\n        \"dtype\": \"number\",\n        \"std\": 0.0012886763599013519,\n        \"min\": 0.053697951882640406,\n        \"max\": 0.05714670992444565,\n        \"num_unique_values\": 6,\n        \"samples\": [\n          0.053697951882640406\n        ],\n        \"semantic_type\": \"\",\n        \"description\": \"\"\n      }\n    },\n    {\n      \"column\": \"mean_train_score\",\n      \"properties\": {\n        \"dtype\": \"number\",\n        \"std\": 0.00033744333676199463,\n        \"min\": 0.9989400305687542,\n        \"max\": 0.9997809301500805,\n        \"num_unique_values\": 6,\n        \"samples\": [\n          0.9989400305687542\n        ],\n        \"semantic_type\": \"\",\n        \"description\": \"\"\n      }\n    },\n    {\n      \"column\": \"std_train_score\",\n      \"properties\": {\n        \"dtype\": \"number\",\n        \"std\": 0.00042686581477891986,\n        \"min\": 0.0014766392398074058,\n        \"max\": 0.0024956757307359996,\n        \"num_unique_values\": 6,\n        \"samples\": [\n          0.0024956757307359996\n        ],\n        \"semantic_type\": \"\",\n        \"description\": \"\"\n      }\n    }\n  ]\n}"
            }
          },
          "metadata": {},
          "execution_count": 69
        }
      ]
    },
    {
      "cell_type": "code",
      "source": [
        "gs.best_params_"
      ],
      "metadata": {
        "colab": {
          "base_uri": "https://localhost:8080/"
        },
        "id": "fDKYeDDIQYn7",
        "outputId": "2251bdb3-72c4-44c4-eba6-2b5cbeb1106e"
      },
      "execution_count": 70,
      "outputs": [
        {
          "output_type": "execute_result",
          "data": {
            "text/plain": [
              "{'gamma': 0, 'learning_rate': 0.1, 'max_depth': 3}"
            ]
          },
          "metadata": {},
          "execution_count": 70
        }
      ]
    },
    {
      "cell_type": "code",
      "source": [
        "best = gs.best_estimator_\n",
        "best.fit(X, y)\n",
        "plt.bar(best.get_booster().feature_names, best.feature_importances_)\n",
        "plt.xticks(rotation=90)\n",
        "plt.show()"
      ],
      "metadata": {
        "colab": {
          "base_uri": "https://localhost:8080/",
          "height": 616
        },
        "id": "jKuCiiwmQZv1",
        "outputId": "d0fbf8c3-2baa-4952-9e75-fe1bb8730eb4"
      },
      "execution_count": 71,
      "outputs": [
        {
          "output_type": "display_data",
          "data": {
            "text/plain": [
              "<Figure size 640x480 with 1 Axes>"
            ],
            "image/png": "[encoded data removed]"
          },
          "metadata": {}
        }
      ]
    },
    {
      "cell_type": "code",
      "source": [
        "model = best"
      ],
      "metadata": {
        "id": "_mgDc6toQbZc"
      },
      "execution_count": 72,
      "outputs": []
    },
    {
      "cell_type": "markdown",
      "source": [
        "# 7. Testing Prediction Model"
      ],
      "metadata": {
        "id": "3jBDn9DeUfDg"
      }
    },
    {
      "cell_type": "code",
      "source": [
        "sample = pd.Series({'brand_name': np.nan,'has_5g': True,'has_nfc': True, 'has_ir_blaster': np.nan, 'processor_brand':np.nan,\n",
        "                   'num_cores': 8,'processor_speed':3,'battery_capacity': 5000,\n",
        "                    'fast_charging_available': np.nan, 'fast_charging': np.nan,'ram_capacity': 8,\n",
        "                    'internal_memory': np.nan, 'screen_size': np.nan, 'refresh_rate': 144, 'num_rear_cameras': np.nan,\n",
        "                    'num_front_cameras': np.nan, 'os':'android', 'primary_camera_rear': np.nan,\n",
        "                    'primary_camera_front': np.nan, 'extended_memory_available': np.nan, 'extended_upto':np.nan,\n",
        "                    'width': np.nan, 'height': np.nan\n",
        "                   },\n",
        "            index=['brand_name', 'has_5g', 'has_nfc', 'has_ir_blaster', 'processor_brand',\n",
        "                   'num_cores', 'processor_speed', 'battery_capacity',\n",
        "                   'fast_charging_available', 'fast_charging', 'ram_capacity',\n",
        "                   'internal_memory', 'screen_size', 'refresh_rate', 'num_rear_cameras',\n",
        "                   'num_front_cameras', 'os', 'primary_camera_rear',\n",
        "                   'primary_camera_front', 'extended_memory_available', 'extended_upto',\n",
        "                   'width', 'height'])\n",
        "\n",
        "sample_array = pd.DataFrame([sample], columns=sample.index )\n",
        "sample_array[categorical_features] = sample_array[categorical_features].astype('category')\n",
        "sample_array"
      ],
      "metadata": {
        "colab": {
          "base_uri": "https://localhost:8080/",
          "height": 109
        },
        "id": "0HmDAFvDTPki",
        "outputId": "89d1ecc1-64e1-4b87-fdaf-2f8a7133eda7"
      },
      "execution_count": 89,
      "outputs": [
        {
          "output_type": "execute_result",
          "data": {
            "text/plain": [
              "  brand_name  has_5g  has_nfc  has_ir_blaster processor_brand  num_cores  \\\n",
              "0        NaN    True     True             NaN             NaN          8   \n",
              "\n",
              "   processor_speed  battery_capacity  fast_charging_available  fast_charging  \\\n",
              "0                3              5000                      NaN            NaN   \n",
              "\n",
              "   ram_capacity  internal_memory  screen_size  refresh_rate  num_rear_cameras  \\\n",
              "0             8              NaN          NaN           144               NaN   \n",
              "\n",
              "   num_front_cameras       os  primary_camera_rear  primary_camera_front  \\\n",
              "0                NaN  android                  NaN                   NaN   \n",
              "\n",
              "   extended_memory_available  extended_upto  width  height  \n",
              "0                        NaN            NaN    NaN     NaN  "
            ],
            "text/html": [
              "\n",
              "  <div id=\"df-1b07a6f1-da6b-494b-942d-312d678d0e92\" class=\"colab-df-container\">\n",
              "    <div>\n",
              "<style scoped>\n",
              "    .dataframe tbody tr th:only-of-type {\n",
              "        vertical-align: middle;\n",
              "    }\n",
              "\n",
              "    .dataframe tbody tr th {\n",
              "        vertical-align: top;\n",
              "    }\n",
              "\n",
              "    .dataframe thead th {\n",
              "        text-align: right;\n",
              "    }\n",
              "</style>\n",
              "<table border=\"1\" class=\"dataframe\">\n",
              "  <thead>\n",
              "    <tr style=\"text-align: right;\">\n",
              "      <th></th>\n",
              "      <th>brand_name</th>\n",
              "      <th>has_5g</th>\n",
              "      <th>has_nfc</th>\n",
              "      <th>has_ir_blaster</th>\n",
              "      <th>processor_brand</th>\n",
              "      <th>num_cores</th>\n",
              "      <th>processor_speed</th>\n",
              "      <th>battery_capacity</th>\n",
              "      <th>fast_charging_available</th>\n",
              "      <th>fast_charging</th>\n",
              "      <th>ram_capacity</th>\n",
              "      <th>internal_memory</th>\n",
              "      <th>screen_size</th>\n",
              "      <th>refresh_rate</th>\n",
              "      <th>num_rear_cameras</th>\n",
              "      <th>num_front_cameras</th>\n",
              "      <th>os</th>\n",
              "      <th>primary_camera_rear</th>\n",
              "      <th>primary_camera_front</th>\n",
              "      <th>extended_memory_available</th>\n",
              "      <th>extended_upto</th>\n",
              "      <th>width</th>\n",
              "      <th>height</th>\n",
              "    </tr>\n",
              "  </thead>\n",
              "  <tbody>\n",
              "    <tr>\n",
              "      <th>0</th>\n",
              "      <td>NaN</td>\n",
              "      <td>True</td>\n",
              "      <td>True</td>\n",
              "      <td>NaN</td>\n",
              "      <td>NaN</td>\n",
              "      <td>8</td>\n",
              "      <td>3</td>\n",
              "      <td>5000</td>\n",
              "      <td>NaN</td>\n",
              "      <td>NaN</td>\n",
              "      <td>8</td>\n",
              "      <td>NaN</td>\n",
              "      <td>NaN</td>\n",
              "      <td>144</td>\n",
              "      <td>NaN</td>\n",
              "      <td>NaN</td>\n",
              "      <td>android</td>\n",
              "      <td>NaN</td>\n",
              "      <td>NaN</td>\n",
              "      <td>NaN</td>\n",
              "      <td>NaN</td>\n",
              "      <td>NaN</td>\n",
              "      <td>NaN</td>\n",
              "    </tr>\n",
              "  </tbody>\n",
              "</table>\n",
              "</div>\n",
              "    <div class=\"colab-df-buttons\">\n",
              "\n",
              "  <div class=\"colab-df-container\">\n",
              "    <button class=\"colab-df-convert\" onclick=\"convertToInteractive('df-1b07a6f1-da6b-494b-942d-312d678d0e92')\"\n",
              "            title=\"Convert this dataframe to an interactive table.\"\n",
              "            style=\"display:none;\">\n",
              "\n",
              "  <svg xmlns=\"http://www.w3.org/2000/svg\" height=\"24px\" viewBox=\"0 -960 960 960\">\n",
              "    <path d=\"M120-120v-720h720v720H120Zm60-500h600v-160H180v160Zm220 220h160v-160H400v160Zm0 220h160v-160H400v160ZM180-400h160v-160H180v160Zm440 0h160v-160H620v160ZM180-180h160v-160H180v160Zm440 0h160v-160H620v160Z\"/>\n",
              "  </svg>\n",
              "    </button>\n",
              "\n",
              "  <style>\n",
              "    .colab-df-container {\n",
              "      display:flex;\n",
              "      gap: 12px;\n",
              "    }\n",
              "\n",
              "    .colab-df-convert {\n",
              "      background-color: #E8F0FE;\n",
              "      border: none;\n",
              "      border-radius: 50%;\n",
              "      cursor: pointer;\n",
              "      display: none;\n",
              "      fill: #1967D2;\n",
              "      height: 32px;\n",
              "      padding: 0 0 0 0;\n",
              "      width: 32px;\n",
              "    }\n",
              "\n",
              "    .colab-df-convert:hover {\n",
              "      background-color: #E2EBFA;\n",
              "      box-shadow: 0px 1px 2px rgba(60, 64, 67, 0.3), 0px 1px 3px 1px rgba(60, 64, 67, 0.15);\n",
              "      fill: #174EA6;\n",
              "    }\n",
              "\n",
              "    .colab-df-buttons div {\n",
              "      margin-bottom: 4px;\n",
              "    }\n",
              "\n",
              "    [theme=dark] .colab-df-convert {\n",
              "      background-color: #3B4455;\n",
              "      fill: #D2E3FC;\n",
              "    }\n",
              "\n",
              "    [theme=dark] .colab-df-convert:hover {\n",
              "      background-color: #434B5C;\n",
              "      box-shadow: 0px 1px 3px 1px rgba(0, 0, 0, 0.15);\n",
              "      filter: drop-shadow(0px 1px 2px rgba(0, 0, 0, 0.3));\n",
              "      fill: #FFFFFF;\n",
              "    }\n",
              "  </style>\n",
              "\n",
              "    <script>\n",
              "      const buttonEl =\n",
              "        document.querySelector('#df-1b07a6f1-da6b-494b-942d-312d678d0e92 button.colab-df-convert');\n",
              "      buttonEl.style.display =\n",
              "        google.colab.kernel.accessAllowed ? 'block' : 'none';\n",
              "\n",
              "      async function convertToInteractive(key) {\n",
              "        const element = document.querySelector('#df-1b07a6f1-da6b-494b-942d-312d678d0e92');\n",
              "        const dataTable =\n",
              "          await google.colab.kernel.invokeFunction('convertToInteractive',\n",
              "                                                    [key], {});\n",
              "        if (!dataTable) return;\n",
              "\n",
              "        const docLinkHtml = 'Like what you see? Visit the ' +\n",
              "          '<a target=\"_blank\" href=https://colab.research.google.com/notebooks/data_table.ipynb>data table notebook</a>'\n",
              "          + ' to learn more about interactive tables.';\n",
              "        element.innerHTML = '';\n",
              "        dataTable['output_type'] = 'display_data';\n",
              "        await google.colab.output.renderOutput(dataTable, element);\n",
              "        const docLink = document.createElement('div');\n",
              "        docLink.innerHTML = docLinkHtml;\n",
              "        element.appendChild(docLink);\n",
              "      }\n",
              "    </script>\n",
              "  </div>\n",
              "\n",
              "\n",
              "  <div id=\"id_52d2e996-11f4-4114-8c74-6f6b9fccef09\">\n",
              "    <style>\n",
              "      .colab-df-generate {\n",
              "        background-color: #E8F0FE;\n",
              "        border: none;\n",
              "        border-radius: 50%;\n",
              "        cursor: pointer;\n",
              "        display: none;\n",
              "        fill: #1967D2;\n",
              "        height: 32px;\n",
              "        padding: 0 0 0 0;\n",
              "        width: 32px;\n",
              "      }\n",
              "\n",
              "      .colab-df-generate:hover {\n",
              "        background-color: #E2EBFA;\n",
              "        box-shadow: 0px 1px 2px rgba(60, 64, 67, 0.3), 0px 1px 3px 1px rgba(60, 64, 67, 0.15);\n",
              "        fill: #174EA6;\n",
              "      }\n",
              "\n",
              "      [theme=dark] .colab-df-generate {\n",
              "        background-color: #3B4455;\n",
              "        fill: #D2E3FC;\n",
              "      }\n",
              "\n",
              "      [theme=dark] .colab-df-generate:hover {\n",
              "        background-color: #434B5C;\n",
              "        box-shadow: 0px 1px 3px 1px rgba(0, 0, 0, 0.15);\n",
              "        filter: drop-shadow(0px 1px 2px rgba(0, 0, 0, 0.3));\n",
              "        fill: #FFFFFF;\n",
              "      }\n",
              "    </style>\n",
              "    <button class=\"colab-df-generate\" onclick=\"generateWithVariable('sample_array')\"\n",
              "            title=\"Generate code using this dataframe.\"\n",
              "            style=\"display:none;\">\n",
              "\n",
              "  <svg xmlns=\"http://www.w3.org/2000/svg\" height=\"24px\"viewBox=\"0 0 24 24\"\n",
              "       width=\"24px\">\n",
              "    <path d=\"M7,19H8.4L18.45,9,17,7.55,7,17.6ZM5,21V16.75L18.45,3.32a2,2,0,0,1,2.83,0l1.4,1.43a1.91,1.91,0,0,1,.58,1.4,1.91,1.91,0,0,1-.58,1.4L9.25,21ZM18.45,9,17,7.55Zm-12,3A5.31,5.31,0,0,0,4.9,8.1,5.31,5.31,0,0,0,1,6.5,5.31,5.31,0,0,0,4.9,4.9,5.31,5.31,0,0,0,6.5,1,5.31,5.31,0,0,0,8.1,4.9,5.31,5.31,0,0,0,12,6.5,5.46,5.46,0,0,0,6.5,12Z\"/>\n",
              "  </svg>\n",
              "    </button>\n",
              "    <script>\n",
              "      (() => {\n",
              "      const buttonEl =\n",
              "        document.querySelector('#id_52d2e996-11f4-4114-8c74-6f6b9fccef09 button.colab-df-generate');\n",
              "      buttonEl.style.display =\n",
              "        google.colab.kernel.accessAllowed ? 'block' : 'none';\n",
              "\n",
              "      buttonEl.onclick = () => {\n",
              "        google.colab.notebook.generateWithVariable('sample_array');\n",
              "      }\n",
              "      })();\n",
              "    </script>\n",
              "  </div>\n",
              "\n",
              "    </div>\n",
              "  </div>\n"
            ],
            "application/vnd.google.colaboratory.intrinsic+json": {
              "type": "dataframe",
              "variable_name": "sample_array"
            }
          },
          "metadata": {},
          "execution_count": 89
        }
      ]
    },
    {
      "cell_type": "code",
      "source": [
        "predicted_price = model.predict(sample_array)[0]\n",
        "predicted_price"
      ],
      "metadata": {
        "colab": {
          "base_uri": "https://localhost:8080/"
        },
        "id": "Z5RrGFovUdxU",
        "outputId": "369c8f71-312a-4e34-f138-fa162da6f054"
      },
      "execution_count": 90,
      "outputs": [
        {
          "output_type": "execute_result",
          "data": {
            "text/plain": [
              "737.3292"
            ]
          },
          "metadata": {},
          "execution_count": 90
        }
      ]
    },
    {
      "cell_type": "code",
      "source": [
        "actual_prices = df[\n",
        "    (df['has_5g'] == sample['has_5g']) & (df['num_cores']== sample['num_cores']) &\n",
        "     (df['ram_capacity']== sample['ram_capacity']) & (df['os']==sample['os']) & (df['refresh_rate']==sample['refresh_rate']) &\n",
        "      ((df['processor_speed']<=sample['processor_speed']-0.2) | (df['processor_speed']>=sample['processor_speed']+0.2)) &\n",
        "       ((df['battery_capacity']<=sample['battery_capacity']-200) | (df['battery_capacity']>=sample['battery_capacity']+200))]['price']\n",
        "\n",
        "print(f\"Mean: {round(actual_prices.mean(),2)}, std:{round(actual_prices.std(),2)}, Median: {actual_prices.median()}\")"
      ],
      "metadata": {
        "colab": {
          "base_uri": "https://localhost:8080/"
        },
        "id": "p_UF0mjCU01e",
        "outputId": "e16f1328-681c-4306-890c-35d6ccafa5c0"
      },
      "execution_count": 91,
      "outputs": [
        {
          "output_type": "stream",
          "name": "stdout",
          "text": [
            "Mean: 546.78, std:157.33, Median: 515.88\n"
          ]
        }
      ]
    },
    {
      "cell_type": "code",
      "source": [
        "df[\n",
        "    (df['has_5g'] == sample['has_5g']) & (df['num_cores']== sample['num_cores']) &\n",
        "     (df['ram_capacity']== sample['ram_capacity']) & (df['os']==sample['os']) & (df['refresh_rate']==sample['refresh_rate']) &\n",
        "      ((df['processor_speed']<=sample['processor_speed']+0.2) | (df['processor_speed']>=sample['processor_speed']-0.2)) &\n",
        "       ((df['battery_capacity']<=sample['battery_capacity']+200) | (df['battery_capacity']>=sample['battery_capacity']-200))\n",
        "       ]"
      ],
      "metadata": {
        "colab": {
          "base_uri": "https://localhost:8080/",
          "height": 1000
        },
        "id": "3SIjBAiNVQcU",
        "outputId": "4c92b64d-6e32-4536-9edf-2b215119adab"
      },
      "execution_count": 93,
      "outputs": [
        {
          "output_type": "execute_result",
          "data": {
            "text/plain": [
              "    brand_name                                  model   price  has_5g  \\\n",
              "97        iqoo                             iQOO 11 5G  719.99    True   \n",
              "102   motorola                  Motorola Moto S30 Pro  287.88    True   \n",
              "120   motorola                Motorola Edge 30 Pro 5G  419.99    True   \n",
              "193   motorola             Motorola Edge 30 Fusion 5G  479.99    True   \n",
              "201   motorola                 Motorola Edge 30 Ultra  659.99    True   \n",
              "222   motorola  Motorola Edge 30 5G (8GB RAM + 128GB)  299.99    True   \n",
              "230       iqoo                         iQOO 11 Pro 5G  707.88    True   \n",
              "299     xiaomi    Xiaomi Redmi K50i (8GB RAM + 256GB)  311.99    True   \n",
              "316       poco                             POCO X5 GT  359.88    True   \n",
              "332     realme       Realme 9 5G SE (8GB RAM + 128GB)  275.98    True   \n",
              "418   motorola                  Motorola Moto X30 Pro  503.88    True   \n",
              "460      nubia                              Nubia Z50  419.99    True   \n",
              "491       poco                          POCO X4 GT 5G  299.88    True   \n",
              "678      nubia                       Nubia Z40 Pro 5G  599.88    True   \n",
              "724     xiaomi                   Xiaomi Mi 10T Pro 5G  359.99    True   \n",
              "743   motorola                    Motorola Edge 40 5G  419.99    True   \n",
              "781     realme                       Realme GT Neo 4T  359.99    True   \n",
              "796     xiaomi              Xiaomi Redmi K50 Ultra 5G  479.99    True   \n",
              "907   motorola             Motorola Moto Edge X30 Pro  719.88    True   \n",
              "964   motorola                Motorola Edge 40 Fusion  515.88    True   \n",
              "968   motorola                    Motorola ThinkPhone  599.88    True   \n",
              "977       poco        POCO X4 GT 5G (8GB RAM + 256GB)  347.88    True   \n",
              "\n",
              "     has_nfc  has_ir_blaster processor_brand  num_cores  processor_speed  \\\n",
              "97      True           False      snapdragon        8.0             3.20   \n",
              "102    False           False      snapdragon        8.0             2.90   \n",
              "120     True           False      snapdragon        8.0             3.00   \n",
              "193     True           False      snapdragon        8.0             2.90   \n",
              "201     True           False      snapdragon        8.0             3.20   \n",
              "222     True           False      snapdragon        8.0             2.50   \n",
              "230     True            True      snapdragon        8.0             3.20   \n",
              "299    False            True       dimensity        8.0             2.85   \n",
              "316     True            True       dimensity        8.0             3.20   \n",
              "332    False           False      snapdragon        8.0             2.40   \n",
              "418     True           False      snapdragon        8.0             3.20   \n",
              "460     True           False      snapdragon        8.0             3.20   \n",
              "491     True            True       dimensity        8.0             2.85   \n",
              "678     True           False      snapdragon        8.0             3.00   \n",
              "724     True            True      snapdragon        8.0             2.84   \n",
              "743     True           False      snapdragon        8.0             2.36   \n",
              "781    False           False      snapdragon        8.0             3.00   \n",
              "796     True            True      snapdragon        8.0             3.20   \n",
              "907     True           False      snapdragon        8.0             3.20   \n",
              "964     True           False      snapdragon        8.0             3.20   \n",
              "968     True           False      snapdragon        8.0             3.20   \n",
              "977     True            True       dimensity        8.0             2.85   \n",
              "\n",
              "     battery_capacity  fast_charging_available  fast_charging  ram_capacity  \\\n",
              "97             5000.0                     True          120.0           8.0   \n",
              "102            4400.0                     True           68.0           8.0   \n",
              "120            4800.0                     True           68.0           8.0   \n",
              "193            4400.0                     True           68.0           8.0   \n",
              "201            4610.0                     True          125.0           8.0   \n",
              "222            4020.0                     True           33.0           8.0   \n",
              "230            4700.0                     True          200.0           8.0   \n",
              "299            5080.0                     True           67.0           8.0   \n",
              "316            5000.0                     True           80.0           8.0   \n",
              "332            5000.0                     True           30.0           8.0   \n",
              "418            4450.0                     True          125.0           8.0   \n",
              "460            5000.0                     True           80.0           8.0   \n",
              "491            5080.0                     True           67.0           8.0   \n",
              "678            5000.0                     True           80.0           8.0   \n",
              "724            5000.0                     True           33.0           8.0   \n",
              "743            4200.0                     True           67.0           8.0   \n",
              "781            5000.0                     True          120.0           8.0   \n",
              "796            5000.0                     True          120.0           8.0   \n",
              "907            4450.0                     True          125.0           8.0   \n",
              "964            4500.0                     True           68.0           8.0   \n",
              "968            5000.0                     True           68.0           8.0   \n",
              "977            5080.0                     True           67.0           8.0   \n",
              "\n",
              "     internal_memory  screen_size  refresh_rate    resolution  \\\n",
              "97             256.0         6.78           144  1440 x 3200    \n",
              "102            128.0         6.55           144  1080 x 2460    \n",
              "120            128.0         6.70           144  1080 x 2400    \n",
              "193            128.0         6.55           144  1080 x 2400    \n",
              "201            128.0         6.67           144  1080 x 2400    \n",
              "222            128.0         6.50           144  1080 x 2400    \n",
              "230            256.0         6.78           144  1440 x 3200    \n",
              "299            256.0         6.60           144  1080 x 2460    \n",
              "316            128.0         6.70           144  1080 x 2400    \n",
              "332            128.0         6.60           144  1080 x 2412    \n",
              "418            128.0         6.67           144  1080 x 2400    \n",
              "460            128.0         6.67           144  1080 x 2400    \n",
              "491            128.0         6.60           144  1080 x 2460    \n",
              "678            128.0         6.67           144  1080 x 2400    \n",
              "724            128.0         6.67           144  1080 x 2400    \n",
              "743            128.0         6.50           144  1080 x 2412    \n",
              "781            128.0         6.73           144  1080 x 2400    \n",
              "796            128.0         6.67           144  1220 x 2712    \n",
              "907            128.0         6.67           144  1080 x 2340    \n",
              "964            128.0         6.67           144  1080 x 2400    \n",
              "968            128.0         6.60           144  1080 x 2400    \n",
              "977            256.0         6.60           144  1080 x 2460    \n",
              "\n",
              "     num_rear_cameras  num_front_cameras       os  primary_camera_rear  \\\n",
              "97                  3                1.0  android                 50.0   \n",
              "102                 3                1.0  android                 50.0   \n",
              "120                 3                1.0  android                 50.0   \n",
              "193                 3                1.0  android                 50.0   \n",
              "201                 3                1.0  android                200.0   \n",
              "222                 3                1.0  android                 50.0   \n",
              "230                 3                1.0  android                 50.0   \n",
              "299                 3                1.0  android                 64.0   \n",
              "316                 3                1.0  android                 64.0   \n",
              "332                 3                1.0  android                 48.0   \n",
              "418                 3                1.0  android                200.0   \n",
              "460                 3                1.0  android                 64.0   \n",
              "491                 3                1.0  android                 64.0   \n",
              "678                 3                1.0  android                 64.0   \n",
              "724                 3                1.0  android                108.0   \n",
              "743                 3                1.0  android                 50.0   \n",
              "781                 3                1.0  android                 50.0   \n",
              "796                 3                1.0  android                108.0   \n",
              "907                 3                1.0  android                200.0   \n",
              "964                 3                1.0  android                 50.0   \n",
              "968                 3                2.0  android                 50.0   \n",
              "977                 3                1.0  android                 64.0   \n",
              "\n",
              "     primary_camera_front  extended_memory_available  extended_upto  width  \\\n",
              "97                   16.0                      False            NaN   1440   \n",
              "102                  32.0                      False            NaN   1080   \n",
              "120                  60.0                      False            NaN   1080   \n",
              "193                  32.0                      False            NaN   1080   \n",
              "201                  60.0                      False            NaN   1080   \n",
              "222                  32.0                      False            NaN   1080   \n",
              "230                  16.0                      False            NaN   1440   \n",
              "299                  16.0                      False            NaN   1080   \n",
              "316                  32.0                      False            NaN   1080   \n",
              "332                  16.0                       True         1024.0   1080   \n",
              "418                  60.0                      False            NaN   1080   \n",
              "460                  16.0                      False            NaN   1080   \n",
              "491                  16.0                      False            NaN   1080   \n",
              "678                  16.0                      False            NaN   1080   \n",
              "724                  20.0                      False            NaN   1080   \n",
              "743                  32.0                      False            NaN   1080   \n",
              "781                  16.0                      False            NaN   1080   \n",
              "796                  20.0                      False            NaN   1220   \n",
              "907                  60.0                      False            NaN   1080   \n",
              "964                  32.0                      False            NaN   1080   \n",
              "968                  32.0                      False            NaN   1080   \n",
              "977                  16.0                      False            NaN   1080   \n",
              "\n",
              "     height  \n",
              "97     3200  \n",
              "102    2460  \n",
              "120    2400  \n",
              "193    2400  \n",
              "201    2400  \n",
              "222    2400  \n",
              "230    3200  \n",
              "299    2460  \n",
              "316    2400  \n",
              "332    2412  \n",
              "418    2400  \n",
              "460    2400  \n",
              "491    2460  \n",
              "678    2400  \n",
              "724    2400  \n",
              "743    2412  \n",
              "781    2400  \n",
              "796    2712  \n",
              "907    2340  \n",
              "964    2400  \n",
              "968    2400  \n",
              "977    2460  "
            ],
            "text/html": [
              "\n",
              "  <div id=\"df-6c388af0-57a1-43e1-a5aa-f2927f5c6b3b\" class=\"colab-df-container\">\n",
              "    <div>\n",
              "<style scoped>\n",
              "    .dataframe tbody tr th:only-of-type {\n",
              "        vertical-align: middle;\n",
              "    }\n",
              "\n",
              "    .dataframe tbody tr th {\n",
              "        vertical-align: top;\n",
              "    }\n",
              "\n",
              "    .dataframe thead th {\n",
              "        text-align: right;\n",
              "    }\n",
              "</style>\n",
              "<table border=\"1\" class=\"dataframe\">\n",
              "  <thead>\n",
              "    <tr style=\"text-align: right;\">\n",
              "      <th></th>\n",
              "      <th>brand_name</th>\n",
              "      <th>model</th>\n",
              "      <th>price</th>\n",
              "      <th>has_5g</th>\n",
              "      <th>has_nfc</th>\n",
              "      <th>has_ir_blaster</th>\n",
              "      <th>processor_brand</th>\n",
              "      <th>num_cores</th>\n",
              "      <th>processor_speed</th>\n",
              "      <th>battery_capacity</th>\n",
              "      <th>fast_charging_available</th>\n",
              "      <th>fast_charging</th>\n",
              "      <th>ram_capacity</th>\n",
              "      <th>internal_memory</th>\n",
              "      <th>screen_size</th>\n",
              "      <th>refresh_rate</th>\n",
              "      <th>resolution</th>\n",
              "      <th>num_rear_cameras</th>\n",
              "      <th>num_front_cameras</th>\n",
              "      <th>os</th>\n",
              "      <th>primary_camera_rear</th>\n",
              "      <th>primary_camera_front</th>\n",
              "      <th>extended_memory_available</th>\n",
              "      <th>extended_upto</th>\n",
              "      <th>width</th>\n",
              "      <th>height</th>\n",
              "    </tr>\n",
              "  </thead>\n",
              "  <tbody>\n",
              "    <tr>\n",
              "      <th>97</th>\n",
              "      <td>iqoo</td>\n",
              "      <td>iQOO 11 5G</td>\n",
              "      <td>719.99</td>\n",
              "      <td>True</td>\n",
              "      <td>True</td>\n",
              "      <td>False</td>\n",
              "      <td>snapdragon</td>\n",
              "      <td>8.0</td>\n",
              "      <td>3.20</td>\n",
              "      <td>5000.0</td>\n",
              "      <td>True</td>\n",
              "      <td>120.0</td>\n",
              "      <td>8.0</td>\n",
              "      <td>256.0</td>\n",
              "      <td>6.78</td>\n",
              "      <td>144</td>\n",
              "      <td>1440 x 3200</td>\n",
              "      <td>3</td>\n",
              "      <td>1.0</td>\n",
              "      <td>android</td>\n",
              "      <td>50.0</td>\n",
              "      <td>16.0</td>\n",
              "      <td>False</td>\n",
              "      <td>NaN</td>\n",
              "      <td>1440</td>\n",
              "      <td>3200</td>\n",
              "    </tr>\n",
              "    <tr>\n",
              "      <th>102</th>\n",
              "      <td>motorola</td>\n",
              "      <td>Motorola Moto S30 Pro</td>\n",
              "      <td>287.88</td>\n",
              "      <td>True</td>\n",
              "      <td>False</td>\n",
              "      <td>False</td>\n",
              "      <td>snapdragon</td>\n",
              "      <td>8.0</td>\n",
              "      <td>2.90</td>\n",
              "      <td>4400.0</td>\n",
              "      <td>True</td>\n",
              "      <td>68.0</td>\n",
              "      <td>8.0</td>\n",
              "      <td>128.0</td>\n",
              "      <td>6.55</td>\n",
              "      <td>144</td>\n",
              "      <td>1080 x 2460</td>\n",
              "      <td>3</td>\n",
              "      <td>1.0</td>\n",
              "      <td>android</td>\n",
              "      <td>50.0</td>\n",
              "      <td>32.0</td>\n",
              "      <td>False</td>\n",
              "      <td>NaN</td>\n",
              "      <td>1080</td>\n",
              "      <td>2460</td>\n",
              "    </tr>\n",
              "    <tr>\n",
              "      <th>120</th>\n",
              "      <td>motorola</td>\n",
              "      <td>Motorola Edge 30 Pro 5G</td>\n",
              "      <td>419.99</td>\n",
              "      <td>True</td>\n",
              "      <td>True</td>\n",
              "      <td>False</td>\n",
              "      <td>snapdragon</td>\n",
              "      <td>8.0</td>\n",
              "      <td>3.00</td>\n",
              "      <td>4800.0</td>\n",
              "      <td>True</td>\n",
              "      <td>68.0</td>\n",
              "      <td>8.0</td>\n",
              "      <td>128.0</td>\n",
              "      <td>6.70</td>\n",
              "      <td>144</td>\n",
              "      <td>1080 x 2400</td>\n",
              "      <td>3</td>\n",
              "      <td>1.0</td>\n",
              "      <td>android</td>\n",
              "      <td>50.0</td>\n",
              "      <td>60.0</td>\n",
              "      <td>False</td>\n",
              "      <td>NaN</td>\n",
              "      <td>1080</td>\n",
              "      <td>2400</td>\n",
              "    </tr>\n",
              "    <tr>\n",
              "      <th>193</th>\n",
              "      <td>motorola</td>\n",
              "      <td>Motorola Edge 30 Fusion 5G</td>\n",
              "      <td>479.99</td>\n",
              "      <td>True</td>\n",
              "      <td>True</td>\n",
              "      <td>False</td>\n",
              "      <td>snapdragon</td>\n",
              "      <td>8.0</td>\n",
              "      <td>2.90</td>\n",
              "      <td>4400.0</td>\n",
              "      <td>True</td>\n",
              "      <td>68.0</td>\n",
              "      <td>8.0</td>\n",
              "      <td>128.0</td>\n",
              "      <td>6.55</td>\n",
              "      <td>144</td>\n",
              "      <td>1080 x 2400</td>\n",
              "      <td>3</td>\n",
              "      <td>1.0</td>\n",
              "      <td>android</td>\n",
              "      <td>50.0</td>\n",
              "      <td>32.0</td>\n",
              "      <td>False</td>\n",
              "      <td>NaN</td>\n",
              "      <td>1080</td>\n",
              "      <td>2400</td>\n",
              "    </tr>\n",
              "    <tr>\n",
              "      <th>201</th>\n",
              "      <td>motorola</td>\n",
              "      <td>Motorola Edge 30 Ultra</td>\n",
              "      <td>659.99</td>\n",
              "      <td>True</td>\n",
              "      <td>True</td>\n",
              "      <td>False</td>\n",
              "      <td>snapdragon</td>\n",
              "      <td>8.0</td>\n",
              "      <td>3.20</td>\n",
              "      <td>4610.0</td>\n",
              "      <td>True</td>\n",
              "      <td>125.0</td>\n",
              "      <td>8.0</td>\n",
              "      <td>128.0</td>\n",
              "      <td>6.67</td>\n",
              "      <td>144</td>\n",
              "      <td>1080 x 2400</td>\n",
              "      <td>3</td>\n",
              "      <td>1.0</td>\n",
              "      <td>android</td>\n",
              "      <td>200.0</td>\n",
              "      <td>60.0</td>\n",
              "      <td>False</td>\n",
              "      <td>NaN</td>\n",
              "      <td>1080</td>\n",
              "      <td>2400</td>\n",
              "    </tr>\n",
              "    <tr>\n",
              "      <th>222</th>\n",
              "      <td>motorola</td>\n",
              "      <td>Motorola Edge 30 5G (8GB RAM + 128GB)</td>\n",
              "      <td>299.99</td>\n",
              "      <td>True</td>\n",
              "      <td>True</td>\n",
              "      <td>False</td>\n",
              "      <td>snapdragon</td>\n",
              "      <td>8.0</td>\n",
              "      <td>2.50</td>\n",
              "      <td>4020.0</td>\n",
              "      <td>True</td>\n",
              "      <td>33.0</td>\n",
              "      <td>8.0</td>\n",
              "      <td>128.0</td>\n",
              "      <td>6.50</td>\n",
              "      <td>144</td>\n",
              "      <td>1080 x 2400</td>\n",
              "      <td>3</td>\n",
              "      <td>1.0</td>\n",
              "      <td>android</td>\n",
              "      <td>50.0</td>\n",
              "      <td>32.0</td>\n",
              "      <td>False</td>\n",
              "      <td>NaN</td>\n",
              "      <td>1080</td>\n",
              "      <td>2400</td>\n",
              "    </tr>\n",
              "    <tr>\n",
              "      <th>230</th>\n",
              "      <td>iqoo</td>\n",
              "      <td>iQOO 11 Pro 5G</td>\n",
              "      <td>707.88</td>\n",
              "      <td>True</td>\n",
              "      <td>True</td>\n",
              "      <td>True</td>\n",
              "      <td>snapdragon</td>\n",
              "      <td>8.0</td>\n",
              "      <td>3.20</td>\n",
              "      <td>4700.0</td>\n",
              "      <td>True</td>\n",
              "      <td>200.0</td>\n",
              "      <td>8.0</td>\n",
              "      <td>256.0</td>\n",
              "      <td>6.78</td>\n",
              "      <td>144</td>\n",
              "      <td>1440 x 3200</td>\n",
              "      <td>3</td>\n",
              "      <td>1.0</td>\n",
              "      <td>android</td>\n",
              "      <td>50.0</td>\n",
              "      <td>16.0</td>\n",
              "      <td>False</td>\n",
              "      <td>NaN</td>\n",
              "      <td>1440</td>\n",
              "      <td>3200</td>\n",
              "    </tr>\n",
              "    <tr>\n",
              "      <th>299</th>\n",
              "      <td>xiaomi</td>\n",
              "      <td>Xiaomi Redmi K50i (8GB RAM + 256GB)</td>\n",
              "      <td>311.99</td>\n",
              "      <td>True</td>\n",
              "      <td>False</td>\n",
              "      <td>True</td>\n",
              "      <td>dimensity</td>\n",
              "      <td>8.0</td>\n",
              "      <td>2.85</td>\n",
              "      <td>5080.0</td>\n",
              "      <td>True</td>\n",
              "      <td>67.0</td>\n",
              "      <td>8.0</td>\n",
              "      <td>256.0</td>\n",
              "      <td>6.60</td>\n",
              "      <td>144</td>\n",
              "      <td>1080 x 2460</td>\n",
              "      <td>3</td>\n",
              "      <td>1.0</td>\n",
              "      <td>android</td>\n",
              "      <td>64.0</td>\n",
              "      <td>16.0</td>\n",
              "      <td>False</td>\n",
              "      <td>NaN</td>\n",
              "      <td>1080</td>\n",
              "      <td>2460</td>\n",
              "    </tr>\n",
              "    <tr>\n",
              "      <th>316</th>\n",
              "      <td>poco</td>\n",
              "      <td>POCO X5 GT</td>\n",
              "      <td>359.88</td>\n",
              "      <td>True</td>\n",
              "      <td>True</td>\n",
              "      <td>True</td>\n",
              "      <td>dimensity</td>\n",
              "      <td>8.0</td>\n",
              "      <td>3.20</td>\n",
              "      <td>5000.0</td>\n",
              "      <td>True</td>\n",
              "      <td>80.0</td>\n",
              "      <td>8.0</td>\n",
              "      <td>128.0</td>\n",
              "      <td>6.70</td>\n",
              "      <td>144</td>\n",
              "      <td>1080 x 2400</td>\n",
              "      <td>3</td>\n",
              "      <td>1.0</td>\n",
              "      <td>android</td>\n",
              "      <td>64.0</td>\n",
              "      <td>32.0</td>\n",
              "      <td>False</td>\n",
              "      <td>NaN</td>\n",
              "      <td>1080</td>\n",
              "      <td>2400</td>\n",
              "    </tr>\n",
              "    <tr>\n",
              "      <th>332</th>\n",
              "      <td>realme</td>\n",
              "      <td>Realme 9 5G SE (8GB RAM + 128GB)</td>\n",
              "      <td>275.98</td>\n",
              "      <td>True</td>\n",
              "      <td>False</td>\n",
              "      <td>False</td>\n",
              "      <td>snapdragon</td>\n",
              "      <td>8.0</td>\n",
              "      <td>2.40</td>\n",
              "      <td>5000.0</td>\n",
              "      <td>True</td>\n",
              "      <td>30.0</td>\n",
              "      <td>8.0</td>\n",
              "      <td>128.0</td>\n",
              "      <td>6.60</td>\n",
              "      <td>144</td>\n",
              "      <td>1080 x 2412</td>\n",
              "      <td>3</td>\n",
              "      <td>1.0</td>\n",
              "      <td>android</td>\n",
              "      <td>48.0</td>\n",
              "      <td>16.0</td>\n",
              "      <td>True</td>\n",
              "      <td>1024.0</td>\n",
              "      <td>1080</td>\n",
              "      <td>2412</td>\n",
              "    </tr>\n",
              "    <tr>\n",
              "      <th>418</th>\n",
              "      <td>motorola</td>\n",
              "      <td>Motorola Moto X30 Pro</td>\n",
              "      <td>503.88</td>\n",
              "      <td>True</td>\n",
              "      <td>True</td>\n",
              "      <td>False</td>\n",
              "      <td>snapdragon</td>\n",
              "      <td>8.0</td>\n",
              "      <td>3.20</td>\n",
              "      <td>4450.0</td>\n",
              "      <td>True</td>\n",
              "      <td>125.0</td>\n",
              "      <td>8.0</td>\n",
              "      <td>128.0</td>\n",
              "      <td>6.67</td>\n",
              "      <td>144</td>\n",
              "      <td>1080 x 2400</td>\n",
              "      <td>3</td>\n",
              "      <td>1.0</td>\n",
              "      <td>android</td>\n",
              "      <td>200.0</td>\n",
              "      <td>60.0</td>\n",
              "      <td>False</td>\n",
              "      <td>NaN</td>\n",
              "      <td>1080</td>\n",
              "      <td>2400</td>\n",
              "    </tr>\n",
              "    <tr>\n",
              "      <th>460</th>\n",
              "      <td>nubia</td>\n",
              "      <td>Nubia Z50</td>\n",
              "      <td>419.99</td>\n",
              "      <td>True</td>\n",
              "      <td>True</td>\n",
              "      <td>False</td>\n",
              "      <td>snapdragon</td>\n",
              "      <td>8.0</td>\n",
              "      <td>3.20</td>\n",
              "      <td>5000.0</td>\n",
              "      <td>True</td>\n",
              "      <td>80.0</td>\n",
              "      <td>8.0</td>\n",
              "      <td>128.0</td>\n",
              "      <td>6.67</td>\n",
              "      <td>144</td>\n",
              "      <td>1080 x 2400</td>\n",
              "      <td>3</td>\n",
              "      <td>1.0</td>\n",
              "      <td>android</td>\n",
              "      <td>64.0</td>\n",
              "      <td>16.0</td>\n",
              "      <td>False</td>\n",
              "      <td>NaN</td>\n",
              "      <td>1080</td>\n",
              "      <td>2400</td>\n",
              "    </tr>\n",
              "    <tr>\n",
              "      <th>491</th>\n",
              "      <td>poco</td>\n",
              "      <td>POCO X4 GT 5G</td>\n",
              "      <td>299.88</td>\n",
              "      <td>True</td>\n",
              "      <td>True</td>\n",
              "      <td>True</td>\n",
              "      <td>dimensity</td>\n",
              "      <td>8.0</td>\n",
              "      <td>2.85</td>\n",
              "      <td>5080.0</td>\n",
              "      <td>True</td>\n",
              "      <td>67.0</td>\n",
              "      <td>8.0</td>\n",
              "      <td>128.0</td>\n",
              "      <td>6.60</td>\n",
              "      <td>144</td>\n",
              "      <td>1080 x 2460</td>\n",
              "      <td>3</td>\n",
              "      <td>1.0</td>\n",
              "      <td>android</td>\n",
              "      <td>64.0</td>\n",
              "      <td>16.0</td>\n",
              "      <td>False</td>\n",
              "      <td>NaN</td>\n",
              "      <td>1080</td>\n",
              "      <td>2460</td>\n",
              "    </tr>\n",
              "    <tr>\n",
              "      <th>678</th>\n",
              "      <td>nubia</td>\n",
              "      <td>Nubia Z40 Pro 5G</td>\n",
              "      <td>599.88</td>\n",
              "      <td>True</td>\n",
              "      <td>True</td>\n",
              "      <td>False</td>\n",
              "      <td>snapdragon</td>\n",
              "      <td>8.0</td>\n",
              "      <td>3.00</td>\n",
              "      <td>5000.0</td>\n",
              "      <td>True</td>\n",
              "      <td>80.0</td>\n",
              "      <td>8.0</td>\n",
              "      <td>128.0</td>\n",
              "      <td>6.67</td>\n",
              "      <td>144</td>\n",
              "      <td>1080 x 2400</td>\n",
              "      <td>3</td>\n",
              "      <td>1.0</td>\n",
              "      <td>android</td>\n",
              "      <td>64.0</td>\n",
              "      <td>16.0</td>\n",
              "      <td>False</td>\n",
              "      <td>NaN</td>\n",
              "      <td>1080</td>\n",
              "      <td>2400</td>\n",
              "    </tr>\n",
              "    <tr>\n",
              "      <th>724</th>\n",
              "      <td>xiaomi</td>\n",
              "      <td>Xiaomi Mi 10T Pro 5G</td>\n",
              "      <td>359.99</td>\n",
              "      <td>True</td>\n",
              "      <td>True</td>\n",
              "      <td>True</td>\n",
              "      <td>snapdragon</td>\n",
              "      <td>8.0</td>\n",
              "      <td>2.84</td>\n",
              "      <td>5000.0</td>\n",
              "      <td>True</td>\n",
              "      <td>33.0</td>\n",
              "      <td>8.0</td>\n",
              "      <td>128.0</td>\n",
              "      <td>6.67</td>\n",
              "      <td>144</td>\n",
              "      <td>1080 x 2400</td>\n",
              "      <td>3</td>\n",
              "      <td>1.0</td>\n",
              "      <td>android</td>\n",
              "      <td>108.0</td>\n",
              "      <td>20.0</td>\n",
              "      <td>False</td>\n",
              "      <td>NaN</td>\n",
              "      <td>1080</td>\n",
              "      <td>2400</td>\n",
              "    </tr>\n",
              "    <tr>\n",
              "      <th>743</th>\n",
              "      <td>motorola</td>\n",
              "      <td>Motorola Edge 40 5G</td>\n",
              "      <td>419.99</td>\n",
              "      <td>True</td>\n",
              "      <td>True</td>\n",
              "      <td>False</td>\n",
              "      <td>snapdragon</td>\n",
              "      <td>8.0</td>\n",
              "      <td>2.36</td>\n",
              "      <td>4200.0</td>\n",
              "      <td>True</td>\n",
              "      <td>67.0</td>\n",
              "      <td>8.0</td>\n",
              "      <td>128.0</td>\n",
              "      <td>6.50</td>\n",
              "      <td>144</td>\n",
              "      <td>1080 x 2412</td>\n",
              "      <td>3</td>\n",
              "      <td>1.0</td>\n",
              "      <td>android</td>\n",
              "      <td>50.0</td>\n",
              "      <td>32.0</td>\n",
              "      <td>False</td>\n",
              "      <td>NaN</td>\n",
              "      <td>1080</td>\n",
              "      <td>2412</td>\n",
              "    </tr>\n",
              "    <tr>\n",
              "      <th>781</th>\n",
              "      <td>realme</td>\n",
              "      <td>Realme GT Neo 4T</td>\n",
              "      <td>359.99</td>\n",
              "      <td>True</td>\n",
              "      <td>False</td>\n",
              "      <td>False</td>\n",
              "      <td>snapdragon</td>\n",
              "      <td>8.0</td>\n",
              "      <td>3.00</td>\n",
              "      <td>5000.0</td>\n",
              "      <td>True</td>\n",
              "      <td>120.0</td>\n",
              "      <td>8.0</td>\n",
              "      <td>128.0</td>\n",
              "      <td>6.73</td>\n",
              "      <td>144</td>\n",
              "      <td>1080 x 2400</td>\n",
              "      <td>3</td>\n",
              "      <td>1.0</td>\n",
              "      <td>android</td>\n",
              "      <td>50.0</td>\n",
              "      <td>16.0</td>\n",
              "      <td>False</td>\n",
              "      <td>NaN</td>\n",
              "      <td>1080</td>\n",
              "      <td>2400</td>\n",
              "    </tr>\n",
              "    <tr>\n",
              "      <th>796</th>\n",
              "      <td>xiaomi</td>\n",
              "      <td>Xiaomi Redmi K50 Ultra 5G</td>\n",
              "      <td>479.99</td>\n",
              "      <td>True</td>\n",
              "      <td>True</td>\n",
              "      <td>True</td>\n",
              "      <td>snapdragon</td>\n",
              "      <td>8.0</td>\n",
              "      <td>3.20</td>\n",
              "      <td>5000.0</td>\n",
              "      <td>True</td>\n",
              "      <td>120.0</td>\n",
              "      <td>8.0</td>\n",
              "      <td>128.0</td>\n",
              "      <td>6.67</td>\n",
              "      <td>144</td>\n",
              "      <td>1220 x 2712</td>\n",
              "      <td>3</td>\n",
              "      <td>1.0</td>\n",
              "      <td>android</td>\n",
              "      <td>108.0</td>\n",
              "      <td>20.0</td>\n",
              "      <td>False</td>\n",
              "      <td>NaN</td>\n",
              "      <td>1220</td>\n",
              "      <td>2712</td>\n",
              "    </tr>\n",
              "    <tr>\n",
              "      <th>907</th>\n",
              "      <td>motorola</td>\n",
              "      <td>Motorola Moto Edge X30 Pro</td>\n",
              "      <td>719.88</td>\n",
              "      <td>True</td>\n",
              "      <td>True</td>\n",
              "      <td>False</td>\n",
              "      <td>snapdragon</td>\n",
              "      <td>8.0</td>\n",
              "      <td>3.20</td>\n",
              "      <td>4450.0</td>\n",
              "      <td>True</td>\n",
              "      <td>125.0</td>\n",
              "      <td>8.0</td>\n",
              "      <td>128.0</td>\n",
              "      <td>6.67</td>\n",
              "      <td>144</td>\n",
              "      <td>1080 x 2340</td>\n",
              "      <td>3</td>\n",
              "      <td>1.0</td>\n",
              "      <td>android</td>\n",
              "      <td>200.0</td>\n",
              "      <td>60.0</td>\n",
              "      <td>False</td>\n",
              "      <td>NaN</td>\n",
              "      <td>1080</td>\n",
              "      <td>2340</td>\n",
              "    </tr>\n",
              "    <tr>\n",
              "      <th>964</th>\n",
              "      <td>motorola</td>\n",
              "      <td>Motorola Edge 40 Fusion</td>\n",
              "      <td>515.88</td>\n",
              "      <td>True</td>\n",
              "      <td>True</td>\n",
              "      <td>False</td>\n",
              "      <td>snapdragon</td>\n",
              "      <td>8.0</td>\n",
              "      <td>3.20</td>\n",
              "      <td>4500.0</td>\n",
              "      <td>True</td>\n",
              "      <td>68.0</td>\n",
              "      <td>8.0</td>\n",
              "      <td>128.0</td>\n",
              "      <td>6.67</td>\n",
              "      <td>144</td>\n",
              "      <td>1080 x 2400</td>\n",
              "      <td>3</td>\n",
              "      <td>1.0</td>\n",
              "      <td>android</td>\n",
              "      <td>50.0</td>\n",
              "      <td>32.0</td>\n",
              "      <td>False</td>\n",
              "      <td>NaN</td>\n",
              "      <td>1080</td>\n",
              "      <td>2400</td>\n",
              "    </tr>\n",
              "    <tr>\n",
              "      <th>968</th>\n",
              "      <td>motorola</td>\n",
              "      <td>Motorola ThinkPhone</td>\n",
              "      <td>599.88</td>\n",
              "      <td>True</td>\n",
              "      <td>True</td>\n",
              "      <td>False</td>\n",
              "      <td>snapdragon</td>\n",
              "      <td>8.0</td>\n",
              "      <td>3.20</td>\n",
              "      <td>5000.0</td>\n",
              "      <td>True</td>\n",
              "      <td>68.0</td>\n",
              "      <td>8.0</td>\n",
              "      <td>128.0</td>\n",
              "      <td>6.60</td>\n",
              "      <td>144</td>\n",
              "      <td>1080 x 2400</td>\n",
              "      <td>3</td>\n",
              "      <td>2.0</td>\n",
              "      <td>android</td>\n",
              "      <td>50.0</td>\n",
              "      <td>32.0</td>\n",
              "      <td>False</td>\n",
              "      <td>NaN</td>\n",
              "      <td>1080</td>\n",
              "      <td>2400</td>\n",
              "    </tr>\n",
              "    <tr>\n",
              "      <th>977</th>\n",
              "      <td>poco</td>\n",
              "      <td>POCO X4 GT 5G (8GB RAM + 256GB)</td>\n",
              "      <td>347.88</td>\n",
              "      <td>True</td>\n",
              "      <td>True</td>\n",
              "      <td>True</td>\n",
              "      <td>dimensity</td>\n",
              "      <td>8.0</td>\n",
              "      <td>2.85</td>\n",
              "      <td>5080.0</td>\n",
              "      <td>True</td>\n",
              "      <td>67.0</td>\n",
              "      <td>8.0</td>\n",
              "      <td>256.0</td>\n",
              "      <td>6.60</td>\n",
              "      <td>144</td>\n",
              "      <td>1080 x 2460</td>\n",
              "      <td>3</td>\n",
              "      <td>1.0</td>\n",
              "      <td>android</td>\n",
              "      <td>64.0</td>\n",
              "      <td>16.0</td>\n",
              "      <td>False</td>\n",
              "      <td>NaN</td>\n",
              "      <td>1080</td>\n",
              "      <td>2460</td>\n",
              "    </tr>\n",
              "  </tbody>\n",
              "</table>\n",
              "</div>\n",
              "    <div class=\"colab-df-buttons\">\n",
              "\n",
              "  <div class=\"colab-df-container\">\n",
              "    <button class=\"colab-df-convert\" onclick=\"convertToInteractive('df-6c388af0-57a1-43e1-a5aa-f2927f5c6b3b')\"\n",
              "            title=\"Convert this dataframe to an interactive table.\"\n",
              "            style=\"display:none;\">\n",
              "\n",
              "  <svg xmlns=\"http://www.w3.org/2000/svg\" height=\"24px\" viewBox=\"0 -960 960 960\">\n",
              "    <path d=\"M120-120v-720h720v720H120Zm60-500h600v-160H180v160Zm220 220h160v-160H400v160Zm0 220h160v-160H400v160ZM180-400h160v-160H180v160Zm440 0h160v-160H620v160ZM180-180h160v-160H180v160Zm440 0h160v-160H620v160Z\"/>\n",
              "  </svg>\n",
              "    </button>\n",
              "\n",
              "  <style>\n",
              "    .colab-df-container {\n",
              "      display:flex;\n",
              "      gap: 12px;\n",
              "    }\n",
              "\n",
              "    .colab-df-convert {\n",
              "      background-color: #E8F0FE;\n",
              "      border: none;\n",
              "      border-radius: 50%;\n",
              "      cursor: pointer;\n",
              "      display: none;\n",
              "      fill: #1967D2;\n",
              "      height: 32px;\n",
              "      padding: 0 0 0 0;\n",
              "      width: 32px;\n",
              "    }\n",
              "\n",
              "    .colab-df-convert:hover {\n",
              "      background-color: #E2EBFA;\n",
              "      box-shadow: 0px 1px 2px rgba(60, 64, 67, 0.3), 0px 1px 3px 1px rgba(60, 64, 67, 0.15);\n",
              "      fill: #174EA6;\n",
              "    }\n",
              "\n",
              "    .colab-df-buttons div {\n",
              "      margin-bottom: 4px;\n",
              "    }\n",
              "\n",
              "    [theme=dark] .colab-df-convert {\n",
              "      background-color: #3B4455;\n",
              "      fill: #D2E3FC;\n",
              "    }\n",
              "\n",
              "    [theme=dark] .colab-df-convert:hover {\n",
              "      background-color: #434B5C;\n",
              "      box-shadow: 0px 1px 3px 1px rgba(0, 0, 0, 0.15);\n",
              "      filter: drop-shadow(0px 1px 2px rgba(0, 0, 0, 0.3));\n",
              "      fill: #FFFFFF;\n",
              "    }\n",
              "  </style>\n",
              "\n",
              "    <script>\n",
              "      const buttonEl =\n",
              "        document.querySelector('#df-6c388af0-57a1-43e1-a5aa-f2927f5c6b3b button.colab-df-convert');\n",
              "      buttonEl.style.display =\n",
              "        google.colab.kernel.accessAllowed ? 'block' : 'none';\n",
              "\n",
              "      async function convertToInteractive(key) {\n",
              "        const element = document.querySelector('#df-6c388af0-57a1-43e1-a5aa-f2927f5c6b3b');\n",
              "        const dataTable =\n",
              "          await google.colab.kernel.invokeFunction('convertToInteractive',\n",
              "                                                    [key], {});\n",
              "        if (!dataTable) return;\n",
              "\n",
              "        const docLinkHtml = 'Like what you see? Visit the ' +\n",
              "          '<a target=\"_blank\" href=https://colab.research.google.com/notebooks/data_table.ipynb>data table notebook</a>'\n",
              "          + ' to learn more about interactive tables.';\n",
              "        element.innerHTML = '';\n",
              "        dataTable['output_type'] = 'display_data';\n",
              "        await google.colab.output.renderOutput(dataTable, element);\n",
              "        const docLink = document.createElement('div');\n",
              "        docLink.innerHTML = docLinkHtml;\n",
              "        element.appendChild(docLink);\n",
              "      }\n",
              "    </script>\n",
              "  </div>\n",
              "\n",
              "\n",
              "<div id=\"df-d457f931-2f67-48f3-8038-6c152cbdac2e\">\n",
              "  <button class=\"colab-df-quickchart\" onclick=\"quickchart('df-d457f931-2f67-48f3-8038-6c152cbdac2e')\"\n",
              "            title=\"Suggest charts\"\n",
              "            style=\"display:none;\">\n",
              "\n",
              "<svg xmlns=\"http://www.w3.org/2000/svg\" height=\"24px\"viewBox=\"0 0 24 24\"\n",
              "     width=\"24px\">\n",
              "    <g>\n",
              "        <path d=\"M19 3H5c-1.1 0-2 .9-2 2v14c0 1.1.9 2 2 2h14c1.1 0 2-.9 2-2V5c0-1.1-.9-2-2-2zM9 17H7v-7h2v7zm4 0h-2V7h2v10zm4 0h-2v-4h2v4z\"/>\n",
              "    </g>\n",
              "</svg>\n",
              "  </button>\n",
              "\n",
              "<style>\n",
              "  .colab-df-quickchart {\n",
              "      --bg-color: #E8F0FE;\n",
              "      --fill-color: #1967D2;\n",
              "      --hover-bg-color: #E2EBFA;\n",
              "      --hover-fill-color: #174EA6;\n",
              "      --disabled-fill-color: #AAA;\n",
              "      --disabled-bg-color: #DDD;\n",
              "  }\n",
              "\n",
              "  [theme=dark] .colab-df-quickchart {\n",
              "      --bg-color: #3B4455;\n",
              "      --fill-color: #D2E3FC;\n",
              "      --hover-bg-color: #434B5C;\n",
              "      --hover-fill-color: #FFFFFF;\n",
              "      --disabled-bg-color: #3B4455;\n",
              "      --disabled-fill-color: #666;\n",
              "  }\n",
              "\n",
              "  .colab-df-quickchart {\n",
              "    background-color: var(--bg-color);\n",
              "    border: none;\n",
              "    border-radius: 50%;\n",
              "    cursor: pointer;\n",
              "    display: none;\n",
              "    fill: var(--fill-color);\n",
              "    height: 32px;\n",
              "    padding: 0;\n",
              "    width: 32px;\n",
              "  }\n",
              "\n",
              "  .colab-df-quickchart:hover {\n",
              "    background-color: var(--hover-bg-color);\n",
              "    box-shadow: 0 1px 2px rgba(60, 64, 67, 0.3), 0 1px 3px 1px rgba(60, 64, 67, 0.15);\n",
              "    fill: var(--button-hover-fill-color);\n",
              "  }\n",
              "\n",
              "  .colab-df-quickchart-complete:disabled,\n",
              "  .colab-df-quickchart-complete:disabled:hover {\n",
              "    background-color: var(--disabled-bg-color);\n",
              "    fill: var(--disabled-fill-color);\n",
              "    box-shadow: none;\n",
              "  }\n",
              "\n",
              "  .colab-df-spinner {\n",
              "    border: 2px solid var(--fill-color);\n",
              "    border-color: transparent;\n",
              "    border-bottom-color: var(--fill-color);\n",
              "    animation:\n",
              "      spin 1s steps(1) infinite;\n",
              "  }\n",
              "\n",
              "  @keyframes spin {\n",
              "    0% {\n",
              "      border-color: transparent;\n",
              "      border-bottom-color: var(--fill-color);\n",
              "      border-left-color: var(--fill-color);\n",
              "    }\n",
              "    20% {\n",
              "      border-color: transparent;\n",
              "      border-left-color: var(--fill-color);\n",
              "      border-top-color: var(--fill-color);\n",
              "    }\n",
              "    30% {\n",
              "      border-color: transparent;\n",
              "      border-left-color: var(--fill-color);\n",
              "      border-top-color: var(--fill-color);\n",
              "      border-right-color: var(--fill-color);\n",
              "    }\n",
              "    40% {\n",
              "      border-color: transparent;\n",
              "      border-right-color: var(--fill-color);\n",
              "      border-top-color: var(--fill-color);\n",
              "    }\n",
              "    60% {\n",
              "      border-color: transparent;\n",
              "      border-right-color: var(--fill-color);\n",
              "    }\n",
              "    80% {\n",
              "      border-color: transparent;\n",
              "      border-right-color: var(--fill-color);\n",
              "      border-bottom-color: var(--fill-color);\n",
              "    }\n",
              "    90% {\n",
              "      border-color: transparent;\n",
              "      border-bottom-color: var(--fill-color);\n",
              "    }\n",
              "  }\n",
              "</style>\n",
              "\n",
              "  <script>\n",
              "    async function quickchart(key) {\n",
              "      const quickchartButtonEl =\n",
              "        document.querySelector('#' + key + ' button');\n",
              "      quickchartButtonEl.disabled = true;  // To prevent multiple clicks.\n",
              "      quickchartButtonEl.classList.add('colab-df-spinner');\n",
              "      try {\n",
              "        const charts = await google.colab.kernel.invokeFunction(\n",
              "            'suggestCharts', [key], {});\n",
              "      } catch (error) {\n",
              "        console.error('Error during call to suggestCharts:', error);\n",
              "      }\n",
              "      quickchartButtonEl.classList.remove('colab-df-spinner');\n",
              "      quickchartButtonEl.classList.add('colab-df-quickchart-complete');\n",
              "    }\n",
              "    (() => {\n",
              "      let quickchartButtonEl =\n",
              "        document.querySelector('#df-d457f931-2f67-48f3-8038-6c152cbdac2e button');\n",
              "      quickchartButtonEl.style.display =\n",
              "        google.colab.kernel.accessAllowed ? 'block' : 'none';\n",
              "    })();\n",
              "  </script>\n",
              "</div>\n",
              "\n",
              "    </div>\n",
              "  </div>\n"
            ],
            "application/vnd.google.colaboratory.intrinsic+json": {
              "type": "dataframe"
            }
          },
          "metadata": {},
          "execution_count": 93
        }
      ]
    }
  ]
}